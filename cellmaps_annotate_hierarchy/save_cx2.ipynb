{
 "cells": [
  {
   "cell_type": "code",
   "execution_count": null,
   "id": "e7a8af2a-1569-42ae-8b14-cb83c9328529",
   "metadata": {},
   "outputs": [],
   "source": []
  },
  {
   "cell_type": "code",
   "execution_count": null,
   "id": "edc56222-1669-45e7-a68e-d12225884a36",
   "metadata": {},
   "outputs": [],
   "source": []
  },
  {
   "cell_type": "code",
   "execution_count": 1,
   "id": "cf193ae8-add5-459f-894b-2ff8c79d6ca0",
   "metadata": {},
   "outputs": [],
   "source": [
    "from ndex2.client import Ndex2"
   ]
  },
  {
   "cell_type": "code",
   "execution_count": 2,
   "id": "15954238-ed7d-4b48-97bb-d3ec3dfbba1f",
   "metadata": {},
   "outputs": [],
   "source": [
    "import ndex2.client"
   ]
  },
  {
   "cell_type": "code",
   "execution_count": null,
   "id": "51821e75-a315-4ceb-b0a8-60b929aaabff",
   "metadata": {},
   "outputs": [],
   "source": []
  },
  {
   "cell_type": "code",
   "execution_count": 14,
   "id": "e1c22d90-4e3f-4581-8ef5-84c11c4cbc63",
   "metadata": {},
   "outputs": [],
   "source": [
    "client = Ndex2(skip_version_check=True)\n"
   ]
  },
  {
   "cell_type": "code",
   "execution_count": 15,
   "id": "db8df0e0-20bd-4289-855a-34ac1e2faa1b",
   "metadata": {
    "collapsed": true,
    "jupyter": {
     "outputs_hidden": true
    },
    "tags": []
   },
   "outputs": [
    {
     "ename": "NDExUnauthorizedError",
     "evalue": "Caught 401 from server: {\"errorCode\":\"NDEx_Unauthorized_Operation_Exception\",\"message\":\"User doesn't have read access to this network.\",\"threadId\":\"47\",\"timeStamp\":\"2023-04-25 11:13:09,128\"}",
     "output_type": "error",
     "traceback": [
      "\u001b[0;31m---------------------------------------------------------------------------\u001b[0m",
      "\u001b[0;31mHTTPError\u001b[0m                                 Traceback (most recent call last)",
      "\u001b[0;32m~/opt/miniconda3/envs/ddot/lib/python3.7/site-packages/ndex2/client.py\u001b[0m in \u001b[0;36mget_network_as_cx2_stream\u001b[0;34m(self, network_id, access_key)\u001b[0m\n\u001b[1;32m    738\u001b[0m                                    \u001b[0mget_params\u001b[0m\u001b[0;34m=\u001b[0m\u001b[0mget_params\u001b[0m\u001b[0;34m,\u001b[0m\u001b[0;34m\u001b[0m\u001b[0;34m\u001b[0m\u001b[0m\n\u001b[0;32m--> 739\u001b[0;31m                                    alt_version_endpoint=Ndex2.V3_ENDPOINT)\n\u001b[0m\u001b[1;32m    740\u001b[0m         \u001b[0;32mexcept\u001b[0m \u001b[0mrequests\u001b[0m\u001b[0;34m.\u001b[0m\u001b[0mHTTPError\u001b[0m \u001b[0;32mas\u001b[0m \u001b[0mhe\u001b[0m\u001b[0;34m:\u001b[0m\u001b[0;34m\u001b[0m\u001b[0;34m\u001b[0m\u001b[0m\n",
      "\u001b[0;32m~/opt/miniconda3/envs/ddot/lib/python3.7/site-packages/ndex2/client.py\u001b[0m in \u001b[0;36mget_stream\u001b[0;34m(self, route, get_params, alt_version_endpoint)\u001b[0m\n\u001b[1;32m    361\u001b[0m         return self._return_response(response,\n\u001b[0;32m--> 362\u001b[0;31m                                      returnfullresponse=True)\n\u001b[0m\u001b[1;32m    363\u001b[0m \u001b[0;34m\u001b[0m\u001b[0m\n",
      "\u001b[0;32m~/opt/miniconda3/envs/ddot/lib/python3.7/site-packages/ndex2/client.py\u001b[0m in \u001b[0;36m_return_response\u001b[0;34m(self, response, raiseforstatus, returnfullresponse, returnjsonundertry)\u001b[0m\n\u001b[1;32m    218\u001b[0m         \u001b[0;32mif\u001b[0m \u001b[0mraiseforstatus\u001b[0m\u001b[0;34m:\u001b[0m\u001b[0;34m\u001b[0m\u001b[0;34m\u001b[0m\u001b[0m\n\u001b[0;32m--> 219\u001b[0;31m             \u001b[0mresponse\u001b[0m\u001b[0;34m.\u001b[0m\u001b[0mraise_for_status\u001b[0m\u001b[0;34m(\u001b[0m\u001b[0;34m)\u001b[0m\u001b[0;34m\u001b[0m\u001b[0;34m\u001b[0m\u001b[0m\n\u001b[0m\u001b[1;32m    220\u001b[0m         \u001b[0;32mif\u001b[0m \u001b[0mreturnfullresponse\u001b[0m \u001b[0;32mis\u001b[0m \u001b[0;32mTrue\u001b[0m\u001b[0;34m:\u001b[0m\u001b[0;34m\u001b[0m\u001b[0;34m\u001b[0m\u001b[0m\n",
      "\u001b[0;32m~/opt/miniconda3/envs/ddot/lib/python3.7/site-packages/requests/models.py\u001b[0m in \u001b[0;36mraise_for_status\u001b[0;34m(self)\u001b[0m\n\u001b[1;32m   1020\u001b[0m         \u001b[0;32mif\u001b[0m \u001b[0mhttp_error_msg\u001b[0m\u001b[0;34m:\u001b[0m\u001b[0;34m\u001b[0m\u001b[0;34m\u001b[0m\u001b[0m\n\u001b[0;32m-> 1021\u001b[0;31m             \u001b[0;32mraise\u001b[0m \u001b[0mHTTPError\u001b[0m\u001b[0;34m(\u001b[0m\u001b[0mhttp_error_msg\u001b[0m\u001b[0;34m,\u001b[0m \u001b[0mresponse\u001b[0m\u001b[0;34m=\u001b[0m\u001b[0mself\u001b[0m\u001b[0;34m)\u001b[0m\u001b[0;34m\u001b[0m\u001b[0;34m\u001b[0m\u001b[0m\n\u001b[0m\u001b[1;32m   1022\u001b[0m \u001b[0;34m\u001b[0m\u001b[0m\n",
      "\u001b[0;31mHTTPError\u001b[0m: 401 Client Error: 401 for url: http://public.ndexbio.org/v3/networks/b0da217a-e344-11ed-b4a3-005056ae23aa",
      "\nDuring handling of the above exception, another exception occurred:\n",
      "\u001b[0;31mNDExUnauthorizedError\u001b[0m                     Traceback (most recent call last)",
      "\u001b[0;32m/var/folders/jy/c0n51pcs2sn_m_13_ynn7chh0000gn/T/ipykernel_87619/2022973821.py\u001b[0m in \u001b[0;36m<module>\u001b[0;34m\u001b[0m\n\u001b[0;32m----> 1\u001b[0;31m \u001b[0mclient_resp\u001b[0m \u001b[0;34m=\u001b[0m \u001b[0mclient\u001b[0m\u001b[0;34m.\u001b[0m\u001b[0mget_network_as_cx2_stream\u001b[0m\u001b[0;34m(\u001b[0m\u001b[0;34m'b0da217a-e344-11ed-b4a3-005056ae23aa'\u001b[0m\u001b[0;34m)\u001b[0m\u001b[0;34m\u001b[0m\u001b[0;34m\u001b[0m\u001b[0m\n\u001b[0m",
      "\u001b[0;32m~/opt/miniconda3/envs/ddot/lib/python3.7/site-packages/ndex2/client.py\u001b[0m in \u001b[0;36mget_network_as_cx2_stream\u001b[0;34m(self, network_id, access_key)\u001b[0m\n\u001b[1;32m    739\u001b[0m                                    alt_version_endpoint=Ndex2.V3_ENDPOINT)\n\u001b[1;32m    740\u001b[0m         \u001b[0;32mexcept\u001b[0m \u001b[0mrequests\u001b[0m\u001b[0;34m.\u001b[0m\u001b[0mHTTPError\u001b[0m \u001b[0;32mas\u001b[0m \u001b[0mhe\u001b[0m\u001b[0;34m:\u001b[0m\u001b[0;34m\u001b[0m\u001b[0;34m\u001b[0m\u001b[0m\n\u001b[0;32m--> 741\u001b[0;31m             \u001b[0mself\u001b[0m\u001b[0;34m.\u001b[0m\u001b[0m_convert_requests_http_error_to_ndex_error\u001b[0m\u001b[0;34m(\u001b[0m\u001b[0mhe\u001b[0m\u001b[0;34m)\u001b[0m\u001b[0;34m\u001b[0m\u001b[0;34m\u001b[0m\u001b[0m\n\u001b[0m\u001b[1;32m    742\u001b[0m         \u001b[0;32mexcept\u001b[0m \u001b[0mException\u001b[0m \u001b[0;32mas\u001b[0m \u001b[0me\u001b[0m\u001b[0;34m:\u001b[0m\u001b[0;34m\u001b[0m\u001b[0;34m\u001b[0m\u001b[0m\n\u001b[1;32m    743\u001b[0m             \u001b[0mself\u001b[0m\u001b[0;34m.\u001b[0m\u001b[0m_convert_exception_to_ndex_error\u001b[0m\u001b[0;34m(\u001b[0m\u001b[0me\u001b[0m\u001b[0;34m)\u001b[0m\u001b[0;34m\u001b[0m\u001b[0;34m\u001b[0m\u001b[0m\n",
      "\u001b[0;32m~/opt/miniconda3/envs/ddot/lib/python3.7/site-packages/ndex2/client.py\u001b[0m in \u001b[0;36m_convert_requests_http_error_to_ndex_error\u001b[0;34m(self, http_error)\u001b[0m\n\u001b[1;32m    257\u001b[0m             \u001b[0;32mraise\u001b[0m \u001b[0mNDExNotFoundError\u001b[0m\u001b[0;34m(\u001b[0m\u001b[0merrmsg\u001b[0m\u001b[0;34m)\u001b[0m\u001b[0;34m\u001b[0m\u001b[0;34m\u001b[0m\u001b[0m\n\u001b[1;32m    258\u001b[0m         \u001b[0;32mif\u001b[0m \u001b[0mhttp_error\u001b[0m\u001b[0;34m.\u001b[0m\u001b[0mresponse\u001b[0m\u001b[0;34m.\u001b[0m\u001b[0mstatus_code\u001b[0m \u001b[0;34m==\u001b[0m \u001b[0;36m401\u001b[0m\u001b[0;34m:\u001b[0m\u001b[0;34m\u001b[0m\u001b[0;34m\u001b[0m\u001b[0m\n\u001b[0;32m--> 259\u001b[0;31m             \u001b[0;32mraise\u001b[0m \u001b[0mNDExUnauthorizedError\u001b[0m\u001b[0;34m(\u001b[0m\u001b[0merrmsg\u001b[0m\u001b[0;34m)\u001b[0m\u001b[0;34m\u001b[0m\u001b[0;34m\u001b[0m\u001b[0m\n\u001b[0m\u001b[1;32m    260\u001b[0m         \u001b[0;32mraise\u001b[0m \u001b[0mNDExError\u001b[0m\u001b[0;34m(\u001b[0m\u001b[0merrmsg\u001b[0m\u001b[0;34m)\u001b[0m\u001b[0;34m\u001b[0m\u001b[0;34m\u001b[0m\u001b[0m\n\u001b[1;32m    261\u001b[0m \u001b[0;34m\u001b[0m\u001b[0m\n",
      "\u001b[0;31mNDExUnauthorizedError\u001b[0m: Caught 401 from server: {\"errorCode\":\"NDEx_Unauthorized_Operation_Exception\",\"message\":\"User doesn't have read access to this network.\",\"threadId\":\"47\",\"timeStamp\":\"2023-04-25 11:13:09,128\"}"
     ]
    }
   ],
   "source": [
    "client_resp = client.get_network_as_cx2_stream('b0da217a-e344-11ed-b4a3-005056ae23aa')"
   ]
  },
  {
   "cell_type": "code",
   "execution_count": null,
   "id": "a787ae9a-ed08-4a5b-bcfe-30ea055f23e2",
   "metadata": {},
   "outputs": [],
   "source": [
    "\n",
    "# 7fc.. is UUID MuSIC v1 network: http://doi.org/10.1038/s41586-021-04115-9\n",
    "\n",
    "\n",
    "# for HTTP status code, 200 means success\n",
    "print(client_resp.status_code)\n",
    "\n",
    "# for smaller networks one can get the CX2 by calling:\n",
    "print(client_resp.json())"
   ]
  },
  {
   "cell_type": "code",
   "execution_count": null,
   "id": "1dabe147-6407-4e6d-8c09-360e69e39e63",
   "metadata": {},
   "outputs": [],
   "source": [
    "ont.to"
   ]
  }
 ],
 "metadata": {
  "kernelspec": {
   "display_name": "Python3 (ddot)”\n\n",
   "language": "python",
   "name": "ddot"
  },
  "language_info": {
   "codemirror_mode": {
    "name": "ipython",
    "version": 3
   },
   "file_extension": ".py",
   "mimetype": "text/x-python",
   "name": "python",
   "nbconvert_exporter": "python",
   "pygments_lexer": "ipython3",
   "version": "3.7.13"
  }
 },
 "nbformat": 4,
 "nbformat_minor": 5
}
