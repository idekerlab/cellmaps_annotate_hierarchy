{
 "cells": [
  {
   "cell_type": "code",
   "execution_count": 11,
   "id": "6e1115b6",
   "metadata": {},
   "outputs": [],
   "source": [
    "import ndex2 as nc\n",
    "\n",
    "ndexuser = \"examplemodel\"\n",
    "ndexpassword = \"modelx\"\n",
    "SERVER = 'http://ndexbio.org'\n",
    "ndex_client = nc.Ndex2(\"http://public.ndexbio.org\")"
   ]
  },
  {
   "cell_type": "code",
   "execution_count": 16,
   "id": "a362014d",
   "metadata": {},
   "outputs": [],
   "source": [
    "model_uuid = \"aa97afe8-ead3-11ed-b4a3-005056ae23aa\"\n",
    "interactome_uuid = \"f7a218c0-2376-11ea-bb65-0ac135e8bacf\"\n",
    "\n",
    "model = nc.create_nice_cx_from_server(SERVER, uuid=model_uuid)\n"
   ]
  },
  {
   "cell_type": "code",
   "execution_count": 27,
   "id": "17c34f34",
   "metadata": {},
   "outputs": [],
   "source": [
    "def process_model(model, interactome):\n",
    "    for system_id, system in model.get_nodes():\n",
    "        process_system(system)\n",
    "        \n",
    "def process_system(system, interactome):\n",
    "    if system is not None:\n",
    "        system_name = system[\"n\"]\n",
    "        print(system_name)\n",
    "        genes = model.get_node_attribute_value(system, \"CD_MemberList\")\n",
    "        print(genes)\n",
    "        cx_data = ndex_client.get_interconnectquery(interactome_uuid, genes,\n",
    "                              search_depth=1, edge_limit=2500,\n",
    "                              error_when_limit=True)\n",
    "        nice_cx = nc.create_nice_cx_from_raw_cx(cx_data)\n",
    "        nice_cx.set_name(system_name)\n",
    "        print(nice_cx)\n",
    "        system_uuid = nice_cx.upload_to('www.ndexbio.org', ndexuser, ndexpassword).split('/')[-1]\n",
    "        system_link = f'https://www.ndexbio.org/viewer/networks/{system_uuid}'\n",
    "        return system_uuid, system_link\n",
    "    \n",
    "def process_system_by_name(model, interactome_uuid, system_name):\n",
    "    for system_id, system in model.get_nodes():\n",
    "        name = system.get(\"n\")\n",
    "        if name == system_name:\n",
    "            print(system_name)\n",
    "            system_uuid, system_link = process_system(system, interactome_uuid)\n",
    "            return system_uuid, system_link\n",
    "            \n"
   ]
  },
  {
   "cell_type": "code",
   "execution_count": 29,
   "id": "ff3d9c51",
   "metadata": {},
   "outputs": [
    {
     "name": "stdout",
     "output_type": "stream",
     "text": [
      "C2419\n",
      "C2419\n",
      "SMARCC1 SMARCC2 SMARCD2 SMARCD3\n",
      "nodes: 4 \n",
      " edges: 3\n",
      "Generating CX\n"
     ]
    },
    {
     "data": {
      "text/plain": [
       "'https://www.ndexbio.org/viewer/networks/261ec418-f5a6-11ed-aa50-005056ae23aa'"
      ]
     },
     "execution_count": 29,
     "metadata": {},
     "output_type": "execute_result"
    }
   ],
   "source": [
    "uuid, link = process_system_by_name(model, interactome, \"C2419\")\n",
    "link"
   ]
  },
  {
   "cell_type": "code",
   "execution_count": null,
   "id": "a833bbbd",
   "metadata": {},
   "outputs": [],
   "source": []
  }
 ],
 "metadata": {
  "kernelspec": {
   "display_name": "Python 3 (ipykernel)",
   "language": "python",
   "name": "python3"
  },
  "language_info": {
   "codemirror_mode": {
    "name": "ipython",
    "version": 3
   },
   "file_extension": ".py",
   "mimetype": "text/x-python",
   "name": "python",
   "nbconvert_exporter": "python",
   "pygments_lexer": "ipython3",
   "version": "3.9.7"
  }
 },
 "nbformat": 4,
 "nbformat_minor": 5
}
