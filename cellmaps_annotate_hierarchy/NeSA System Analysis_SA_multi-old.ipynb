{
 "cells": [
  {
   "cell_type": "markdown",
   "id": "da41b9ff",
   "metadata": {},
   "source": [
    "### Load the multi-scale map\n"
   ]
  },
  {
   "cell_type": "code",
   "execution_count": 1,
   "id": "b5e3b07f-c223-46a9-b6d4-903f1612f1de",
   "metadata": {},
   "outputs": [],
   "source": [
    "import sys,os,os.path\n",
    "os.environ['MODEL_ANNOTATION_ROOT']='Desktop/projects/model_annotation/'"
   ]
  },
  {
   "cell_type": "code",
   "execution_count": 2,
   "id": "a3410635-9b92-491c-b521-78383337a8f0",
   "metadata": {},
   "outputs": [
    {
     "data": {
      "text/plain": [
       "'Desktop/projects/model_annotation/'"
      ]
     },
     "execution_count": 2,
     "metadata": {},
     "output_type": "execute_result"
    }
   ],
   "source": [
    "os.getenv(\"MODEL_ANNOTATION_ROOT\")"
   ]
  },
  {
   "cell_type": "code",
   "execution_count": 3,
   "id": "df870ed3-1f25-43a3-801e-efdab05ca4ed",
   "metadata": {},
   "outputs": [],
   "source": [
    "## Parameters to edit\n",
    "runMode   = \"test\" # \"test\",  \"full\"\n",
    "sizeThresh = 50 # ToDo: use third quartile value\n",
    "fixGeneNames = True "
   ]
  },
  {
   "cell_type": "markdown",
   "id": "539f04d3-6f46-422b-bfe2-9d00ecedd49d",
   "metadata": {},
   "source": [
    "### Load the libraries and functions"
   ]
  },
  {
   "cell_type": "code",
   "execution_count": 5,
   "id": "00845c64-d1ca-4a10-9e45-35602636d520",
   "metadata": {},
   "outputs": [],
   "source": [
    "import os\n",
    "import pandas as pd\n",
    "import json\n",
    "import networkx as nx\n",
    "\n",
    "from file_io import get_model_directory_path, read_system_json, write_system_json, write_system_tsv, get_root_path\n",
    "from model_cx2 import get_system, get_genes\n",
    "from hugo import get_hugo_data\n",
    "from uniprot import get_uniprot_data_for_system, summarize_uniprot_features, summarized_uniprot_features_to_tsv\n",
    "from io import StringIO\n",
    "from chatgpt_prompts import create_system_prompt_page, create_nesa_chatGPT_prompt, add_uniprot_feature_summary\n",
    "from pages import write_system_page, write_model_page, dataframe_to_html_table\n",
    "import cx2_network\n",
    "\n"
   ]
  },
  {
   "cell_type": "code",
   "execution_count": 6,
   "id": "33247ec6-0920-4818-973b-67eaa0c98bd5",
   "metadata": {},
   "outputs": [
    {
     "name": "stderr",
     "output_type": "stream",
     "text": [
      "/Users/salkhairy/Desktop/projects/cellmaps_annotate_hierarchy/cellmaps_annotate_hierarchy/FixGeneSymbols.py:15: DtypeWarning: Columns (32,34,38,40,50) have mixed types. Specify dtype option on import or set low_memory=False.\n",
      "  hgnc_raw_DF = pd.read_csv('lib/hgnc_idsymbolnamelocus_grouplocus_typestatus.txt', sep = '\\t', dtype = {'hgnc_id': str, 'uniprot_ids': str, 'symbol':str})\n"
     ]
    }
   ],
   "source": [
    "import FixGeneSymbols"
   ]
  },
  {
   "cell_type": "code",
   "execution_count": null,
   "id": "3cafc144-b440-4e74-8403-c748876f3f07",
   "metadata": {},
   "outputs": [],
   "source": []
  },
  {
   "cell_type": "code",
   "execution_count": 7,
   "id": "86980667-10bf-4ff8-b799-88da69d6d3c8",
   "metadata": {
    "tags": []
   },
   "outputs": [],
   "source": [
    "def dataframe_to_dict(df):\n",
    "    \"\"\"\n",
    "    Convert a pandas DataFrame into a dictionary indexed by the first column.\n",
    "\n",
    "    :param df: The pandas DataFrame to convert.\n",
    "    :return: A dictionary indexed by the first column.\n",
    "    \"\"\"\n",
    "    # Set the index to be the first column\n",
    "    df = df.set_index(df.columns[0])\n",
    "\n",
    "    # Convert the DataFrame to a dictionary\n",
    "    result_dict = df.to_dict(orient='index')\n",
    "\n",
    "    return result_dict\n",
    "\n",
    "def make_gene_candidacy_text(gene_data, selected_genes):\n",
    "    attribute_descriptions = {\n",
    "        'hasHighConfidenceMut': \"Genes with high confidence mutation in ASD-diagnosed individuals:\",\n",
    "        'in_WES_2020': \"ASD-risk genes identified in Satterstrom et al., 2020:\",\n",
    "       # 'in_WES_2022': \"ASD-risk genes identified in Fu et al., 2022:\",\n",
    "        'connectedToASDPPI': \"Proteins connected to ASD-risk proteins (AP-MS experiment):\" # ASD-PPI preys\n",
    "\n",
    "      #  'in_SFARI_cat_2_3': \"ASD-risk in SFARI categories 2 and 3:\"\n",
    "    }\n",
    "    attributes = {key: [] for key in attribute_descriptions.keys()}\n",
    "\n",
    "    for gene, attributes_data in gene_data.items():\n",
    "        if gene not in selected_genes:\n",
    "            continue\n",
    "        for attribute in attributes.keys():\n",
    "            if attributes_data[attribute] == 1:\n",
    "                attributes[attribute].append(gene)\n",
    "\n",
    "    text_output = ''\n",
    "    for attribute, genes in attributes.items():\n",
    "        if len(genes) != 0:\n",
    "            gene_list = ', '.join(genes)\n",
    "            text_output += f\"{attribute_descriptions[attribute]} {gene_list}\\n\"\n",
    "\n",
    "    return text_output.strip()"
   ]
  },
  {
   "cell_type": "code",
   "execution_count": 8,
   "id": "d0c889b9-164c-4cc7-a534-dbbbd9408af0",
   "metadata": {
    "tags": []
   },
   "outputs": [],
   "source": [
    "def create_nesa_system_analysis_page(model_name, version, system_name, protein_list, tsv_data, n_genes=2):\n",
    "\n",
    "\n",
    "    # Read the TSV data into a DataFrame\n",
    "    tsv_file = StringIO(tsv_data)\n",
    "    df = pd.read_csv(tsv_file, sep='\\t')\n",
    "\n",
    "    # Filter the DataFrame based on the n_genes criterion\n",
    "    df = df[df['Number of Genes'] >= n_genes]\n",
    "    \n",
    "    uniprot_table = dataframe_to_html_table(df)\n",
    "\n",
    "    # Create the ChatGPT analysis section with a placeholder for the analysis text\n",
    "    chatgpt_analysis = \"<h2>ChatGPT 4 Analysis</h2>\\n<p>Paste ChatGPT analysis here:</p>\\n<!-- Analysis goes here -->\"\n",
    "\n",
    "    page_title = f\"{system_name} Summary\"\n",
    "    \n",
    "    # Create the HTML page with the system summary\n",
    "    html_page = f\"<!DOCTYPE html>\\n<html>\\n<head>\\n<title>{page_title}</title>\\n<style>\\n \\\n",
    "              body {{background-color: skyblue;}} \\n \\\n",
    "              h1, h2 {{color: white; font-family: 'Roboto', sans-serif;}} \\n \\\n",
    "              </style>\\n</head>\\n<body>\\n<h1>{system_name} System Summary</h1>\\n \\\n",
    "              <h2>{model_name}: {version}</h2>\\n \\\n",
    "              \\n{chatgpt_analysis}\\\n",
    "              <h2>Proteins</h2>\\n<p>{', '.join(protein_list)}</p>\\n \\\n",
    "              <h2>UniProt Data</h2>\\n{uniprot_table}\\n \\\n",
    "              </body>\\n</html>\"\n",
    "    \n",
    "    #html_page = f\"<!DOCTYPE html>\\n<html>\\n<head>\\n<title>{page_title}</title>\\n</head>\\n<body>\\n<h1>{system_name} System Summary</h1>\\n<h2>Proteins</h2>\\n<p>{', '.join(protein_list)}</p>\\n<h2>UniProt Data</h2>\\n{uniprot_table}\\n{chatgpt_analysis}\\n</body>\\n</html>\"\n",
    "\n",
    "    return html_page"
   ]
  },
  {
   "cell_type": "markdown",
   "id": "13e2988e-7f05-4ac9-ad39-3e0bd596b7ee",
   "metadata": {},
   "source": [
    "## Multi-scale map level "
   ]
  },
  {
   "cell_type": "code",
   "execution_count": 9,
   "id": "34370249-a2fa-435c-ae52-d695514ec9d9",
   "metadata": {},
   "outputs": [
    {
     "name": "stdout",
     "output_type": "stream",
     "text": [
      "/Users/salkhairy/Desktop/projects/model_annotation/nesa/Krogan_230424\n",
      "/Users/salkhairy/Desktop/projects/model_annotation/nesa/Krogan_230424/hidef_50_0.75_5_leiden.edges.cx2\n"
     ]
    }
   ],
   "source": [
    "model_name = \"nesa\"\n",
    "version = \"Krogan_230424\"\n",
    "model_cx2_filename = \"hidef_50_0.75_5_leiden.edges.cx2\"\n",
    "print(get_model_directory_path(model_name, version))\n",
    "model_path = os.path.join(get_model_directory_path(model_name, version), model_cx2_filename)\n",
    "print(model_path)\n",
    "with open(model_path, encoding='utf-8') as f:\n",
    "    data = f.read()\n",
    "    model = json.loads(data)\n",
    "#print(model)"
   ]
  },
  {
   "cell_type": "code",
   "execution_count": null,
   "id": "b0c37d2e-3a8e-4e7b-8438-c8456a592214",
   "metadata": {
    "tags": []
   },
   "outputs": [],
   "source": [
    "# print(model)"
   ]
  },
  {
   "cell_type": "code",
   "execution_count": 11,
   "id": "58e46de2-6066-45bd-be4c-70ad8585270d",
   "metadata": {},
   "outputs": [],
   "source": [
    "# This NeSA-specific excel spreadsheet contains ASD gene candidacy information\n",
    "# Set the file path for 'geneCandidacy_DF.xlsx' in the 'nesa' folder\n",
    "file_path = os.path.join(get_model_directory_path(model_name, version ), 'geneCandidacy_DF.xlsx')  # SA: Note \n",
    "\n",
    "# Load the first worksheet of the Excel file into a DataFrame\n",
    "df = pd.read_excel(file_path, sheet_name=0)\n",
    "\n",
    "# Convert the DataFrame to a dictionary indexed by the first column\n",
    "gene_data = dataframe_to_dict(df)\n"
   ]
  },
  {
   "cell_type": "markdown",
   "id": "4a3a5b93-855a-4623-bbed-391c65c3701a",
   "metadata": {},
   "source": [
    "### Perform topological sorting of systems"
   ]
  },
  {
   "cell_type": "code",
   "execution_count": null,
   "id": "487caeb3-e736-494d-9830-679df3736a86",
   "metadata": {},
   "outputs": [],
   "source": [
    "## Done using R's igraph package because Python has major limitations"
   ]
  },
  {
   "cell_type": "code",
   "execution_count": null,
   "id": "aaa974fc",
   "metadata": {},
   "outputs": [],
   "source": [
    "import subprocess"
   ]
  },
  {
   "cell_type": "code",
   "execution_count": null,
   "id": "d9dfff70-8a26-4849-ab95-dc8567ea584b",
   "metadata": {},
   "outputs": [],
   "source": [
    "modelPath = get_model_directory_path(model_name, version )"
   ]
  },
  {
   "cell_type": "code",
   "execution_count": null,
   "id": "7ca85459-0c2a-4d27-a056-c41868f2cd8c",
   "metadata": {},
   "outputs": [],
   "source": [
    "edgesFile = 'hidef_50_0.75_5_leiden.edges'"
   ]
  },
  {
   "cell_type": "code",
   "execution_count": null,
   "id": "b2609806-1744-432c-b70b-1c1a45b20473",
   "metadata": {
    "tags": []
   },
   "outputs": [],
   "source": [
    "subprocess.run(['/usr/local/bin/Rscript --vanilla TopologicalSorting.R ' + modelPath + ' ' + edgesFile], shell=True) \n"
   ]
  },
  {
   "cell_type": "code",
   "execution_count": null,
   "id": "d513d388-9a5d-426f-99d8-c96cbedcc567",
   "metadata": {},
   "outputs": [],
   "source": [
    "topologicalSort_DF = pd.read_csv(os.path.join(get_model_directory_path(model_name, version ), 'topologicalSort_DF.txt'), sep=\"\\t\", header=None)"
   ]
  },
  {
   "cell_type": "code",
   "execution_count": null,
   "id": "39808f63-bfeb-4292-987a-fd3f0e963a9c",
   "metadata": {},
   "outputs": [],
   "source": [
    "topologicalSort_list = list(topologicalSort_DF.iloc[:,0])"
   ]
  },
  {
   "cell_type": "code",
   "execution_count": null,
   "id": "0df9180a-ba8e-4917-ae3b-394990cf9c4b",
   "metadata": {
    "tags": []
   },
   "outputs": [],
   "source": [
    "topologicalSort_list"
   ]
  },
  {
   "cell_type": "markdown",
   "id": "c3b35fdb-0654-4dab-b769-31079c6b423f",
   "metadata": {},
   "source": [
    "## System level "
   ]
  },
  {
   "cell_type": "code",
   "execution_count": null,
   "id": "57e4a3cf-fa5b-41d1-be40-915ac6fa7d9f",
   "metadata": {},
   "outputs": [],
   "source": [
    "# system_name_list = [\"Cluster5-3\", \"Cluster4-10\", \"Cluster1-26\", \"Cluster3-16\" , \"Cluster7-0\", \"Cluster5-8\", \"Cluster4-14\", \"Cluster2-41\", \"Cluster2-20\"]"
   ]
  },
  {
   "cell_type": "code",
   "execution_count": 12,
   "id": "2706757e-3ded-48ca-a09b-735c69b2a3c3",
   "metadata": {},
   "outputs": [],
   "source": [
    "if runMode == \"test\":\n",
    "    system_name_list = [\"Cluster5-3\"]#, \"Cluster4-10\", \"Cluster1-26\", \"Cluster3-16\" , \"Cluster7-0\", \"Cluster5-8\", \"Cluster4-14\", \"Cluster2-41\", \"Cluster2-20\"]\n",
    "else:\n",
    "    system_name_list = topologicalSort_list[1:5]"
   ]
  },
  {
   "cell_type": "code",
   "execution_count": 62,
   "id": "fefd6f66-f8f4-4fc2-a9a7-091e5d9b3e5b",
   "metadata": {},
   "outputs": [],
   "source": [
    "def getSystemIndex(model, system_name):\n",
    "    systemList = model[4]['nodes']\n",
    "    for systemInd in range(len(systemList)):\n",
    "        if systemList[systemInd]['v']['n'] == system_name:\n",
    "            return systemInd"
   ]
  },
  {
   "cell_type": "code",
   "execution_count": null,
   "id": "bdbe6e37-8101-4a0b-b82c-76faedb8d216",
   "metadata": {},
   "outputs": [],
   "source": [
    "def set_genes(model, system_name, genes_fixed_str):\n",
    "    systemInd = getSystemIndex(model, system_name)\n",
    "    model[4]['nodes'][systemInd]['v']['n'] = \n",
    "    "
   ]
  },
  {
   "cell_type": "code",
   "execution_count": 56,
   "id": "2f98af77-2313-48f5-9f89-5c8f1a4a983a",
   "metadata": {
    "tags": []
   },
   "outputs": [],
   "source": [
    "systemList = model[4]['nodes']"
   ]
  },
  {
   "cell_type": "code",
   "execution_count": 64,
   "id": "81a2ebea-29a9-4e3c-af20-6091aec4d322",
   "metadata": {},
   "outputs": [
    {
     "data": {
      "text/plain": [
       "{'n': 'Cluster1-0',\n",
       " 'CD_MemberList': 'AAAS AARS1 ABCD3 ABLIM2 ACADM ACBD3 ACTL6A ACTL6B ADH5 ADNP ADNP2 ADSL AEBP2 AFG3L2 AGMAT AHCTF1 AIM2 AK7 ALDH3A2 ALKBH5 ALPK2 ALX4 AMPD1 AMPD2 ANAPC7 ANKEF1 ANKRD11 ANKRD13B ANP32B ANP32E AP3B1 AP3D1 AP3M1 APLF AR ARFGEF1 ARFGEF3 ARFIP2 ARHGEF25 ARID1A ARID1B ARID2 ARID4A ARID4B ARID5B ARIH1 ARL10 ARL2BP ARL6IP5 ARMH3 ASCL2 ASCL3 ASCL4 ASF1A ASF1B ASH1L ASH2L ASXL1 ASXL2 ASXL3 ATE1 ATF7 ATM ATN1 ATOH7 ATP2B1 ATP6V1H ATR ATRX AUP1 B2M B3GNT8 BAALC BAG2 BAG5 BAHCC1 BAHD1 BAP1 BARX2 BAX BBX BCL11A BCL11B BCL7A BCL7B BCL7C BCL9 BEND3 BICRA BICRAL BOD1 BOD1L1 BPTF BRCA1 BRD2 BRD3 BRD4 BRD7 BRD9 BRMS1 BRMS1L BSG BTAF1 BTBD17 BTN3A1 BTN3A3 BZW2 C15orf40 C16orf87 C17orf49 C19orf38 C19orf48 C1orf112 C1orf52 C21orf58 C22orf15 C22orf31 C2orf49 C3orf18 CA14 CABIN1 CACNA1E CACNG3 CAMK2D CAMK2G CAND2 CAP1 CAPN2 CARNMT1 CASP8AP2 CATSPERE CAVIN3 CBX1 CBX3 CBX5 CCDC65 CCDC71L CCDC88A CCNH CCNJ CCNL1 CCNL2 CCT8L2 CD274 CD40 CD70 CD80 CDAN1 CDC42BPA CDC73 CDCA2 CDCA5 CDH26 CDIN1 CDK2AP1 CDK2AP2 CDK7 CDY2A CDY2B CDYL CECR2 CELF4 CEP164 CEP76 CERS2 CFAP161 CFAP91 CFDP1 CHAF1A CHAF1B CHAMP1 CHD1 CHD1L CHD2 CHD3 CHD4 CHD5 CHD8 CHGA CHRM4 CIAO3 CIP2A CITED2 CKAP2 CKAP4 CLPB CLPTM1 CLSTN2 CNNM3 CNP COG1 COG2 COG3 COG4 COG5 COG7 COG8 COL18A1 COMTD1 COQ8B COX11 CPNE5 CPVL CRAMP1 CREBBP CREBZF CRTC3 CRYAA CSE1L CSNK2A1 CSNK2A2 CSNK2B CTBP1 CTBP2 CTDSPL2 CTNND2 CTR9 CUL7 CUX1 CXXC1 CYB5B CYB5R3 CYP1A1 DAXX DCAF12L2 DCAF5 DCLRE1A DCPS DDI2 DDIT3 DDX41 DEAF1 DESI1 DGKG DHCR24 DHRS7B DIAPH3 DKK2 DLGAP5 DMAP1 DNAAF5 DNAI3 DNAJB4 DNAJC27 DNM2 DNMT1 DNMT3A DNMT3B DNTTIP1 DPF1 DPF2 DPF3 DPY30 DSC3 DSCAM DYDC2 DYM ECD ECE2 ECPAS EDNRB EED EEFSEC EFNA4 EFNB1 EHMT1 EHMT2 EIF1AY EIF2B4 EIF4ENIF1 ELF1 EMC1 EMG1 EMSY EMX2 EP300 EPHA1 EPPIN ERCC2 ERCC3 ERCC5 ERCC6 ERGIC2 ERLEC1 ERMP1 ERP44 ESRRG ESYT2 EVI5L EXD2 EXOC1 EXOC2 EXOC5 EXOC6 EXOC7 EXOSC2 EZH2 FAF2 FAM13C FAM162A FAM199X FAM219A FAM234A FANCD2 FANCI FASN FASTKD1 FBLIM1 FBXO3 FBXO45 FERD3L FGL1 FH FHL2 FIGLA FKBP8 FOXJ1 FOXJ3 FOXK1 FOXK2 FOXN2 FOXP1 FOXP2 FOXP4 FPR1 FTH1 FUNDC2 GABBR2 GABRB2 GABRB3 GAGE8 GALK1 GATAD1 GATAD2A GATAD2B GBF1 GCN1 GLA GLE1 GLMN GNA15 GNAI1 GNAI3 GNG4 GNGT2 GOLPH3 GON4L GPR17 GPR45 GPRASP2 GPS2 GPSM1 GPX8 GRAMD4 GRIN2B GSDME GSE1 GTF2H1 GTF2H2 GTF2H2C GTF2H2C_2 GTF2H3 GTF2H4 GTF2H5 GUSBP5 H2AC11 H2AC17 H2AC19 H2AC20 H2AC21 H2AC4 H2AC8 H2AX H2AZ1 H2BC1 H2BC10 H2BC11 H2BC12 H2BC26 H2BC5 H2BC8 H3-3B H3-5 H3-7 H3C1 H3C10 H3C11 H3C12 H3C2 H3C3 H3C6 H3C7 H3C8 H4C1 H4C12 H4C13 H4C14 H4C16 H4C2 H4C6 H4C9 HAND1 HAND2 HAT1 HCFC1 HCFC1R1 HCFC2 HCST HDAC1 HDAC2 HDAC3 HDGFL2 HDHD2 HDLBP HEATR1 HEATR3 HERC2 HEXIM2 HIPK2 HIRA HLTF HM13 HMG20A HMG20B HMGA1 HMGA2 HMGN1 HMGXB4 HOXA7 HSPA12A HSPA2 HSPA6 HUWE1 HYPK ID1 ID2 ID3 ID4 IDI2 IL17D ILVBL IMMT ING1 ING2 INTS1 INTS14 INTS2 IPO11 IPO13 IPO4 IPO7 IPO9 IRAK1 IRF2 IRF2BP1 IRF2BP2 IRF2BPL ISL1 ISL2 IST1 ITCH IWS1 JARID2 JUN KAT5 KBTBD2 KCNJ9 KCNMA1 KCNQ3 KCTD21 KDM1A KDM1B KDM5A KDM5B KDM6A KIF14 KIF21A KIFC1 KIR2DL4 KLF10 KLF12 KLHL36 KLHL6 KLHL7 KMT2B KMT2C KMT2D KMT2E KMT5B KNTC1 KPNA1 KPNA2 KPNA3 KPNA4 KPNA5 KPNA6 KPNB1 L3MBTL2 LAMP1 LAP3 LARS1 LAS1L LDB1 LDB2 LDHA LEMD2 LEO1 LHX1 LHX2 LHX3 LHX4 LHX6 LHX8 LHX9 LIG3 LIG4 LIN9 LMNA LMNB1 LMO1 LMO3 LMO4 LMX1B LPCAT1 LRRC4C LTN1 LYL1 MACF1 MACROD1 MACROH2A1 MAD2L2 MAIP1 MAP1A MAP3K20 MAP7D1 MARS1 MARVELD1 MATR3 MAX MBD2 MBD3 MBD3L1 MBD3L2 MBD6 MBOAT7 MBTD1 MCM2 MCM3AP MCM4 MCM6 MDC1 MDN1 MEAF6 MECOM MEN1 MESP2 MEX3A MGA MIDEAS MIER1 MIER2 MIER3 MKI67 MKX MLNR MMS19 MMS22L MN1 MNAT1 MNT MOGS MON2 MORF4L1 MORF4L2 MPG MRE11 MRTFA MRTFB MSC MSGN1 MSH6 MTA1 MTA2 MTA3 MTCH1 MTF2 MTOR MTR MTREX MX2 MXD1 MXD3 MXD4 MXI1 MYBL1 MYC MYCBP2 MYF5 MYF6 MYLIP MYOD1 MYOG MYT1 MYT1L NAA10 NAA11 NAA15 NAA16 NAA50 NACC1 NACC2 NAP1L4 NASP NBN NCOA1 NCOA2 NCOA3 NCOA6 NCOR1 NCOR2 NDC1 NEMP1 NEURL4 NEUROD1 NEUROD4 NEUROG1 NEUROG3 NF1 NFATC2IP NFKBIL1 NHLH2 NHLRC2 NIBAN1 NIPBL NKTR NKX3-1 NKX3-2 NME3 NME5 NOL4 NOPCHAP1 NPAT NPEPPS NPIPB6 NPNT NPTN NPY2R NQO1 NR3C1 NRF1 NRIP1 NT5C3A NUCB1 NUCB2 NUP107 NUP133 NUP153 NUP155 NUP160 NUP188 NUP205 NUP210 NUP214 NUP35 NUP37 NUP42 NUP43 NUP50 NUP58 NUP62 NUP85 NUP88 NUP93 NUP98 NUSAP1 NUTF2 NXF1 NXNL2 NXT1 OBSL1 OCIAD1 ODAD4 OGT OMA1 OR8B8 ORC4 OST4 P2RY10 PACC1 PAF1 PAGR1 PALB2 PARP1 PARP2 PAX5 PAXIP1 PBRM1 PDAP1 PDGFRL PDPK1 PDS5A PDS5B PELP1 PEX19 PGBD3 PGP PGRMC2 PHACTR2 PHF10 PHF12 PHF14 PHF2 PHF21A PHF21B PHF23 PIGK PIMREG PIP4K2C PIWIL1 PKP2 PLAA PLEKHA7 PLEKHF1 PNKP POGZ POLB POM121 POM121C POTEJ PPIA PPM1B PPM1G PPM1J PPTC7 PRDM16 PRKAA1 PRKDC PROX1 PRPF6 PRSS33 PSMA2 PSMB5 PTK7 PTPN1 PTPN13 PTPRR PWWP2A PWWP2B PXK PYCR3 R3HDML RAB18 RAB5C RABGGTB RABL3 RAD21 RAD50 RADX RAE1 RAI1 RALGPS1 RAN RANBP1 RANBP2 RANGAP1 RANGRF RAP1GAP RAPGEF2 RAPGEF4 RARRES1 RASL12 RB1 RBBP4 RBBP5 RBBP7 RBL1 RBM12 RBM15 RBM27 RCC1 RCOR1 RCOR2 RCOR3 RDH13 RDH14 REC8 REEP5 RELA RELB RER1 RERE RFC1 RFC4 RFX1 RFX2 RFX3 RGPD1 RGPD2 RGPD3 RGPD5 RGPD8 RGS12 RGS14 RHOT2 RIC8A RIMBP2 RINT1 RLF RMDN3 RNASE10 RNF213 RNF41 RNH1 RNMT RO60 RORB RRBP1 RREB1 RRP9 RSF1 RTF1 RTN3 RTN4 RUVBL1 RUVBL2 SAAL1 SAE1 SALL1 SALL3 SALL4 SAMD1 SAMD3 SAP130 SAP25 SAP30 SAP30BP SAP30L SATB1 SBK3 SCN1A SCN2A SCN2B SCX SDF4 SEC13 SEC16B SEH1L SEL1L SELENOF SENP1 SENP2 SENP3 SENP7 SESN2 SETD1A SETD1B SETD5 SFMBT1 SGF29 SH3D19 SHKBP1 SHPRH SIGLECL1 SIN3A SIN3B SINHCAF SIRT6 SKIC8 SLC25A13 SLC25A19 SLC25A43 SLC27A2 SLC39A11 SLC39A14 SLC6A1 SLIT2 SMARCA1 SMARCA2 SMARCA4 SMARCA5 SMARCB1 SMARCC1 SMARCC2 SMARCD1 SMARCD2 SMARCD3 SMARCE1 SMC1A SMC1B SMC3 SMPD4 SNAI1 SOX12 SOX30 SP1 SP2 SP3 SPAST SPATA5 SPIN2B SPO11 SPOP SRP19 SRP9 SRPRA SRPRB SRY SS18 SS18L1 SS18L2 SSBP2 SSBP3 SSBP4 SSRP1 ST6GAL1 STAG1 STAG2 STAG3L1 STAG3L4 STK17B STMN2 STUB1 STX16 STX8 STXBP1 STXBP2 STXBP6 SUDS3 SUMO1 SUMO2 SUN2 SUPT16H SUPT4H1 SUPT5H SUPT6H SUV39H1 SUV39H2 SUZ12 TACC1 TACSTD2 TAL1 TAL2 TAOK2 TAOK3 TARBP1 TARS1 TBATA TBC1D15 TBL1X TBL1XR1 TBL1Y TCAF1 TCAIM TCEA3 TCF12 TCF15 TCF19 TCF20 TCF21 TCF23 TCF24 TCF3 TCF4 TCF7L2 TDP1 TDRKH TEK TELO2 TEX10 TEX13B TFAP4 TFCP2 TFCP2L1 TGIF2 TGIF2LX THADA THAP2 THAP6 THRSP TIAL1 TIMELESS TIMM21 TM9SF4 TMED1 TMEM201 TMEM209 TMEM214 TMX3 TNFAIP8 TNFSF13B TNPO1 TNPO2 TNPO3 TNRC18 TOMM22 TOMM40 TONSL TOP2A TOP2B TP53 TPR TPX2 TRABD TREH TRERF1 TRIM41 TRIM47 TRIM68 TRIO TRIP12 TRMT6 TRPS1 TRRAP TSACC TSHZ2 TSHZ3 TSN TTBK2 TTF2 TTI1 TTI2 TTLL12 TWIST1 TWIST2 UBAC2 UBAP2L UBE2I UBE4A UBN1 UBN2 UBP1 UBR2 UBR7 UBXN4 UGGT1 UMPS USF2 USP17L2 USP24 USP45 USP50 USP7 UTP20 VAPA VAPB VGLL4 VPS45 VRK3 VRTN VSIG1 VSIG2 WAPL WDR24 WDR5 WDR59 WDR76 WFDC5 WIZ WRN WWP2 XAGE2 XPC XPNPEP3 XPO1 XPO4 XPO5 XPO6 XPO7 XPOT XRCC1 XRCC4 XRCC5 XRCC6 YME1L1 ZBTB2 ZBTB33 ZBTB42 ZBTB43 ZBTB46 ZBTB7C ZC2HC1A ZFPM1 ZMYM2 ZMYM3 ZMYM4 ZMYND8 ZNF202 ZNF217 ZNF219 ZNF280C ZNF280D ZNF296 ZNF410 ZNF423 ZNF428 ZNF451 ZNF462 ZNF512B ZNF516 ZNF518B ZNF521 ZNF592 ZNF639 ZNF641 ZNF644 ZNF687 ZNF704 ZNF784 ZNF821 ZNF827 ZNRD2 ZSCAN5A ZW10 ZWILCH ZYG11B',\n",
       " 'CD_AnnotatedMembers_Pvalue': 9.344534008015424e-59,\n",
       " 'CD_AnnotatedMembers_Size': 252,\n",
       " 'CommunityDetectionTally::Unmatched': 508,\n",
       " 'CD_AnnotatedMembers': 'RB1 SMARCB1 CCNH MYT1L EHMT2 SCX MBD3L2 MBD3L1 TIAL1 EDNRB KAT5 MYC SAP130 CCNL2 CCNL1 HOXA7 SMARCC1 SMARCC2 RFX2 RFX3 RFX1 SOX12 HCFC2 ISL1 HCFC1 DDIT3 TP53 ZFPM1 CTBP2 TSHZ3 CTBP1 PRKDC CTR9 TSHZ2 SUPT4H1 TWIST1 RTF1 ZBTB2 NHLH2 ZNF704 RAD21 PRDM16 ZNF821 RREB1 HEXIM2 CREBBP JUN XRCC6 BCL11B BCL11A SS18L1 SS18L2 SMARCA5 SMARCA2 TRERF1 SMARCA4 ID4 SNAI1 PAF1 RCOR3 RCOR2 RCOR1 EZH2 SUV39H2 CD40 GTF2H2C CITED2 SUV39H1 TCF21 TCF20 TFCP2L1 BRCA1 NIPBL ZMYM2 MECOM ZMYM3 ZMYM4 MYOG NCOA1 TCF19 BRD3 SS18 NCOA2 BRD2 ACTL6B TCF15 PARP1 NCOA6 NCOA3 ACTL6A TCF12 PROX1 NCOR2 NCOR1 TAL2 TAL1 MTF2 ASCL3 ASCL4 SATB1 GPS2 ASCL2 RELA RELB HIRA MNT CUX1 UBN1 LEO1 TBL1Y TBL1X BRD7 BRD4 MBD3 ZNF462 MBD2 GTF2H1 WWP2 GTF2H2 GTF2H3 GTF2H4 GATAD2B GATAD2A HIPK2 TARBP1 MAD2L2 TFAP4 KLHL6 ZNF219 ZNF217 NEUROG1 NEUROG3 CRTC3 KDM1A ATN1 UBP1 ARID4A ARID4B RORB NR3C1 SALL1 RUVBL2 RUVBL1 EP300 ZNF202 MEN1 LMO1 ARID5B FOXP4 FOXP2 FOXP1 BRMS1 PRPF6 TBL1XR1 LMX1B KMT2D MAX PHF21A NEUROD1 RAI1 DEAF1 TPR SUDS3 DMAP1 BPTF UBE2I CBX5 PHF12 ECD HMGA1 HMGA2 SUPT5H CDK7 TFCP2 SP2 LHX3 SP1 SP3 MYF6 TCF4 TCF3 LHX4 MNAT1 MXD1 OGT MXD4 MYF5 KDM5B LDB1 CHD8 FHL2 CHD5 CHD4 CHD3 LDB2 CHD2 CHD1 CDC73 IRF2BPL PAGR1 LYL1 SUMO1 SIN3B SIN3A TRPS1 DNMT3B MYBL1 NKX3-1 PELP1 KLF10 KLF12 TGIF2 EED ATRX CKAP2 ARID1A SENP1 ELF1 RBL1 ZNF639 HAND2 MYOD1 HAND1 IRF2 SMARCD1 SMARCD2 HDAC2 CAMK2D HDAC3 SMARCD3 HDAC1 FOXK2 FOXK1 LIN9 BARX2 MXI1 NRIP1 BEND3 SMARCE1 TCF7L2 FOXJ3 FOXJ1 USF2 ASXL1 ERCC3 BRMS1L ASXL3 ERCC2 ASXL2 SSBP2 SSBP3 SSBP4',\n",
       " 'CD_CommunityName': 'regulation of transcription from RNA polymerase II promoter (GO:0006357)',\n",
       " 'CommunityDetectionTally::in_diffInter': 80,\n",
       " 'CommunityDetectionTally::hasHighConfidenceMut': 188,\n",
       " 'CommunityDetectionTally::connectedToASDPPI': 464,\n",
       " 'CD_AnnotatedMembers_Overlap': 0.226,\n",
       " 'CommunityDetectionTally::in_SFARI_cat_2_3': 65,\n",
       " 'CommunityDetectionTally::in_SFARI_cat_1': 83,\n",
       " 'Column 4': 9,\n",
       " 'CommunityDetectionTally::in_WES_2020': 63,\n",
       " 'CD_AnnotatedAlgorithm': 'Annotated by Enrichr [Docker: coleslawndex/cdenrichrgenestoterm:0.4.0] {{--maxpval=0.05, --genesets=GO_Biological_Process_2018,}} via CyCommunityDetection Cytoscape App (1.12.0)',\n",
       " 'CD_MemberList_Size': 1115,\n",
       " 'CD_NonAnnotatedMembers': 'AAAS AARS1 ABCD3 ABLIM2 ACADM ACBD3 ADH5 ADNP ADNP2 ADSL AEBP2 AFG3L2 AGMAT AHCTF1 AIM2 AK7 ALDH3A2 ALKBH5 ALPK2 ALX4 AMPD1 AMPD2 ANAPC7 ANKEF1 ANKRD11 ANKRD13B ANP32B ANP32E AP3B1 AP3D1 AP3M1 APLF AR ARFGEF1 ARFGEF3 ARFIP2 ARHGEF25 ARID1B ARID2 ARIH1 ARL10 ARL2BP ARL6IP5 ARMH3 ASF1A ASF1B ASH1L ASH2L ATE1 ATF7 ATM ATOH7 ATP2B1 ATP6V1H ATR AUP1 B2M B3GNT8 BAALC BAG2 BAG5 BAHCC1 BAHD1 BAP1 BAX BBX BCL7A BCL7B BCL7C BCL9 BICRA BICRAL BOD1 BOD1L1 BRD9 BSG BTAF1 BTBD17 BTN3A1 BTN3A3 BZW2 C15orf40 C16orf87 C17orf49 C19orf38 C19orf48 C1orf112 C1orf52 C21orf58 C22orf15 C22orf31 C2orf49 C3orf18 CA14 CABIN1 CACNA1E CACNG3 CAMK2G CAND2 CAP1 CAPN2 CARNMT1 CASP8AP2 CATSPERE CAVIN3 CBX1 CBX3 CCDC65 CCDC71L CCDC88A CCNJ CCT8L2 CD274 CD70 CD80 CDAN1 CDC42BPA CDCA2 CDCA5 CDH26 CDIN1 CDK2AP1 CDK2AP2 CDY2A CDY2B CDYL CECR2 CELF4 CEP164 CEP76 CERS2 CFAP161 CFAP91 CFDP1 CHAF1A CHAF1B CHAMP1 CHD1L CHGA CHRM4 CIAO3 CIP2A CKAP4 CLPB CLPTM1 CLSTN2 CNNM3 CNP COG1 COG2 COG3 COG4 COG5 COG7 COG8 COL18A1 COMTD1 COQ8B COX11 CPNE5 CPVL CRAMP1 CREBZF CRYAA CSE1L CSNK2A1 CSNK2A2 CSNK2B CTDSPL2 CTNND2 CUL7 CXXC1 CYB5B CYB5R3 CYP1A1 DAXX DCAF12L2 DCAF5 DCLRE1A DCPS DDI2 DDX41 DESI1 DGKG DHCR24 DHRS7B DIAPH3 DKK2 DLGAP5 DNAAF5 DNAI3 DNAJB4 DNAJC27 DNM2 DNMT1 DNMT3A DNTTIP1 DPF1 DPF2 DPF3 DPY30 DSC3 DSCAM DYDC2 DYM ECE2 ECPAS EEFSEC EFNA4 EFNB1 EHMT1 EIF1AY EIF2B4 EIF4ENIF1 EMC1 EMG1 EMSY EMX2 EPHA1 EPPIN ERCC5 ERCC6 ERGIC2 ERLEC1 ERMP1 ERP44 ESRRG ESYT2 EVI5L EXD2 EXOC1 EXOC2 EXOC5 EXOC6 EXOC7 EXOSC2 FAF2 FAM13C FAM162A FAM199X FAM219A FAM234A FANCD2 FANCI FASN FASTKD1 FBLIM1 FBXO3 FBXO45 FERD3L FGL1 FH FIGLA FKBP8 FOXN2 FPR1 FTH1 FUNDC2 GABBR2 GABRB2 GABRB3 GAGE8 GALK1 GATAD1 GBF1 GCN1 GLA GLE1 GLMN GNA15 GNAI1 GNAI3 GNG4 GNGT2 GOLPH3 GON4L GPR17 GPR45 GPRASP2 GPSM1 GPX8 GRAMD4 GRIN2B GSDME GSE1 GTF2H2C_2 GTF2H5 GUSBP5 H2AC11 H2AC17 H2AC19 H2AC20 H2AC21 H2AC4 H2AC8 H2AX H2AZ1 H2BC1 H2BC10 H2BC11 H2BC12 H2BC26 H2BC5 H2BC8 H3-3B H3-5 H3-7 H3C1 H3C10 H3C11 H3C12 H3C2 H3C3 H3C6 H3C7 H3C8 H4C1 H4C12 H4C13 H4C14 H4C16 H4C2 H4C6 H4C9 HAT1 HCFC1R1 HCST HDGFL2 HDHD2 HDLBP HEATR1 HEATR3 HERC2 HLTF HM13 HMG20A HMG20B HMGN1 HMGXB4 HSPA12A HSPA2 HSPA6 HUWE1 HYPK ID1 ID2 ID3 IDI2 IL17D ILVBL IMMT ING1 ING2 INTS1 INTS14 INTS2 IPO11 IPO13 IPO4 IPO7 IPO9 IRAK1 IRF2BP1 IRF2BP2 ISL2 IST1 ITCH IWS1 JARID2 KBTBD2 KCNJ9 KCNMA1 KCNQ3 KCTD21 KDM1B KDM5A KDM6A KIF14 KIF21A KIFC1 KIR2DL4 KLHL36 KLHL7 KMT2B KMT2C KMT2E KMT5B KNTC1 KPNA1 KPNA2 KPNA3 KPNA4 KPNA5 KPNA6 KPNB1 L3MBTL2 LAMP1 LAP3 LARS1 LAS1L LDHA LEMD2 LHX1 LHX2 LHX6 LHX8 LHX9 LIG3 LIG4 LMNA LMNB1 LMO3 LMO4 LPCAT1 LRRC4C LTN1 MACF1 MACROD1 MACROH2A1 MAIP1 MAP1A MAP3K20 MAP7D1 MARS1 MARVELD1 MATR3 MBD6 MBOAT7 MBTD1 MCM2 MCM3AP MCM4 MCM6 MDC1 MDN1 MEAF6 MESP2 MEX3A MGA MIDEAS MIER1 MIER2 MIER3 MKI67 MKX MLNR MMS19 MMS22L MN1 MOGS MON2 MORF4L1 MORF4L2 MPG MRE11 MRTFA MRTFB MSC MSGN1 MSH6 MTA1 MTA2 MTA3 MTCH1 MTOR MTR MTREX MX2 MXD3 MYCBP2 MYLIP MYT1 NAA10 NAA11 NAA15 NAA16 NAA50 NACC1 NACC2 NAP1L4 NASP NBN NDC1 NEMP1 NEURL4 NEUROD4 NF1 NFATC2IP NFKBIL1 NHLRC2 NIBAN1 NKTR NKX3-2 NME3 NME5 NOL4 NOPCHAP1 NPAT NPEPPS NPIPB6 NPNT NPTN NPY2R NQO1 NRF1 NT5C3A NUCB1 NUCB2 NUP107 NUP133 NUP153 NUP155 NUP160 NUP188 NUP205 NUP210 NUP214 NUP35 NUP37 NUP42 NUP43 NUP50 NUP58 NUP62 NUP85 NUP88 NUP93 NUP98 NUSAP1 NUTF2 NXF1 NXNL2 NXT1 OBSL1 OCIAD1 ODAD4 OMA1 OR8B8 ORC4 OST4 P2RY10 PACC1 PALB2 PARP2 PAX5 PAXIP1 PBRM1 PDAP1 PDGFRL PDPK1 PDS5A PDS5B PEX19 PGBD3 PGP PGRMC2 PHACTR2 PHF10 PHF14 PHF2 PHF21B PHF23 PIGK PIMREG PIP4K2C PIWIL1 PKP2 PLAA PLEKHA7 PLEKHF1 PNKP POGZ POLB POM121 POM121C POTEJ PPIA PPM1B PPM1G PPM1J PPTC7 PRKAA1 PRSS33 PSMA2 PSMB5 PTK7 PTPN1 PTPN13 PTPRR PWWP2A PWWP2B PXK PYCR3 R3HDML RAB18 RAB5C RABGGTB RABL3 RAD50 RADX RAE1 RALGPS1 RAN RANBP1 RANBP2 RANGAP1 RANGRF RAP1GAP RAPGEF2 RAPGEF4 RARRES1 RASL12 RBBP4 RBBP5 RBBP7 RBM12 RBM15 RBM27 RCC1 RDH13 RDH14 REC8 REEP5 RER1 RERE RFC1 RFC4 RGPD1 RGPD2 RGPD3 RGPD5 RGPD8 RGS12 RGS14 RHOT2 RIC8A RIMBP2 RINT1 RLF RMDN3 RNASE10 RNF213 RNF41 RNH1 RNMT RO60 RRBP1 RRP9 RSF1 RTN3 RTN4 SAAL1 SAE1 SALL3 SALL4 SAMD1 SAMD3 SAP25 SAP30 SAP30BP SAP30L SBK3 SCN1A SCN2A SCN2B SDF4 SEC13 SEC16B SEH1L SEL1L SELENOF SENP2 SENP3 SENP7 SESN2 SETD1A SETD1B SETD5 SFMBT1 SGF29 SH3D19 SHKBP1 SHPRH SIGLECL1 SINHCAF SIRT6 SKIC8 SLC25A13 SLC25A19 SLC25A43 SLC27A2 SLC39A11 SLC39A14 SLC6A1 SLIT2 SMARCA1 SMC1A SMC1B SMC3 SMPD4 SOX30 SPAST SPATA5 SPIN2B SPO11 SPOP SRP19 SRP9 SRPRA SRPRB SRY SSRP1 ST6GAL1 STAG1 STAG2 STAG3L1 STAG3L4 STK17B STMN2 STUB1 STX16 STX8 STXBP1 STXBP2 STXBP6 SUMO2 SUN2 SUPT16H SUPT6H SUZ12 TACC1 TACSTD2 TAOK2 TAOK3 TARS1 TBATA TBC1D15 TCAF1 TCAIM TCEA3 TCF23 TCF24 TDP1 TDRKH TEK TELO2 TEX10 TEX13B TGIF2LX THADA THAP2 THAP6 THRSP TIMELESS TIMM21 TM9SF4 TMED1 TMEM201 TMEM209 TMEM214 TMX3 TNFAIP8 TNFSF13B TNPO1 TNPO2 TNPO3 TNRC18 TOMM22 TOMM40 TONSL TOP2A TOP2B TPX2 TRABD TREH TRIM41 TRIM47 TRIM68 TRIO TRIP12 TRMT6 TRRAP TSACC TSN TTBK2 TTF2 TTI1 TTI2 TTLL12 TWIST2 UBAC2 UBAP2L UBE4A UBN2 UBR2 UBR7 UBXN4 UGGT1 UMPS USP17L2 USP24 USP45 USP50 USP7 UTP20 VAPA VAPB VGLL4 VPS45 VRK3 VRTN VSIG1 VSIG2 WAPL WDR24 WDR5 WDR59 WDR76 WFDC5 WIZ WRN XAGE2 XPC XPNPEP3 XPO1 XPO4 XPO5 XPO6 XPO7 XPOT XRCC1 XRCC4 XRCC5 YME1L1 ZBTB33 ZBTB42 ZBTB43 ZBTB46 ZBTB7C ZC2HC1A ZMYND8 ZNF280C ZNF280D ZNF296 ZNF410 ZNF423 ZNF428 ZNF451 ZNF512B ZNF516 ZNF518B ZNF521 ZNF592 ZNF641 ZNF644 ZNF687 ZNF784 ZNF827 ZNRD2 ZSCAN5A ZW10 ZWILCH ZYG11B',\n",
       " 'CD_AnnotatedMembers_SourceDB': 'GO_Biological_Process_2018'}"
      ]
     },
     "execution_count": 64,
     "metadata": {},
     "output_type": "execute_result"
    }
   ],
   "source": [
    "systemList[1]['v']"
   ]
  },
  {
   "cell_type": "code",
   "execution_count": 63,
   "id": "4bbe39df-3870-42a7-b09e-2d45d20cf609",
   "metadata": {},
   "outputs": [
    {
     "data": {
      "text/plain": [
       "158"
      ]
     },
     "execution_count": 63,
     "metadata": {},
     "output_type": "execute_result"
    }
   ],
   "source": [
    "getSystemIndex(model, system_name)"
   ]
  },
  {
   "cell_type": "code",
   "execution_count": null,
   "id": "e82f0cbc-8f12-471f-9fd8-b5b6c51d9661",
   "metadata": {},
   "outputs": [],
   "source": []
  },
  {
   "cell_type": "code",
   "execution_count": null,
   "id": "42f6cdbd-2116-48ac-880a-4c7a07fc2349",
   "metadata": {},
   "outputs": [],
   "source": []
  },
  {
   "cell_type": "code",
   "execution_count": 45,
   "id": "fc54cf25-8d62-4e25-b086-5cef9ca07198",
   "metadata": {},
   "outputs": [],
   "source": [
    "from model_cx2 import get_nodes"
   ]
  },
  {
   "cell_type": "code",
   "execution_count": 33,
   "id": "7369b106-de6f-4156-8321-92b52a016fb1",
   "metadata": {},
   "outputs": [
    {
     "ename": "AttributeError",
     "evalue": "'list' object has no attribute 'set_node_attribute'",
     "output_type": "error",
     "traceback": [
      "\u001b[0;31m---------------------------------------------------------------------------\u001b[0m",
      "\u001b[0;31mAttributeError\u001b[0m                            Traceback (most recent call last)",
      "Cell \u001b[0;32mIn[33], line 1\u001b[0m\n\u001b[0;32m----> 1\u001b[0m model\u001b[38;5;241m.\u001b[39mset_node_attribute(system_name, \u001b[38;5;124m\"\u001b[39m\u001b[38;5;124mCD_MemberList\u001b[39m\u001b[38;5;124m\"\u001b[39m, genes_fixed)\n",
      "\u001b[0;31mAttributeError\u001b[0m: 'list' object has no attribute 'set_node_attribute'"
     ]
    }
   ],
   "source": [
    "model.set_node_attribute(system_name, \"CD_MemberList\", genes_fixed)\n"
   ]
  },
  {
   "cell_type": "code",
   "execution_count": 36,
   "id": "3e2c5404-3b00-413f-9d4c-2fe98c5be5af",
   "metadata": {},
   "outputs": [
    {
     "data": {
      "text/plain": [
       "list"
      ]
     },
     "execution_count": 36,
     "metadata": {},
     "output_type": "execute_result"
    }
   ],
   "source": [
    "type(model)"
   ]
  },
  {
   "cell_type": "code",
   "execution_count": null,
   "id": "bf027011-54ca-4b8e-8dc2-f775846be4e2",
   "metadata": {},
   "outputs": [],
   "source": [
    "set_node_attribute"
   ]
  },
  {
   "cell_type": "code",
   "execution_count": null,
   "id": "531c5da5-84bf-42ad-92ba-e7f26536f595",
   "metadata": {},
   "outputs": [],
   "source": []
  },
  {
   "cell_type": "code",
   "execution_count": null,
   "id": "ba393e1c-6952-42b7-8acb-9089e92d0112",
   "metadata": {},
   "outputs": [],
   "source": []
  },
  {
   "cell_type": "code",
   "execution_count": null,
   "id": "bc6ec70a-ce26-442c-bea5-dcc5d488cb9e",
   "metadata": {},
   "outputs": [],
   "source": [
    "for system_name in system_name_list:\n",
    "    print(\"================================================\")\n",
    "    print(system_name)\n",
    "    ## Select the system and get genes\n",
    "    system = get_system(model, system_name)\n",
    "    system[\"genes_attribute\"] = \"CD_MemberList\"\n",
    "    genes = get_genes(system)\n",
    "    \n",
    "    if len(genes) > sizeThresh:\n",
    "        break # need to use different approach\n",
    "        # ToDo: write up approach for larger systems\n",
    "        \n",
    "    # print(f'{system_name}: {genes}')\n",
    "    \n",
    "    ## Fix names\n",
    "    if fixGeneNames:\n",
    "        print(\"Fixing gene names\")\n",
    "        genes_fixed = [FixGeneSymbols.fixGeneSymbol(gene) for gene in genes]\n",
    "        # ToDo: save as data frame the genes with names that were fixed \n",
    "    else:\n",
    "        genes_fixed = genes\n",
    "            \n",
    "     ## replace genes with fixed names in the  model itself because every other function is reading from the same name\n",
    "\n",
    "    model.set_node_attribute(system_name, \"CD_MemberList\", genes_fixed)\n",
    "        \n",
    "    ## Get the system again because modified names \n",
    "    system = get_system(model, system_name)\n",
    "    \n",
    "    ## Get HUGO data\n",
    "    print(\"Getting HUGO data\")\n",
    "    hugo_data = get_hugo_data(genes_fixed) # SA modified -- using fixed gene names instead of system_name # ToDo: get back to system name after writing\n",
    "    \n",
    "    write_system_json(hugo_data, model_name, version, system_name, \"hugo\", get_root_path()) \n",
    "\n",
    "    ## Get genes from model data for system\n",
    "    gene_candidacy_text = make_gene_candidacy_text(gene_data, get_genes(system))\n",
    "    \n",
    "    ## Get Uniprot Data\n",
    "    print(\"Getting Uniprot data\")\n",
    "    \n",
    "    # SA: here getting Uniprot IDs\n",
    "    uniprotIDs = [FixGeneSymbols.latestGeneSymbol_2_uniprotID(gene) for gene in genes_fixed]\n",
    "    \n",
    "    # Q: a couple of genes map to multiple uniprot IDs, what to do with them?\n",
    "    ## Till here\n",
    "    \n",
    "    # Gathers a protein's function, pathway, disease association, aliases, and summary description data from the uniprot database using its REST api\n",
    "    hugo_data = read_system_json(model_name, version +'/'+ system_name, system_name, \"hugo\", get_root_path()) # SA modified\n",
    "    uniprot_data = get_uniprot_data_for_system(system, hugo_data=hugo_data)\n",
    "    write_system_json(uniprot_data, model_name, version, system_name, \"uniprot\", get_root_path()) # SA modified\n",
    "    \n",
    "    ## Summarized Features\n",
    "    # analyze the information to find features shared between n or more system proteins\n",
    "    print(\"Summarizing features\")\n",
    "    summarized_features = summarize_uniprot_features(uniprot_data)\n",
    "    tsv_data = summarized_uniprot_features_to_tsv(summarized_features)\n",
    "    write_system_tsv(tsv_data, model_name, version +'/' + system_name, system_name, \"uniprot_summary\", get_root_path()) # SA modified\n",
    "    tsv_file = StringIO(tsv_data)\n",
    "    df = pd.read_csv(tsv_file, sep='\\t')\n",
    "    \n",
    "    ## Create Prompts\n",
    "    print(\"Creating prompts\")\n",
    "    prompt = create_nesa_chatGPT_prompt(get_genes(system), tsv_data, gene_candidacy_text =gene_candidacy_text)\n",
    "    prompt_page = create_system_prompt_page(system_name, prompt)\n",
    "    write_system_page(prompt_page, model_name, version +'/'+ system_name, system_name, \"chatgtp_prompt\", get_root_path())\n",
    "    analysis_page = create_nesa_system_analysis_page(model_name, version, system_name, get_genes(system), tsv_data)\n",
    "    write_system_page(analysis_page, model_name, version +'/'+ system_name, system_name, \"analysis\", get_root_path())\n",
    "\n",
    "    \n",
    "    ## ToDo: \n",
    "        # automatically call chatGPT with prompt\n",
    "        # save chatGPT response\n",
    "        # grab the name that chatGPT provided\n",
    "        # validate references - Ingoo \n",
    "    "
   ]
  },
  {
   "cell_type": "code",
   "execution_count": null,
   "id": "69b9d31b-5a0c-4097-8967-21c49b8d8b8a",
   "metadata": {},
   "outputs": [],
   "source": []
  },
  {
   "cell_type": "code",
   "execution_count": null,
   "id": "5189d6ee-d349-4f2e-b312-ec809d464f2c",
   "metadata": {},
   "outputs": [],
   "source": []
  },
  {
   "cell_type": "code",
   "execution_count": null,
   "id": "2dbca0ce-f6e2-41b6-b186-8253f5af0778",
   "metadata": {},
   "outputs": [],
   "source": [
    "# update the model page to include links to the new pages\n",
    "write_model_page(model_name, version , get_root_path())"
   ]
  },
  {
   "cell_type": "code",
   "execution_count": null,
   "id": "bd1cc495-518c-4928-9521-6237399a70ac",
   "metadata": {},
   "outputs": [],
   "source": []
  },
  {
   "cell_type": "code",
   "execution_count": null,
   "id": "3e16a03e",
   "metadata": {},
   "outputs": [],
   "source": [
    "# return prompt as html or json"
   ]
  },
  {
   "cell_type": "code",
   "execution_count": null,
   "id": "3fa91d89",
   "metadata": {},
   "outputs": [],
   "source": []
  },
  {
   "cell_type": "code",
   "execution_count": null,
   "id": "dccd6858",
   "metadata": {},
   "outputs": [],
   "source": []
  },
  {
   "cell_type": "code",
   "execution_count": null,
   "id": "416b1c1f",
   "metadata": {},
   "outputs": [],
   "source": []
  },
  {
   "cell_type": "code",
   "execution_count": null,
   "id": "6ef26e71",
   "metadata": {},
   "outputs": [],
   "source": []
  },
  {
   "cell_type": "code",
   "execution_count": null,
   "id": "84091f78",
   "metadata": {},
   "outputs": [],
   "source": []
  },
  {
   "cell_type": "code",
   "execution_count": null,
   "id": "c790bca1",
   "metadata": {},
   "outputs": [],
   "source": []
  },
  {
   "cell_type": "code",
   "execution_count": null,
   "id": "64c37d92",
   "metadata": {},
   "outputs": [],
   "source": []
  }
 ],
 "metadata": {
  "kernelspec": {
   "display_name": "annotate_hierarchy",
   "language": "python",
   "name": "annotate_hierarchy"
  },
  "language_info": {
   "codemirror_mode": {
    "name": "ipython",
    "version": 3
   },
   "file_extension": ".py",
   "mimetype": "text/x-python",
   "name": "python",
   "nbconvert_exporter": "python",
   "pygments_lexer": "ipython3",
   "version": "3.11.3"
  }
 },
 "nbformat": 4,
 "nbformat_minor": 5
}
