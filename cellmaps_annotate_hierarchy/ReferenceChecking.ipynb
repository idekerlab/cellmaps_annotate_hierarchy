{
 "cells": [
  {
   "cell_type": "code",
   "execution_count": 1,
   "id": "dd511130-6a07-4668-a9ec-1b0993a4dded",
   "metadata": {},
   "outputs": [],
   "source": [
    "import pandas as pd\n",
    "from semanticscholar import SemanticScholar\n",
    "import openai\n",
    "from xml.etree import ElementTree\n",
    "from Bio import Entrez"
   ]
  },
  {
   "cell_type": "code",
   "execution_count": 2,
   "id": "e0126ea0-a78b-49f1-94a3-c49865b2a020",
   "metadata": {},
   "outputs": [],
   "source": [
    "from openai_query import *"
   ]
  },
  {
   "cell_type": "code",
   "execution_count": 3,
   "id": "d57c2d7f-25e8-48e4-b4e6-ef925d612cbd",
   "metadata": {},
   "outputs": [],
   "source": [
    "email = 'i5lee@health.ucsd.edu'"
   ]
  },
  {
   "cell_type": "code",
   "execution_count": 4,
   "id": "b2f0c5b2-3326-4cdc-9106-cf1b3bab18c7",
   "metadata": {},
   "outputs": [],
   "source": [
    "paragraphs = \"\"\"The interacting protein system being analyzed consists of six proteins: CHST9, DKK1, LRP5, LRP6, RASD2, and TK2. These proteins are involved in various mechanisms and biological processes, with a significant emphasis on the Wnt signaling pathway, which plays a critical role in embryonic development, tissue homeostasis, and cell differentiation. The canonical Wnt signaling pathway includes three of the proteins: DKK1, LRP5, and LRP6. This pathway is crucial for the regulation of gene expression and cellular functions.\n",
    "\n",
    "Regarding cellular components and complexes, the system's proteins are located in various cellular regions. Four of the proteins (CHST9, LRP5, LRP6, and RASD2) are found in the membrane, with DKK1, LRP5, LRP6, and RASD2 being present in the plasma membrane. CHST9, DKK1, and LRP6 are located in the extracellular region, while LRP5 and LRP6 are found in the endoplasmic reticulum. Additionally, DKK1 and LRP6 are present in the early endosome membrane. The Wnt-Frizzled-LRP5/6 complex involves LRP5 and LRP6, which participate in the coreceptor activity for both canonical Wnt signaling and the Wnt signaling pathway.\n",
    "\n",
    "With regards to ASD (Autism Spectrum Disorder), LRP5 and LRP6 are genes with high-confidence mutations in ASD-diagnosed individuals. All six proteins (CHST9, DKK1, LRP5, LRP6, RASD2, and TK2) are part of systems with two or more known ASD-risk genes. However, specific ASD-risk genes identified in the Satterstrom et al., 2020, and Fu et al., 2022 studies were not provided, and information on proteins connected to ASD-risk proteins (AP-MS experiment) and ASD-risk in SFARI categories 2 and 3 is also missing.\n",
    "\n",
    "From the Uniprot analysis, three proteins (LRP5, LRP6, and TK2) have disease variant associations. LRP6 and RASD2 are associated with synapses, which are crucial for neural communication and may play a role in ASD pathophysiology. Moreover, LRP5 and LRP6 are involved in the regulation of various transcription factors and processes, which may influence the expression of genes linked to ASD.\n",
    "\n",
    "In summary, this interacting protein system appears to be predominantly involved in the Wnt signaling pathway, with an emphasis on the canonical Wnt signaling. The presence of high-confidence ASD-associated mutations in LRP5 and LRP6, along with the system's overall connection to ASD-risk genes, suggests that further investigation into the role of these proteins and their relationship with ASD is warranted.\n",
    "\n",
    "As mentioned earlier, LRP5 and LRP6 are the genes with high-confidence mutations in ASD-diagnosed individuals in this system. To determine whether they can be considered as potential novel ASD-risk genes, we need to verify whether they are included in known ASD-risk gene sets, such as SFARI. Unfortunately, the provided information does not mention their inclusion or exclusion from such gene sets. Assuming that they are not included in any known ASD-risk gene sets, we can analyze their potential as novel ASD-risk genes based on their associations and functions.\n",
    "\n",
    "LRP5: This gene is involved in the canonical Wnt signaling pathway, which is crucial for the regulation of gene expression and cellular functions. It is a membrane protein found in the plasma membrane and endoplasmic reticulum. LRP5 also participates in the Wnt-Frizzled-LRP5/6 complex and is involved in the regulation of various transcription factors and processes. Although there is no direct evidence of LRP5's association with diseases comorbid with ASD, its involvement in the Wnt signaling pathway, which is known to play a role in brain development and function, could imply a potential connection to ASD.\n",
    "\n",
    "LRP6: Like LRP5, LRP6 is also involved in the canonical Wnt signaling pathway and has a similar cellular distribution. It is associated with synapses, which are crucial for neural communication. Dysfunctions at the synapse level have been implicated in ASD. LRP6's association with synapses and the Wnt signaling pathway could potentially link it to ASD. However, there is no specific information about LRP6's association with diseases comorbid with ASD.\n",
    "\n",
    "In summary, assuming LRP5 and LRP6 are not included in known ASD-risk gene sets, they can be considered as potential novel ASD-risk genes based on their involvement in the Wnt signaling pathway, cellular distribution, and, in the case of LRP6, its association with synapses.\"\"\""
   ]
  },
  {
   "cell_type": "code",
   "execution_count": 5,
   "id": "df68bcf6-6562-4120-bbc2-c2d0c587d0c3",
   "metadata": {},
   "outputs": [],
   "source": [
    "paragraphs = list(filter(None, paragraphs.split(\"\\n\")))"
   ]
  },
  {
   "cell_type": "code",
   "execution_count": 6,
   "id": "f1247b7f-7554-4bcb-b74b-0cde2111e19a",
   "metadata": {},
   "outputs": [],
   "source": [
    "import requests\n",
    "\n",
    "api_key = 'use your api key'\n",
    "headers = {\n",
    "    \"Authorization\": f\"Bearer {api_key}\",\n",
    "    \"Content-Type\": \"application/json\",\n",
    "}"
   ]
  },
  {
   "cell_type": "code",
   "execution_count": 7,
   "id": "378ca9e3-bd80-4de7-80dc-fd4a9666db36",
   "metadata": {},
   "outputs": [],
   "source": [
    "paragraph = paragraphs[0]"
   ]
  },
  {
   "cell_type": "code",
   "execution_count": 37,
   "id": "2bef2424-b9c0-4985-85e7-c8f67c5afa1b",
   "metadata": {},
   "outputs": [],
   "source": [
    "def get_genes_from_paragraph(paragraph, gpt_model='gpt-4', verbose=False):\n",
    "    context = \"I am a highly intelligent question answering bot. If you ask me a question that is rooted in truth, I will give you the answer. If you ask me a question that is nonsense, trickery, or has no clear answer, I will respond with \\\"Unknown\\\".\"\n",
    "    query = \"\"\"I have paragraph\\nParagraph:\\n%s\\nI would like to search PubMed to validate this abstract. give me a list of gene symbols from paragraph. please only include genes. Just tell me keywords only with comma seperated without spacing, if there is no gene, please tell me \"Unknown\" \"\"\"%paragraph\n",
    "    #'''\n",
    "    keyword_extraction_data = {\n",
    "    \"model\": gpt_model,\n",
    "        \"temperature\": 0,\n",
    "        \"messages\": [\n",
    "        {\"role\": \"system\", \"content\": context},\n",
    "    ] + [{\"role\": \"user\", \"content\": query}]}\n",
    "    \n",
    "    response = requests.post(\"https://api.openai.com/v1/chat/completions\", headers=headers, json=keyword_extraction_data)\n",
    "    response_json = response.json()\n",
    "    if 'choices' in response_json.keys():\n",
    "        result = response_json[\"choices\"][0][\"message\"][\"content\"]\n",
    "    else:\n",
    "        result = None\n",
    "    #'''\n",
    "    #context = \n",
    "    #result = openai_chat(context, query, gpt_model, 0, max_tokens=2000, rate_per_token=0.001)\n",
    "    if verbose: \n",
    "        print(\"Query:\")\n",
    "        print(query)\n",
    "        print(\"Result:\")\n",
    "        print(result)\n",
    "    if result is not None:\n",
    "        return [keyword.strip() for keyword in result.split(\",\")]\n",
    "    else:\n",
    "        print(response_json)"
   ]
  },
  {
   "cell_type": "code",
   "execution_count": 38,
   "id": "77a6053f-dec9-40a2-86fd-b34d973f9773",
   "metadata": {},
   "outputs": [],
   "source": [
    "def get_molecular_functions_from_paragraph(paragraph, gpt_model='gpt-4', verbose=False):\n",
    "    context = \"I am a highly intelligent question answering bot. If you ask me a question that is rooted in truth, I will give you the answer. If you ask me a question that is nonsense, trickery, or has no clear answer, I will respond with \\\"Unknown\\\".\"\n",
    "    query = \"\"\"I have paragraph\\nParagraph:\\n%s\\nI would like to search PubMed to validate this abstract. give me a list of keywords of molecular functions. please don't include gene symbols. please order keywords by their importance in paragraph, from high important to low important. Just tell me keywords only with comma seperated without spacing. if there is no molecular function, please tell me \"Unknown\" \"\"\"%paragraph\n",
    "    #'''\n",
    "    keyword_extraction_data = {\n",
    "    \"model\": gpt_model,\n",
    "        \"temperature\": 0,\n",
    "        \"messages\": [\n",
    "        {\"role\": \"system\", \"content\": context},\n",
    "    ] + [{\"role\": \"user\", \"content\": query}]}\n",
    "    \n",
    "    response = requests.post(\"https://api.openai.com/v1/chat/completions\", headers=headers, json=keyword_extraction_data)\n",
    "    response_json = response.json()\n",
    "    if 'choices' in response_json.keys():\n",
    "        result = response_json[\"choices\"][0][\"message\"][\"content\"]\n",
    "    else:\n",
    "        result = None\n",
    "    #'''\n",
    "    #context = \n",
    "    #result = openai_chat(context, query, gpt_model, 0, max_tokens=2000, rate_per_token=0.001)\n",
    "    if verbose: \n",
    "        print(\"Query:\")\n",
    "        print(query)\n",
    "        print(\"Result:\")\n",
    "        print(result)\n",
    "    if result is not None:\n",
    "        return [keyword.strip() for keyword in result.split(\",\")]\n",
    "    else:\n",
    "        print(response_json)"
   ]
  },
  {
   "cell_type": "code",
   "execution_count": 10,
   "id": "63c94953-6be9-46a7-8241-c2278a2b94c3",
   "metadata": {},
   "outputs": [],
   "source": [
    "global LOG_FILE\n",
    "LOG_FILE = \"./temp.log\""
   ]
  },
  {
   "cell_type": "code",
   "execution_count": 11,
   "id": "e5ff7af4-f922-4d2e-bcab-2f1e0ec85258",
   "metadata": {},
   "outputs": [],
   "source": [
    "genes = get_genes_from_paragraph(paragraph)"
   ]
  },
  {
   "cell_type": "code",
   "execution_count": 12,
   "id": "c2bdf04b-81b8-4f39-abc0-750c294d801d",
   "metadata": {},
   "outputs": [
    {
     "data": {
      "text/plain": [
       "['CHST9', 'DKK1', 'LRP5', 'LRP6', 'RASD2', 'TK2']"
      ]
     },
     "execution_count": 12,
     "metadata": {},
     "output_type": "execute_result"
    }
   ],
   "source": [
    "genes"
   ]
  },
  {
   "cell_type": "code",
   "execution_count": 39,
   "id": "9dbfd2d5-baa5-4c16-8ff7-13c3f3742c8d",
   "metadata": {},
   "outputs": [],
   "source": [
    "no_gene = get_genes_from_paragraph(\"embryonic development\")"
   ]
  },
  {
   "cell_type": "code",
   "execution_count": 40,
   "id": "b3deb5ce-d357-4047-aeaa-7a77f7c33597",
   "metadata": {},
   "outputs": [
    {
     "data": {
      "text/plain": [
       "['Unknown']"
      ]
     },
     "execution_count": 40,
     "metadata": {},
     "output_type": "execute_result"
    }
   ],
   "source": [
    "no_gene"
   ]
  },
  {
   "cell_type": "code",
   "execution_count": 14,
   "id": "47306327-3f30-4fb3-b98a-5c5782875b0e",
   "metadata": {},
   "outputs": [],
   "source": [
    "molecular_functions = get_molecular_functions_from_paragraph(paragraph)"
   ]
  },
  {
   "cell_type": "code",
   "execution_count": 15,
   "id": "7b10b335-558e-4287-89dd-c80a2a8d9089",
   "metadata": {},
   "outputs": [
    {
     "data": {
      "text/plain": [
       "['Wnt signaling pathway',\n",
       " 'embryonic development',\n",
       " 'tissue homeostasis',\n",
       " 'cell differentiation',\n",
       " 'canonical Wnt signaling',\n",
       " 'gene expression',\n",
       " 'cellular functions']"
      ]
     },
     "execution_count": 15,
     "metadata": {},
     "output_type": "execute_result"
    }
   ],
   "source": [
    "molecular_functions"
   ]
  },
  {
   "cell_type": "code",
   "execution_count": 41,
   "id": "1c94a5e1-fda7-4d1f-91cc-42f1139bc0ac",
   "metadata": {},
   "outputs": [],
   "source": [
    "no_nomolecular_functions = get_molecular_functions_from_paragraph(\"CHST9\")"
   ]
  },
  {
   "cell_type": "code",
   "execution_count": 42,
   "id": "b79b5e9b-9751-4ed9-9f74-c7c114099309",
   "metadata": {},
   "outputs": [
    {
     "data": {
      "text/plain": [
       "['Unknown']"
      ]
     },
     "execution_count": 42,
     "metadata": {},
     "output_type": "execute_result"
    }
   ],
   "source": [
    "no_nomolecular_functions"
   ]
  },
  {
   "cell_type": "code",
   "execution_count": 16,
   "id": "106aa6d6-1808-4253-8d6e-ea8810c7059e",
   "metadata": {},
   "outputs": [],
   "source": [
    "def get_mla_citation(doi):\n",
    "    url = f'https://api.crossref.org/works/{doi}'\n",
    "    headers = {'accept': 'application/json'}\n",
    "    \n",
    "    response = requests.get(url, headers=headers)\n",
    "    if response.status_code == 200:\n",
    "        data = response.json()\n",
    "        #print(data)\n",
    "        item = data['message']\n",
    "        \n",
    "        authors = item['author']\n",
    "        formatted_authors = []\n",
    "        for author in authors:\n",
    "            formatted_authors.append(f\"{author['family']}, {author.get('given', '')}\")\n",
    "        authors_str = ', '.join(formatted_authors)\n",
    "        \n",
    "        title = item['title'][0]\n",
    "        container_title = item['container-title'][0]\n",
    "        year = item['issued']['date-parts'][0][0]\n",
    "        volume = item.get('volume', '')\n",
    "        issue = item.get('issue', '')\n",
    "        page = item.get('page', '')\n",
    "        \n",
    "        mla_citation = f\"{authors_str}. \\\"{title}.\\\" {container_title}\"\n",
    "        if volume or issue:\n",
    "            mla_citation += f\", vol. {volume}\" if volume else ''\n",
    "            mla_citation += f\", no. {issue}\" if issue else ''\n",
    "        mla_citation += f\", {year}, pp. {page}.\"\n",
    "        \n",
    "        return mla_citation"
   ]
  },
  {
   "cell_type": "code",
   "execution_count": 17,
   "id": "e1aef078-589b-4e16-833f-a805a0fabef4",
   "metadata": {},
   "outputs": [
    {
     "data": {
      "text/plain": [
       "\"{'there', 'hello'}\""
      ]
     },
     "execution_count": 17,
     "metadata": {},
     "output_type": "execute_result"
    }
   ],
   "source": [
    "str({\"hello\", \"there\"})"
   ]
  },
  {
   "cell_type": "code",
   "execution_count": 18,
   "id": "f30c466f-b023-49e7-b33b-5c2093022e48",
   "metadata": {},
   "outputs": [],
   "source": [
    "def get_mla_citation_from_pubmed_id(paper_dict):\n",
    "    article = paper_dict['MedlineCitation']['Article']\n",
    "    #print(article.keys())\n",
    "    authors = article['AuthorList']\n",
    "    formatted_authors = []\n",
    "    for author in authors:\n",
    "        last_name = author['LastName'] if author['LastName'] is not None else ''\n",
    "        first_name = author['ForeName'] if author['ForeName'] is not None else ''\n",
    "        formatted_authors.append(f\"{last_name}, {first_name}\")\n",
    "    authors_str = ', '.join(formatted_authors)\n",
    "\n",
    "    title = article['ArticleTitle']\n",
    "    journal = article['Journal']['Title']\n",
    "    year = article['Journal']['JournalIssue']['PubDate']['Year']\n",
    "    page = article['Pagination']['MedlinePgn']\n",
    "    mla_citation = f\"{authors_str}. \\\"{title}\\\" {journal}\"\n",
    "    if \"Volume\" in article['Journal']['JournalIssue']['PubDate']:\n",
    "        volume = article['Journal']['JournalIssue']['PubDate']['Volume']\n",
    "        mla_citation += f\", vol. {volume}\" if volume else ''\n",
    "    elif \"Issue\" in article['Journal']['JournalIssue']['PubDate']:\n",
    "        issue = article['Journal']['JournalIssue']['PubDate']['Issue']\n",
    "        mla_citation += f\", no. {issue}\" if issue else ''\n",
    "    mla_citation += f\", {year}, pp. {page}.\"\n",
    "    return mla_citation"
   ]
  },
  {
   "cell_type": "markdown",
   "id": "3a89b257-9059-4adf-ad64-c98788de5c06",
   "metadata": {},
   "source": [
    "articles = search_pubmed(\"LRP5 AND LRP6 AND DKK1 AND Wnt signaling pathway\", 'i5lee@health.ucsd')"
   ]
  },
  {
   "cell_type": "markdown",
   "id": "9c1cf4cf-c980-4c30-a0da-8dac541adcc5",
   "metadata": {},
   "source": [
    "get_mla_citation_from_pubmed_id(articles[0])"
   ]
  },
  {
   "cell_type": "code",
   "execution_count": 19,
   "id": "b46d1b82-8a16-469d-bc80-151a2df3c665",
   "metadata": {},
   "outputs": [],
   "source": [
    "def get_citation(paper):\n",
    "    names = \",\".join([author['name'] for author in paper['authors']])\n",
    "    corrected_title = paper['title']\n",
    "    journal = paper['journal']['name']\n",
    "    pub_date = paper['publicationDate']\n",
    "    if 'volume' in paper['journal'].keys(): \n",
    "        volume = paper['journal']['volume'].strip()\n",
    "    else:\n",
    "        volume = ''\n",
    "    if 'pages' in paper['journal'].keys():\n",
    "        pages = paper['journal']['pages'].strip()\n",
    "    else:\n",
    "        doi = paper['externalIds']['DOI']\n",
    "        pages = doi.strip().split(\".\")[-1]\n",
    "    citation = f\"{names}. {corrected_title} {journal} {volume} ({pub_date[0:4]}):{pages}\"\n",
    "    return citation"
   ]
  },
  {
   "cell_type": "code",
   "execution_count": 20,
   "id": "f0b9040c-84cc-45d5-9baf-772a6512430b",
   "metadata": {},
   "outputs": [],
   "source": [
    "def get_references(queried_papers, paragraph, gpt_model='gpt-4', n=10, verbose=False):\n",
    "    citations = []\n",
    "    for paper in queried_papers:\n",
    "        abstract = paper['MedlineCitation']['Article']['Abstract']['AbstractText'][0]\n",
    "        message = \"\"\"I have pharagraph\\n Pharagraph:\\n%s\\nand abstract.\\n Abstract:\\n%s\\nDoes this abstract support this paragraph? Please tell me yes or no\"\"\"%(paragraph, abstract)\n",
    "        \n",
    "        reference_check_data = {\n",
    "            \"model\": gpt_model,\n",
    "            \"temperature\": 0,\n",
    "            \"messages\": [\n",
    "                {\"role\": \"system\", \"content\": \"You are a helpful assistant.\"},\n",
    "            ] + [{\"role\": \"user\", \"content\": message }],\n",
    "        }\n",
    "        reference_check_data['messages'].append({\"role\":\"user\", \"content\":message})\n",
    "        response = requests.post(\"https://api.openai.com/v1/chat/completions\", headers=headers, json=reference_check_data)\n",
    "\n",
    "        response_json = response.json()\n",
    "\n",
    "        if 'choices' in response_json.keys():\n",
    "            result = response_json['choices'][0]['message']['content']\n",
    "            if result[:3].lower()=='yes':\n",
    "                try:\n",
    "                    citation = get_mla_citation_from_pubmed_id(paper)\n",
    "                    if citation not in citations:\n",
    "                        citations.append(citation)\n",
    "                except Exception as e:\n",
    "                    print(\"Cannot parse citation even though this paper support pargraph\")\n",
    "                    print(\"Error detail: \", e)\n",
    "                    pass\n",
    "                if len(citations)>=n:\n",
    "                    return citations\n",
    "        else:\n",
    "            result = \"No\"    \n",
    "        if verbose:\n",
    "            print(\"Title: \", paper['MedlineCitation']['Article']['ArticleTitle'])\n",
    "            print(\"Query: \")\n",
    "            print(message)\n",
    "            print(\"Result:\")\n",
    "            print(result)\n",
    "            print(\"=\"*200)\n",
    "    return citations"
   ]
  },
  {
   "cell_type": "code",
   "execution_count": 21,
   "id": "4b2c91bc-4bfe-4096-8f54-6a0d6a5e0a32",
   "metadata": {},
   "outputs": [],
   "source": [
    "def search_pubmed(keywords, email, sort_by='citation_count', retmax=10):\n",
    "    Entrez.email = email\n",
    "\n",
    "    search_query = f\"{keywords} AND (hasabstract[text])\"\n",
    "    search_handle = Entrez.esearch(db='pubmed', term=search_query, sort=sort_by, retmax=retmax)\n",
    "    search_results = Entrez.read(search_handle)\n",
    "    search_handle.close()\n",
    "\n",
    "    id_list = search_results['IdList']\n",
    "\n",
    "    if not id_list:\n",
    "        print(\"No results found.\")\n",
    "        return []\n",
    "\n",
    "    fetch_handle = Entrez.efetch(db='pubmed', id=id_list, retmode='xml')\n",
    "    articles = Entrez.read(fetch_handle)['PubmedArticle']\n",
    "    fetch_handle.close()\n",
    "\n",
    "    return articles"
   ]
  },
  {
   "cell_type": "code",
   "execution_count": 44,
   "id": "62a792ea-a30e-43c4-ba78-9c4f2200d47d",
   "metadata": {},
   "outputs": [],
   "source": [
    "def get_papers(keywords, n):\n",
    "    total_papers = []\n",
    "    for keyword in keywords:\n",
    "        print(\"Searching Keyword :\", keyword)\n",
    "        try:\n",
    "            pubmed_queried_keywords= search_pubmed(keyword, email=email)\n",
    "            print(\"%d papers are found\"%len(pubmed_queried_keywords))\n",
    "            total_papers += list(pubmed_queried_keywords[:n])\n",
    "        except:\n",
    "            print(\"No paper found\")\n",
    "            pass\n",
    "    return total_papers"
   ]
  },
  {
   "cell_type": "code",
   "execution_count": 43,
   "id": "b9cab05b-5632-4e08-95db-c946ec049274",
   "metadata": {},
   "outputs": [],
   "source": [
    "def get_keywords_combinations(paragraph, gpt_model='gpt-4', verbose=False):\n",
    "    genes = get_genes_from_paragraph(paragraph, gpt_model, verbose)\n",
    "    functions = get_molecular_functions_from_paragraph(paragraph, gpt_model, verbose)\n",
    "    if genes[0]=='Unknown' or functions[0]=='Unknown':\n",
    "        return []\n",
    "    gene_query = \" OR \".join([\"(%s[Title/Abstract])\"%gene for gene in genes])\n",
    "    keywords = [gene_query + \" AND (%s[Title/Abstract])\"%function for function in functions]\n",
    "    return keywords"
   ]
  },
  {
   "cell_type": "code",
   "execution_count": 46,
   "id": "4f26e2c7-4d5c-46b5-af2a-3c693db5bd37",
   "metadata": {},
   "outputs": [
    {
     "name": "stdout",
     "output_type": "stream",
     "text": [
      "Query:\n",
      "I have paragraph\n",
      "Paragraph:\n",
      "KRAS\n",
      "I would like to search PubMed to validate this abstract. give me a list of gene symbols from paragraph. please only include genes. Just tell me keywords only with comma seperated without spacing, if there is no gene, please tell me \"Unknown\" \n",
      "Result:\n",
      "KRAS\n",
      "Query:\n",
      "I have paragraph\n",
      "Paragraph:\n",
      "KRAS\n",
      "I would like to search PubMed to validate this abstract. give me a list of keywords of molecular functions. please don't include gene symbols. please order keywords by their importance in paragraph, from high important to low important. Just tell me keywords only with comma seperated without spacing. if there is no molecular function, please tell me \"Unknown\" \n",
      "Result:\n",
      "Unknown\n"
     ]
    },
    {
     "data": {
      "text/plain": [
       "[]"
      ]
     },
     "execution_count": 46,
     "metadata": {},
     "output_type": "execute_result"
    }
   ],
   "source": [
    "get_keywords_combinations('KRAS', verbose=True)"
   ]
  },
  {
   "cell_type": "code",
   "execution_count": 24,
   "id": "56d3c55a-cd63-4ed8-8b40-22f22a45e35d",
   "metadata": {},
   "outputs": [],
   "source": [
    "def get_references_for_paragraphs(paragraphs, n=5, gpt_model='gpt-4', verbose=False):\n",
    "    references_paragraphs = []\n",
    "    for i, paragraph in enumerate(paragraphs):\n",
    "        if verbose:\n",
    "            print(\"\"\"Extracting keywords from paragraph\\nParagraph:\\n%s\"\"\"%paragraph)\n",
    "            print(\"=\"*75)\n",
    "        keywords = get_keywords_combinations(paragraph, gpt_model=gpt_model, verbose=verbose)\n",
    "        #keywords = list(sorted(keywords, key=len))\n",
    "        keyword_joined = \",\".join(keywords)\n",
    "        #print(\"Keywords: \", keyword_joined)\n",
    "        print(\"Serching paper with keywords...\")\n",
    "        pubmed_queried_keywords = get_papers(keywords, n)\n",
    "        if len(pubmed_queried_keywords)==0:\n",
    "            print(\"No paper searched!!\")\n",
    "            references_paragraphs.append([])\n",
    "        print(\"In paragraph %d, %d references are queried\"%(i+1, len(pubmed_queried_keywords)))\n",
    "        references = get_references(pubmed_queried_keywords, paragraph, gpt_model=gpt_model, n=n, verbose=verbose)\n",
    "        references_paragraphs.append(references)\n",
    "        print(\"In paragraph %d, %d references are matched\"%(i+1, len(references)))\n",
    "        print(\"\")\n",
    "        print(\"\")\n",
    "    n_refs = sum([len(refs) for refs in references_paragraphs])\n",
    "    print(\"Total %d references are queried\"%n_refs)\n",
    "    print(references_paragraphs)\n",
    "    i = 1\n",
    "    referenced_paragraphs = \"\"\n",
    "    footer = \"=\"*200+\"\\n\"\n",
    "    for paragraph, references in zip(paragraphs, references_paragraphs):\n",
    "        referenced_paragraphs += paragraph\n",
    "        for reference in references:\n",
    "            referenced_paragraphs += \"[%d]\"%i\n",
    "            footer += \"[%d] %s\"%(i, reference) + '\\n'\n",
    "            i+=1\n",
    "        referenced_paragraphs += \"\\n\"\n",
    "    return referenced_paragraphs + footer\n",
    "        "
   ]
  },
  {
   "cell_type": "code",
   "execution_count": 25,
   "id": "e4b2fe39-d6c5-496e-8c63-ac83045c6786",
   "metadata": {},
   "outputs": [
    {
     "name": "stdout",
     "output_type": "stream",
     "text": [
      "Extracting keywords from paragraph\n",
      "Paragraph:\n",
      "The interacting protein system being analyzed consists of six proteins: CHST9, DKK1, LRP5, LRP6, RASD2, and TK2. These proteins are involved in various mechanisms and biological processes, with a significant emphasis on the Wnt signaling pathway, which plays a critical role in embryonic development, tissue homeostasis, and cell differentiation. The canonical Wnt signaling pathway includes three of the proteins: DKK1, LRP5, and LRP6. This pathway is crucial for the regulation of gene expression and cellular functions.\n",
      "===========================================================================\n",
      "Query:\n",
      "I have paragraph\n",
      "Paragraph:\n",
      "The interacting protein system being analyzed consists of six proteins: CHST9, DKK1, LRP5, LRP6, RASD2, and TK2. These proteins are involved in various mechanisms and biological processes, with a significant emphasis on the Wnt signaling pathway, which plays a critical role in embryonic development, tissue homeostasis, and cell differentiation. The canonical Wnt signaling pathway includes three of the proteins: DKK1, LRP5, and LRP6. This pathway is crucial for the regulation of gene expression and cellular functions.\n",
      "I would like to search PubMed to validate this abstract. give me a list of gene symbols from paragraph. please only include genes. Just tell me keywords only with comma seperated without spacing\n",
      "Result:\n",
      "CHST9, DKK1, LRP5, LRP6, RASD2, TK2\n",
      "Query:\n",
      "I have paragraph\n",
      "Paragraph:\n",
      "The interacting protein system being analyzed consists of six proteins: CHST9, DKK1, LRP5, LRP6, RASD2, and TK2. These proteins are involved in various mechanisms and biological processes, with a significant emphasis on the Wnt signaling pathway, which plays a critical role in embryonic development, tissue homeostasis, and cell differentiation. The canonical Wnt signaling pathway includes three of the proteins: DKK1, LRP5, and LRP6. This pathway is crucial for the regulation of gene expression and cellular functions.\n",
      "I would like to search PubMed to validate this abstract. give me a list of keywords of molecular functions. please don't include gene symbols. please order keywords by their importance in paragraph, from high important to low important. Just tell me keywords only with comma seperated without spacing\n",
      "Result:\n",
      "Wnt signaling pathway, embryonic development, tissue homeostasis, cell differentiation, canonical Wnt signaling, gene expression, cellular functions\n",
      "Serching paper with keywords...\n",
      "Searching Keyword : (CHST9[Title/Abstract]) OR (DKK1[Title/Abstract]) OR (LRP5[Title/Abstract]) OR (LRP6[Title/Abstract]) OR (RASD2[Title/Abstract]) OR (TK2[Title/Abstract]) AND (Wnt signaling pathway[Title/Abstract])\n",
      "10 papers are found\n",
      "Searching Keyword : (CHST9[Title/Abstract]) OR (DKK1[Title/Abstract]) OR (LRP5[Title/Abstract]) OR (LRP6[Title/Abstract]) OR (RASD2[Title/Abstract]) OR (TK2[Title/Abstract]) AND (embryonic development[Title/Abstract])\n",
      "10 papers are found\n",
      "Searching Keyword : (CHST9[Title/Abstract]) OR (DKK1[Title/Abstract]) OR (LRP5[Title/Abstract]) OR (LRP6[Title/Abstract]) OR (RASD2[Title/Abstract]) OR (TK2[Title/Abstract]) AND (tissue homeostasis[Title/Abstract])\n",
      "10 papers are found\n",
      "Searching Keyword : (CHST9[Title/Abstract]) OR (DKK1[Title/Abstract]) OR (LRP5[Title/Abstract]) OR (LRP6[Title/Abstract]) OR (RASD2[Title/Abstract]) OR (TK2[Title/Abstract]) AND (cell differentiation[Title/Abstract])\n",
      "10 papers are found\n",
      "Searching Keyword : (CHST9[Title/Abstract]) OR (DKK1[Title/Abstract]) OR (LRP5[Title/Abstract]) OR (LRP6[Title/Abstract]) OR (RASD2[Title/Abstract]) OR (TK2[Title/Abstract]) AND (canonical Wnt signaling[Title/Abstract])\n",
      "10 papers are found\n",
      "Searching Keyword : (CHST9[Title/Abstract]) OR (DKK1[Title/Abstract]) OR (LRP5[Title/Abstract]) OR (LRP6[Title/Abstract]) OR (RASD2[Title/Abstract]) OR (TK2[Title/Abstract]) AND (gene expression[Title/Abstract])\n",
      "10 papers are found\n",
      "Searching Keyword : (CHST9[Title/Abstract]) OR (DKK1[Title/Abstract]) OR (LRP5[Title/Abstract]) OR (LRP6[Title/Abstract]) OR (RASD2[Title/Abstract]) OR (TK2[Title/Abstract]) AND (cellular functions[Title/Abstract])\n",
      "10 papers are found\n",
      "In paragraph 1, 21 references are queried\n",
      "Cannot parse citation even though this paper support pargraph\n",
      "Error detail:  'Pagination'\n",
      "Title:  Wnt Signaling Activation in Gingival Epithelial Cells and Macrophages of Experimental Periodontitis.\n",
      "Query: \n",
      "I have pharagraph\n",
      " Pharagraph:\n",
      "The interacting protein system being analyzed consists of six proteins: CHST9, DKK1, LRP5, LRP6, RASD2, and TK2. These proteins are involved in various mechanisms and biological processes, with a significant emphasis on the Wnt signaling pathway, which plays a critical role in embryonic development, tissue homeostasis, and cell differentiation. The canonical Wnt signaling pathway includes three of the proteins: DKK1, LRP5, and LRP6. This pathway is crucial for the regulation of gene expression and cellular functions.\n",
      "and abstract.\n",
      " Abstract:\n",
      "<b>Objective</b>: Wingless/integrated (Wnt) signaling plays critical roles in maintaining environmental homeostasis and is also involved in the pathogenesis of inflammatory diseases. However, its role in macrophages during periodontitis is not well understood. The present study aims to investigate the interaction between Wnt signaling and macrophages in the context of periodontitis. <b>Methods</b>: Experimental periodontitis was induced in C57/BL6 mice using a <i>Porphyromonas gingivalis</i> (<i>P.g</i>)-associated ligature for 14 days. Immunohistochemistry was performed to study the expression of the pro-inflammatory cytokine tumor necrosis factor (TNF-α), the stabilization of β-catenin, and the macrophage marker F4/80 in the periodontal tissues. The effect of Wnt signaling on TNF-α was examined using Western blot analysis in Raw 264.7 murine macrophages stimulated by Wnt3a-conditioned medium, with or without Wnt3a antibody neutralization, and compared with primary cultured gingival epithelial cells (GECs). The effect of <i>P.g</i> lipopolysaccharide (LPS) on Wnt signaling was assessed by analyzing key components of the Wnt signaling pathway, including the activity of low-density lipoprotein receptor-related protein (LRP) 6 and nuclear accumulation of β-catenin in GEC and Raw 264.7 cells. <b>Results</b>: Over-expressions of TNF-α and activated β-catenin were presented in the macrophages in the gingiva from mice with <i>P.g</i>-associated ligature-induced periodontitis. The expression patterns of TNF-α and activated β-catenin were consistent with the expression of F4/80. In Raw 264.7 cells, activation of the Wnt signaling pathway led to an increase in TNF-α, but this effect was not observed in GEC. Additionally, treatment with LPS induced β-catenin accumulation and LRP6 activation in Raw 264.7 cells, which were blocked by the addition of Dickkopf-1(DKK1). <b>Conclusions</b>: Wnt signaling was aberrantly activated in the macrophages in experimental periodontitis. The activation of Wnt signaling in the macrophages may play a pro-inflammatory role in periodontitis. Targeting specific signaling pathways, such as the Wnt pathway, may hold promise for developing novel therapeutic interventions for periodontitis.\n",
      "Does this abstract support this paragraph? Please tell me yes or no\n",
      "Result:\n",
      "Yes, the abstract supports the paragraph as both discuss the Wnt signaling pathway and its involvement in biological processes. The paragraph focuses on the proteins involved in the Wnt signaling pathway, while the abstract investigates the role of Wnt signaling in macrophages during periodontitis. Both mention the proteins DKK1 and LRP6, which are part of the canonical Wnt signaling pathway.\n",
      "========================================================================================================================================================================================================\n",
      "Cannot parse citation even though this paper support pargraph\n",
      "Error detail:  'Pagination'\n",
      "Title:  The plasma levels of Dickkopf-1 elevated in patients with Juvenile Idiopathic Arthritis.\n",
      "Query: \n",
      "I have pharagraph\n",
      " Pharagraph:\n",
      "The interacting protein system being analyzed consists of six proteins: CHST9, DKK1, LRP5, LRP6, RASD2, and TK2. These proteins are involved in various mechanisms and biological processes, with a significant emphasis on the Wnt signaling pathway, which plays a critical role in embryonic development, tissue homeostasis, and cell differentiation. The canonical Wnt signaling pathway includes three of the proteins: DKK1, LRP5, and LRP6. This pathway is crucial for the regulation of gene expression and cellular functions.\n",
      "and abstract.\n",
      " Abstract:\n",
      "To explore the role of two major inhibitors of Wnt signal pathway, Dickkopf-1(DKK-1) and Sclerostin (SOST), in the pathogenesis of juvenile idiopathic arthritis (JIA).\n",
      "Does this abstract support this paragraph? Please tell me yes or no\n",
      "Result:\n",
      "Yes, the abstract supports the paragraph as it mentions DKK1, which is one of the proteins involved in the Wnt signaling pathway discussed in the paragraph.\n",
      "========================================================================================================================================================================================================\n",
      "Title:  SELENOP modifies sporadic colorectal carcinogenesis and WNT signaling activity through LRP5/6 interactions.\n",
      "Query: \n",
      "I have pharagraph\n",
      " Pharagraph:\n",
      "The interacting protein system being analyzed consists of six proteins: CHST9, DKK1, LRP5, LRP6, RASD2, and TK2. These proteins are involved in various mechanisms and biological processes, with a significant emphasis on the Wnt signaling pathway, which plays a critical role in embryonic development, tissue homeostasis, and cell differentiation. The canonical Wnt signaling pathway includes three of the proteins: DKK1, LRP5, and LRP6. This pathway is crucial for the regulation of gene expression and cellular functions.\n",
      "and abstract.\n",
      " Abstract:\n",
      "Although selenium deficiency correlates with colorectal cancer (CRC) risk, the roles of the selenium-rich antioxidant selenoprotein P (SELENOP) in CRC remain unclear. In this study, we defined SELENOP's contributions to sporadic colorectal carcinogenesis. In human scRNA-seq datasets, we discovered that SELENOP expression rises as normal colon stem cells transform into adenomas that progress into carcinomas. We next examined the effects of Selenop KO in a mouse adenoma model that involves conditional, intestinal epithelial-specific deletion of the tumor suppressor adenomatous polyposis coli (Apc) and found that Selenop KO decreased colon tumor incidence and size. We mechanistically interrogated SELENOP-driven phenotypes in tumor organoids as well as CRC and noncancer cell lines. Selenop KO tumor organoids demonstrated defects in organoid formation and decreases in WNT target gene expression, which could be reversed by SELENOP restoration. Moreover, SELENOP increased canonical WNT signaling activity in noncancer and CRC cell lines. In defining SELENOP's mechanism of action, we mapped protein-protein interactions between SELENOP and the WNT co-receptor low-density lipoprotein receptor-related protein 5/6 (LRP5/6). Lastly, we confirmed that SELENOP:LRP5/6 interactions contributed to SELENOP's effects on WNT activity. Overall, our results position SELENOP as a modulator of the WNT signaling pathway in sporadic CRC.\n",
      "Does this abstract support this paragraph? Please tell me yes or no\n",
      "Result:\n",
      "No, the abstract does not directly support the paragraph. The paragraph focuses on an interacting protein system involving six proteins (CHST9, DKK1, LRP5, LRP6, RASD2, and TK2) and their role in the Wnt signaling pathway. The abstract, on the other hand, discusses the role of selenoprotein P (SELENOP) in colorectal cancer and its modulation of the WNT signaling pathway. While both mention the WNT signaling pathway, they discuss different proteins and their roles in the pathway.\n",
      "========================================================================================================================================================================================================\n",
      "Cannot parse citation even though this paper support pargraph\n",
      "Error detail:  'Pagination'\n",
      "Title:  WNT Co-Receptor LRP6 Is Critical for Zygotic Genome Activation and Embryonic Developmental Potential by Interacting with Oviductal Paracrine Ligand WNT2.\n",
      "Query: \n",
      "I have pharagraph\n",
      " Pharagraph:\n",
      "The interacting protein system being analyzed consists of six proteins: CHST9, DKK1, LRP5, LRP6, RASD2, and TK2. These proteins are involved in various mechanisms and biological processes, with a significant emphasis on the Wnt signaling pathway, which plays a critical role in embryonic development, tissue homeostasis, and cell differentiation. The canonical Wnt signaling pathway includes three of the proteins: DKK1, LRP5, and LRP6. This pathway is crucial for the regulation of gene expression and cellular functions.\n",
      "and abstract.\n",
      " Abstract:\n",
      "Mammalian preimplantation development depends on the interaction between embryonic autocrine and maternal paracrine signaling. Despite the robust independence of preimplantation embryos, oviductal factors are thought to be critical to pregnancy success. However, how oviductal factors regulate embryonic development and the underlying mechanism remain unknown. In the present study, focusing on WNT signaling, which has been reported to be essential for developmental reprogramming after fertilization, we analyzed the receptor-ligand repertoire of preimplantation embryonic WNT signaling, and identified that the WNT co-receptor LRP6 is necessary for early cleavage and has a prolonged effect on preimplantation development. LRP6 inhibition significantly impeded zygotic genome activation and disrupted relevant epigenetic reprogramming. Focusing on the potential oviductal WNT ligands, we found WNT2 as the candidate interacting with embryonic LRP6. More importantly, we found that WNT2 supplementation in culture medium significantly promoted zygotic genome activation (ZGA) and improved blastocyst formation and quality following in vitro fertilization (IVF). In addition, WNT2 supplementation significantly improved implantation rate and pregnancy outcomes following embryo transfer. Collectively, our findings not only provide novel insight into how maternal factors regulate preimplantation development through maternal-embryonic communication, but they also propose a promising strategy for improving current IVF systems.\n",
      "Does this abstract support this paragraph? Please tell me yes or no\n",
      "Result:\n",
      "Yes, the abstract supports the paragraph as both discuss the importance of the Wnt signaling pathway in embryonic development and mention the involvement of LRP6 in the process.\n",
      "========================================================================================================================================================================================================\n",
      "Title:  Structure of the Wnt-Frizzled-LRP6 initiation complex reveals the basis for coreceptor discrimination.\n",
      "Query: \n",
      "I have pharagraph\n",
      " Pharagraph:\n",
      "The interacting protein system being analyzed consists of six proteins: CHST9, DKK1, LRP5, LRP6, RASD2, and TK2. These proteins are involved in various mechanisms and biological processes, with a significant emphasis on the Wnt signaling pathway, which plays a critical role in embryonic development, tissue homeostasis, and cell differentiation. The canonical Wnt signaling pathway includes three of the proteins: DKK1, LRP5, and LRP6. This pathway is crucial for the regulation of gene expression and cellular functions.\n",
      "and abstract.\n",
      " Abstract:\n",
      "Wnt morphogens are critical for embryonic development and tissue regeneration. Canonical Wnts form ternary receptor complexes composed of tissue-specific Frizzled (Fzd) receptors together with the shared LRP5/6 coreceptors to initiate β-catenin signaling. The cryo-EM structure of a ternary initiation complex of an affinity-matured XWnt8-Frizzled8-LRP6 complex elucidates the basis of coreceptor discrimination by canonical Wnts by means of their N termini and linker domains that engage the LRP6 E1E2 domain funnels. Chimeric Wnts bearing modular linker \"grafts\" were able to transfer LRP6 domain specificity between different Wnts and enable non-canonical Wnt5a to signal through the canonical pathway. Synthetic peptides comprising the linker domain serve as Wnt-specific antagonists. The structure of the ternary complex provides a topological blueprint for the orientation and proximity of Frizzled and LRP6 within the Wnt cell surface signalosome.\n",
      "Does this abstract support this paragraph? Please tell me yes or no\n",
      "Result:\n",
      "Yes, the abstract supports the paragraph as both discuss the importance of the Wnt signaling pathway, specifically mentioning LRP5 and LRP6, and their roles in embryonic development and tissue homeostasis.\n",
      "========================================================================================================================================================================================================\n",
      "Title:  Canonical Wnt signaling activation by chimeric antigen receptors for efficient cardiac differentiation from mouse embryonic stem cells.\n",
      "Query: \n",
      "I have pharagraph\n",
      " Pharagraph:\n",
      "The interacting protein system being analyzed consists of six proteins: CHST9, DKK1, LRP5, LRP6, RASD2, and TK2. These proteins are involved in various mechanisms and biological processes, with a significant emphasis on the Wnt signaling pathway, which plays a critical role in embryonic development, tissue homeostasis, and cell differentiation. The canonical Wnt signaling pathway includes three of the proteins: DKK1, LRP5, and LRP6. This pathway is crucial for the regulation of gene expression and cellular functions.\n",
      "and abstract.\n",
      " Abstract:\n",
      "Canonical Wnt signaling is involved in a variety of biological processes including stem cell renewal and differentiation, embryonic development, and tissue regeneration. Previous studies reported the stage-specific roles of the Wnt signaling in heart development. Canonical Wnt signal activation by recombinant Wnt3a in the early phase of differentiation enhances the efficiency of myocardial cell production from pluripotent stem cells. However, the hydrophobicity of Wnt proteins results in high cost to produce the recombinant proteins and presents an obstacle to their preparation and application for therapeutics, cell therapy, or molecular analysis of Wnt signaling.\n",
      "Does this abstract support this paragraph? Please tell me yes or no\n",
      "Result:\n",
      "Yes, the abstract supports the paragraph as both discuss the importance of the Wnt signaling pathway in biological processes, including embryonic development and cell differentiation.\n",
      "========================================================================================================================================================================================================\n",
      "In paragraph 1, 3 references are matched\n",
      "\n",
      "\n",
      "Extracting keywords from paragraph\n",
      "Paragraph:\n",
      "Regarding cellular components and complexes, the system's proteins are located in various cellular regions. Four of the proteins (CHST9, LRP5, LRP6, and RASD2) are found in the membrane, with DKK1, LRP5, LRP6, and RASD2 being present in the plasma membrane. CHST9, DKK1, and LRP6 are located in the extracellular region, while LRP5 and LRP6 are found in the endoplasmic reticulum. Additionally, DKK1 and LRP6 are present in the early endosome membrane. The Wnt-Frizzled-LRP5/6 complex involves LRP5 and LRP6, which participate in the coreceptor activity for both canonical Wnt signaling and the Wnt signaling pathway.\n",
      "===========================================================================\n",
      "Query:\n",
      "I have paragraph\n",
      "Paragraph:\n",
      "Regarding cellular components and complexes, the system's proteins are located in various cellular regions. Four of the proteins (CHST9, LRP5, LRP6, and RASD2) are found in the membrane, with DKK1, LRP5, LRP6, and RASD2 being present in the plasma membrane. CHST9, DKK1, and LRP6 are located in the extracellular region, while LRP5 and LRP6 are found in the endoplasmic reticulum. Additionally, DKK1 and LRP6 are present in the early endosome membrane. The Wnt-Frizzled-LRP5/6 complex involves LRP5 and LRP6, which participate in the coreceptor activity for both canonical Wnt signaling and the Wnt signaling pathway.\n",
      "I would like to search PubMed to validate this abstract. give me a list of gene symbols from paragraph. please only include genes. Just tell me keywords only with comma seperated without spacing\n",
      "Result:\n",
      "CHST9, LRP5, LRP6, RASD2, DKK1\n",
      "Query:\n",
      "I have paragraph\n",
      "Paragraph:\n",
      "Regarding cellular components and complexes, the system's proteins are located in various cellular regions. Four of the proteins (CHST9, LRP5, LRP6, and RASD2) are found in the membrane, with DKK1, LRP5, LRP6, and RASD2 being present in the plasma membrane. CHST9, DKK1, and LRP6 are located in the extracellular region, while LRP5 and LRP6 are found in the endoplasmic reticulum. Additionally, DKK1 and LRP6 are present in the early endosome membrane. The Wnt-Frizzled-LRP5/6 complex involves LRP5 and LRP6, which participate in the coreceptor activity for both canonical Wnt signaling and the Wnt signaling pathway.\n",
      "I would like to search PubMed to validate this abstract. give me a list of keywords of molecular functions. please don't include gene symbols. please order keywords by their importance in paragraph, from high important to low important. Just tell me keywords only with comma seperated without spacing\n",
      "Result:\n",
      "cellular components, complexes, proteins, membrane, plasma membrane, extracellular region, endoplasmic reticulum, early endosome membrane, Wnt-Frizzled-LRP5/6 complex, coreceptor activity, canonical Wnt signaling, Wnt signaling pathway\n",
      "Serching paper with keywords...\n",
      "Searching Keyword : (CHST9[Title/Abstract]) OR (LRP5[Title/Abstract]) OR (LRP6[Title/Abstract]) OR (RASD2[Title/Abstract]) OR (DKK1[Title/Abstract]) AND (cellular components[Title/Abstract])\n",
      "No results found.\n",
      "0 papers are found\n",
      "Searching Keyword : (CHST9[Title/Abstract]) OR (LRP5[Title/Abstract]) OR (LRP6[Title/Abstract]) OR (RASD2[Title/Abstract]) OR (DKK1[Title/Abstract]) AND (complexes[Title/Abstract])\n",
      "10 papers are found\n",
      "Searching Keyword : (CHST9[Title/Abstract]) OR (LRP5[Title/Abstract]) OR (LRP6[Title/Abstract]) OR (RASD2[Title/Abstract]) OR (DKK1[Title/Abstract]) AND (proteins[Title/Abstract])\n",
      "10 papers are found\n",
      "Searching Keyword : (CHST9[Title/Abstract]) OR (LRP5[Title/Abstract]) OR (LRP6[Title/Abstract]) OR (RASD2[Title/Abstract]) OR (DKK1[Title/Abstract]) AND (membrane[Title/Abstract])\n",
      "10 papers are found\n",
      "Searching Keyword : (CHST9[Title/Abstract]) OR (LRP5[Title/Abstract]) OR (LRP6[Title/Abstract]) OR (RASD2[Title/Abstract]) OR (DKK1[Title/Abstract]) AND (plasma membrane[Title/Abstract])\n",
      "10 papers are found\n",
      "Searching Keyword : (CHST9[Title/Abstract]) OR (LRP5[Title/Abstract]) OR (LRP6[Title/Abstract]) OR (RASD2[Title/Abstract]) OR (DKK1[Title/Abstract]) AND (extracellular region[Title/Abstract])\n",
      "7 papers are found\n",
      "Searching Keyword : (CHST9[Title/Abstract]) OR (LRP5[Title/Abstract]) OR (LRP6[Title/Abstract]) OR (RASD2[Title/Abstract]) OR (DKK1[Title/Abstract]) AND (endoplasmic reticulum[Title/Abstract])\n",
      "10 papers are found\n",
      "Searching Keyword : (CHST9[Title/Abstract]) OR (LRP5[Title/Abstract]) OR (LRP6[Title/Abstract]) OR (RASD2[Title/Abstract]) OR (DKK1[Title/Abstract]) AND (early endosome membrane[Title/Abstract])\n",
      "No results found.\n",
      "0 papers are found\n",
      "Searching Keyword : (CHST9[Title/Abstract]) OR (LRP5[Title/Abstract]) OR (LRP6[Title/Abstract]) OR (RASD2[Title/Abstract]) OR (DKK1[Title/Abstract]) AND (Wnt-Frizzled-LRP5/6 complex[Title/Abstract])\n",
      "5 papers are found\n",
      "Searching Keyword : (CHST9[Title/Abstract]) OR (LRP5[Title/Abstract]) OR (LRP6[Title/Abstract]) OR (RASD2[Title/Abstract]) OR (DKK1[Title/Abstract]) AND (coreceptor activity[Title/Abstract])\n",
      "No results found.\n",
      "0 papers are found\n",
      "Searching Keyword : (CHST9[Title/Abstract]) OR (LRP5[Title/Abstract]) OR (LRP6[Title/Abstract]) OR (RASD2[Title/Abstract]) OR (DKK1[Title/Abstract]) AND (canonical Wnt signaling[Title/Abstract])\n",
      "10 papers are found\n",
      "Searching Keyword : (CHST9[Title/Abstract]) OR (LRP5[Title/Abstract]) OR (LRP6[Title/Abstract]) OR (RASD2[Title/Abstract]) OR (DKK1[Title/Abstract]) AND (Wnt signaling pathway[Title/Abstract])\n",
      "10 papers are found\n",
      "In paragraph 2, 27 references are queried\n",
      "Title:  Kallistatin as an inhibitory protein against colorectal cancer cells through binding to LRP6.\n",
      "Query: \n",
      "I have pharagraph\n",
      " Pharagraph:\n",
      "Regarding cellular components and complexes, the system's proteins are located in various cellular regions. Four of the proteins (CHST9, LRP5, LRP6, and RASD2) are found in the membrane, with DKK1, LRP5, LRP6, and RASD2 being present in the plasma membrane. CHST9, DKK1, and LRP6 are located in the extracellular region, while LRP5 and LRP6 are found in the endoplasmic reticulum. Additionally, DKK1 and LRP6 are present in the early endosome membrane. The Wnt-Frizzled-LRP5/6 complex involves LRP5 and LRP6, which participate in the coreceptor activity for both canonical Wnt signaling and the Wnt signaling pathway.\n",
      "and abstract.\n",
      " Abstract:\n",
      "Kallistatin (KL) is a member of the serine proteinase inhibitor (serpin) family regulating oxidative stress, vascular relaxation, inflammation, angiogenesis, cell proliferation, and invasion. The heparin-binding site of Kallistatin has an important role in the interaction with LRP6 leading to the blockade of the Wnt signaling pathway. In this study, we aimed to explore the structural basis of the Kallistatin-LRP6E1E4 complex using in silico approaches and evaluating the anti-proliferative, apoptotic, and cell cycle arrest activities of Kallistatin in colon cancer lines. The molecular docking showed Kallistatin could bind to the LRP6E3E4 much stronger than LRP6E1E2. The Kallistatin-LRP6E1E2 and Kallistatin-LRP6E3E4 complexes were stable during Molecular Dynamics (MD) simulation. The Molecular Mechanics/Poisson-Boltzmann Surface Area (MM/PBSA) showed that the Kallistatin-LRP6E3E4 has a higher binding affinity compared to Kallistatin-LRP6E1E2. Kallistatin induced higher cytotoxicity and apoptosis in HCT116 compared to the SW480 cell line. This protein-induced cell-cycle arrest in both cell lines at the G1 phase. The B-catenin, cyclin D1, and c-Myc expression levels were decreased in response to treatment with Kallistatin in both cell lines while the LRP6 expression level was decreased in the HCT116 cell line. Kallistatin has a greater effect on the HCT116 cell line compared to the SW480 cell line. Kallistatin can be used as a cytotoxic and apoptotic-inducing agent in colorectal cancer cell lines.\n",
      "Does this abstract support this paragraph? Please tell me yes or no\n",
      "Result:\n",
      "No\n",
      "========================================================================================================================================================================================================\n",
      "Title:  Structure of the Wnt-Frizzled-LRP6 initiation complex reveals the basis for coreceptor discrimination.\n",
      "Query: \n",
      "I have pharagraph\n",
      " Pharagraph:\n",
      "Regarding cellular components and complexes, the system's proteins are located in various cellular regions. Four of the proteins (CHST9, LRP5, LRP6, and RASD2) are found in the membrane, with DKK1, LRP5, LRP6, and RASD2 being present in the plasma membrane. CHST9, DKK1, and LRP6 are located in the extracellular region, while LRP5 and LRP6 are found in the endoplasmic reticulum. Additionally, DKK1 and LRP6 are present in the early endosome membrane. The Wnt-Frizzled-LRP5/6 complex involves LRP5 and LRP6, which participate in the coreceptor activity for both canonical Wnt signaling and the Wnt signaling pathway.\n",
      "and abstract.\n",
      " Abstract:\n",
      "Wnt morphogens are critical for embryonic development and tissue regeneration. Canonical Wnts form ternary receptor complexes composed of tissue-specific Frizzled (Fzd) receptors together with the shared LRP5/6 coreceptors to initiate β-catenin signaling. The cryo-EM structure of a ternary initiation complex of an affinity-matured XWnt8-Frizzled8-LRP6 complex elucidates the basis of coreceptor discrimination by canonical Wnts by means of their N termini and linker domains that engage the LRP6 E1E2 domain funnels. Chimeric Wnts bearing modular linker \"grafts\" were able to transfer LRP6 domain specificity between different Wnts and enable non-canonical Wnt5a to signal through the canonical pathway. Synthetic peptides comprising the linker domain serve as Wnt-specific antagonists. The structure of the ternary complex provides a topological blueprint for the orientation and proximity of Frizzled and LRP6 within the Wnt cell surface signalosome.\n",
      "Does this abstract support this paragraph? Please tell me yes or no\n",
      "Result:\n",
      "Yes, the abstract supports the paragraph as both discuss the involvement of LRP5/6 in the Wnt signaling pathway and their role as coreceptors.\n",
      "========================================================================================================================================================================================================\n",
      "Title:  The role of cyclin Y in normal and pathological cells.\n",
      "Query: \n",
      "I have pharagraph\n",
      " Pharagraph:\n",
      "Regarding cellular components and complexes, the system's proteins are located in various cellular regions. Four of the proteins (CHST9, LRP5, LRP6, and RASD2) are found in the membrane, with DKK1, LRP5, LRP6, and RASD2 being present in the plasma membrane. CHST9, DKK1, and LRP6 are located in the extracellular region, while LRP5 and LRP6 are found in the endoplasmic reticulum. Additionally, DKK1 and LRP6 are present in the early endosome membrane. The Wnt-Frizzled-LRP5/6 complex involves LRP5 and LRP6, which participate in the coreceptor activity for both canonical Wnt signaling and the Wnt signaling pathway.\n",
      "and abstract.\n",
      " Abstract:\n",
      "The family protein of cyclins, as well as cyclin-dependent kinases (CDKs) cooperating with them, are broadly researched, as a matter of their dysfunction may lead to tumor transformation. Cyclins are defined as key regulators that have a controlling function of the mammalian nuclear cell divides. Cyclin Y (CCNY) is a recently characterized member of the cyclin family and was first identified from the human testis cDNA library. It is an actin-binding protein acting through decreased actin dynamics at a steady state and during glycine-induced long-term potentiation (LTP) and involves the inhibition of cofilin activation. What is more, CCNY is a positive regulatory subunit of the CDK14/PFTK1 complexes affected by the activation of the Wnt signaling pathway in the G2/M phase by recruiting CDK14/PFTK1 to the plasma membrane and promoting phosphorylation of LRP6. The expression of CCNY has been significantly mentioned within the cell migration and invasion activity both in vivo and in vitro. The aim of this review is evaluation of the expression of CCNY in the physiology processes and compare the expression of this protein in cancer cells, taking into account the impact of the level of expression on tumor progression.\n",
      "Does this abstract support this paragraph? Please tell me yes or no\n",
      "Result:\n",
      "No, the abstract does not directly support the paragraph. The paragraph focuses on the cellular components and complexes involving proteins like CHST9, LRP5, LRP6, and RASD2, while the abstract discusses the role of Cyclin Y (CCNY) and its involvement in the Wnt signaling pathway and tumor progression. Although both mention the Wnt signaling pathway and LRP6, the abstract does not provide supporting information for the specific details mentioned in the paragraph.\n",
      "========================================================================================================================================================================================================\n",
      "Title:  Marantodes pumilum (Kacip Fatimah) Aqueous Extract Enhances Osteoblast and Suppresses Osteoclast Activities in Cancellous Bone of a Rat Model of Postmenopause.\n",
      "Query: \n",
      "I have pharagraph\n",
      " Pharagraph:\n",
      "Regarding cellular components and complexes, the system's proteins are located in various cellular regions. Four of the proteins (CHST9, LRP5, LRP6, and RASD2) are found in the membrane, with DKK1, LRP5, LRP6, and RASD2 being present in the plasma membrane. CHST9, DKK1, and LRP6 are located in the extracellular region, while LRP5 and LRP6 are found in the endoplasmic reticulum. Additionally, DKK1 and LRP6 are present in the early endosome membrane. The Wnt-Frizzled-LRP5/6 complex involves LRP5 and LRP6, which participate in the coreceptor activity for both canonical Wnt signaling and the Wnt signaling pathway.\n",
      "and abstract.\n",
      " Abstract:\n",
      "Evidence pointed towards the benefits of Marantodes pumilum in treating osteoporosis after menopause; however, the detailed mechanisms still have not been explored. Therefore, this study aims to identify the molecular mechanisms underlying M. pumilum's bone-protective effect via the involvement of RANK/RANKL/OPG and Wnt/β-catenin signaling pathways. Ovariectomized adult female rats were given M. pumilum leaf aqueous extract (MPLA) (50 and 100 mg/kg/day) and estrogen (positive control) orally for twenty-eight consecutive days. Following the treatment, rats were sacrificed, and femur bones were harvested. Blood was withdrawn for analysis of serum Ca<sup>2+</sup>, PO<sub>4</sub><sup>3-</sup>, and bone alkaline phosphatase (BALP) levels. The bone microarchitectural changes were observed by H&E and PAS staining and distribution and expression of RANK/RANKL/OPG and Wnt3a/β-catenin and its downstream proteins were determined by immunohistochemistry, immunofluorescence, Western blot, and real-time PCR. MPLA treatment increased serum Ca<sup>2+</sup> and PO<sub>4</sub><sup>3-</sup> levels and reduced serum BALP levels (p < 0.05). Besides, deterioration in cancellous bone microarchitecture and the loss of bone glycogen and collagen content were mitigated by MPLA treatment. Levels of RANKL, Traf6, and NF-kB but not RANK in bone were decreased; however, levels of OPG, Wnt3a, LRP-5, Frizzled, Dvl, β-catenin, RUNX, and Bmp-2 in bone were increased following treatment with MPLA. In conclusion, MPLA helps to protect against bone deterioration in estrogen deficiency state and thus, this herb could potentially be used to ameliorate osteoporosis in women after menopause.\n",
      "Does this abstract support this paragraph? Please tell me yes or no\n",
      "Result:\n",
      "No, the abstract does not directly support the paragraph. The paragraph focuses on the cellular components and complexes related to proteins, while the abstract discusses the benefits of Marantodes pumilum in treating osteoporosis and its effects on RANK/RANKL/OPG and Wnt/β-catenin signaling pathways. Although both mention Wnt signaling, the specific proteins and cellular locations discussed in the paragraph are not mentioned in the abstract.\n",
      "========================================================================================================================================================================================================\n",
      "Title:  Cigarette smoking induces lung cancer tumorigenesis via upregulation of the WNT/β-catenin signaling pathway.\n",
      "Query: \n",
      "I have pharagraph\n",
      " Pharagraph:\n",
      "Regarding cellular components and complexes, the system's proteins are located in various cellular regions. Four of the proteins (CHST9, LRP5, LRP6, and RASD2) are found in the membrane, with DKK1, LRP5, LRP6, and RASD2 being present in the plasma membrane. CHST9, DKK1, and LRP6 are located in the extracellular region, while LRP5 and LRP6 are found in the endoplasmic reticulum. Additionally, DKK1 and LRP6 are present in the early endosome membrane. The Wnt-Frizzled-LRP5/6 complex involves LRP5 and LRP6, which participate in the coreceptor activity for both canonical Wnt signaling and the Wnt signaling pathway.\n",
      "and abstract.\n",
      " Abstract:\n",
      "Lung cancer has the highest mortality rate compared to any other cancer worldwide, and cigarette smoking is one of the major etiological factors. How cigarette smoke (CS) induces tumorigenesis in healthy cells is still not completely understood. In this study, we treated healthy human bronchial epithelial cells (16HBE14o) with 1 % cigarette smoke extract (CSE) for one week. The CSE exposed cells showed upregulation of WNT/β-catenin pathway genes like WNT3, DLV3, AXIN and β-catenin, 30 oncology proteins were found to be upregulated after CSE treatment. Further, we explored whether the role of extracellular vesicles (EVs) obtained from CSE exposed cells can induce tumorigenesis. We observed that CSE EVs induced migration of healthy 16HBE14o cells by upregulation of various oncology proteins in recipient cells like AXL, EGFR, DKK1, ENG, FGF2, ICAM1, HMOX1, HIF1a, SERPINE1, SNAIL, HGFR, PLAU which are related to WNT signaling, epithelial mesenchymal transition (EMT) and Inflammation, whereas inflammatory marker, GAL-3 and EMT marker, VIM were downregulated. Moreover, β-catenin RNA was found in CSE EVs, upon treatment of these EVs to healthy cells, the β-catenin gene level was decreased in recipient cells compared to healthy 16HBE14o cells, indicating the utilisation of β-catenin RNA in healthy cells. Overall, our study suggests that CS treatment can induce tumorigenesis of healthy cells by upregulating WNT/β-catenin signaling in vitro and human lung cancer patients. Therefore targeting the WNT/β-catenin signaling pathway is involved in tumorigenesis inhibition of this pathway could be a potential therapeutic approach for cigarette smoke induced lung cancer.\n",
      "Does this abstract support this paragraph? Please tell me yes or no\n",
      "Result:\n",
      "Yes, the abstract supports the paragraph as both discuss the WNT signaling pathway and its role in cellular processes. The paragraph focuses on the cellular components and complexes involved in the WNT signaling pathway, while the abstract discusses the upregulation of WNT/β-catenin signaling in the context of cigarette smoke-induced lung cancer.\n",
      "========================================================================================================================================================================================================\n",
      "Title:  Hypoxia-induced Wnt/β-catenin signaling activation in subchondral bone osteoblasts leads to an osteoarthritis-like phenotype of chondrocytes in articular cartilage.\n",
      "Query: \n",
      "I have pharagraph\n",
      " Pharagraph:\n",
      "Regarding cellular components and complexes, the system's proteins are located in various cellular regions. Four of the proteins (CHST9, LRP5, LRP6, and RASD2) are found in the membrane, with DKK1, LRP5, LRP6, and RASD2 being present in the plasma membrane. CHST9, DKK1, and LRP6 are located in the extracellular region, while LRP5 and LRP6 are found in the endoplasmic reticulum. Additionally, DKK1 and LRP6 are present in the early endosome membrane. The Wnt-Frizzled-LRP5/6 complex involves LRP5 and LRP6, which participate in the coreceptor activity for both canonical Wnt signaling and the Wnt signaling pathway.\n",
      "and abstract.\n",
      " Abstract:\n",
      "<b>Background:</b> Osteoarthritis (OA) is a whole-joint disease and characterized by alterations in the articular cartilage, subchondral bone, ligaments, and synovial membrane. The crosstalk between cartilage and subchondral bone plays a crucial role in the pathogenesis and progression of OA. Hypoxia has been reported to play an important role in cartilage degradation and subchondral bone remodeling in OA. In this study, we aimed to identify the involvement of hypoxia in modifying the osteoblast phenotypes and determine whether these alterations could influence the metabolism of chondrocytes. <b>Methods:</b> First, the levels of Hif-1α in subchondral bone of different compartments in patients with OA were assessed using immunohistochemistry (IHC). In <i>in vitro</i>, human primary osteoblasts were cultured under hypoxic and normoxic conditions, and the hypoxic or normoxic conditioned media (HCM and NCM) were used to culture human primary chondrocytes. Then, phenotypic changes in osteoblasts were assessed using reverse transcription-polymerase chain reaction (RT-PCR), Western blotting, and enzyme-linked immunosorbent assay (ELISA). Furthermore, the expression of type II collagen (COL2A1), aggrecan (ACAN), SRY-related high-mobility group-box gene 9 (SOX9), matrix metalloproteinase 13 (MMP13), and matrix metalloproteinase 3 (MMP3) in chondrocytes was measured using RT-PCR. Finally, the serum levels of Wnt-related proteins were determined using ELISA. <b>Results:</b> Hif-1α was significantly increased in severely sclerotic subchondral bone compared to less damaged subchondral bone. β-Catenin and SOST were identified as upregulated and downregulated in hypoxic osteoblasts, respectively. The hypoxia-induced results were confirmed by ELISA. Stimulating human primary chondrocytes with HCM significantly induced MMP13 and MMP3 and inhibited COL2A1, ACAN, and SOX9 mRNA expression. The serum levels of DKK-1 were significantly increased in human OA. <b>Conclusion:</b> Together, these findings revealed that hypoxia in subchondral bone is a key factor in the crosstalk between chondrocytes and osteoblasts and facilitates the shift of chondrocytes toward an OA-like phenotype probably by activating the Wnt/β-catenin signaling pathway in osteoblasts.\n",
      "Does this abstract support this paragraph? Please tell me yes or no\n",
      "Result:\n",
      "No, the abstract does not directly support the paragraph. The paragraph focuses on the cellular components and complexes related to proteins CHST9, LRP5, LRP6, RASD2, and DKK1, and their locations within the cell. The abstract, on the other hand, discusses the role of hypoxia in osteoarthritis and its effects on osteoblasts and chondrocytes, with a focus on the Wnt/β-catenin signaling pathway. While both mention the Wnt signaling pathway, the specific proteins and cellular locations discussed in the paragraph are not mentioned in the abstract.\n",
      "========================================================================================================================================================================================================\n",
      "Title:  Hypoxia-induced Wnt/β-catenin signaling activation in subchondral bone osteoblasts leads to an osteoarthritis-like phenotype of chondrocytes in articular cartilage.\n",
      "Query: \n",
      "I have pharagraph\n",
      " Pharagraph:\n",
      "Regarding cellular components and complexes, the system's proteins are located in various cellular regions. Four of the proteins (CHST9, LRP5, LRP6, and RASD2) are found in the membrane, with DKK1, LRP5, LRP6, and RASD2 being present in the plasma membrane. CHST9, DKK1, and LRP6 are located in the extracellular region, while LRP5 and LRP6 are found in the endoplasmic reticulum. Additionally, DKK1 and LRP6 are present in the early endosome membrane. The Wnt-Frizzled-LRP5/6 complex involves LRP5 and LRP6, which participate in the coreceptor activity for both canonical Wnt signaling and the Wnt signaling pathway.\n",
      "and abstract.\n",
      " Abstract:\n",
      "<b>Background:</b> Osteoarthritis (OA) is a whole-joint disease and characterized by alterations in the articular cartilage, subchondral bone, ligaments, and synovial membrane. The crosstalk between cartilage and subchondral bone plays a crucial role in the pathogenesis and progression of OA. Hypoxia has been reported to play an important role in cartilage degradation and subchondral bone remodeling in OA. In this study, we aimed to identify the involvement of hypoxia in modifying the osteoblast phenotypes and determine whether these alterations could influence the metabolism of chondrocytes. <b>Methods:</b> First, the levels of Hif-1α in subchondral bone of different compartments in patients with OA were assessed using immunohistochemistry (IHC). In <i>in vitro</i>, human primary osteoblasts were cultured under hypoxic and normoxic conditions, and the hypoxic or normoxic conditioned media (HCM and NCM) were used to culture human primary chondrocytes. Then, phenotypic changes in osteoblasts were assessed using reverse transcription-polymerase chain reaction (RT-PCR), Western blotting, and enzyme-linked immunosorbent assay (ELISA). Furthermore, the expression of type II collagen (COL2A1), aggrecan (ACAN), SRY-related high-mobility group-box gene 9 (SOX9), matrix metalloproteinase 13 (MMP13), and matrix metalloproteinase 3 (MMP3) in chondrocytes was measured using RT-PCR. Finally, the serum levels of Wnt-related proteins were determined using ELISA. <b>Results:</b> Hif-1α was significantly increased in severely sclerotic subchondral bone compared to less damaged subchondral bone. β-Catenin and SOST were identified as upregulated and downregulated in hypoxic osteoblasts, respectively. The hypoxia-induced results were confirmed by ELISA. Stimulating human primary chondrocytes with HCM significantly induced MMP13 and MMP3 and inhibited COL2A1, ACAN, and SOX9 mRNA expression. The serum levels of DKK-1 were significantly increased in human OA. <b>Conclusion:</b> Together, these findings revealed that hypoxia in subchondral bone is a key factor in the crosstalk between chondrocytes and osteoblasts and facilitates the shift of chondrocytes toward an OA-like phenotype probably by activating the Wnt/β-catenin signaling pathway in osteoblasts.\n",
      "Does this abstract support this paragraph? Please tell me yes or no\n",
      "Result:\n",
      "No, the abstract does not directly support the paragraph. The paragraph focuses on the cellular components and complexes, specifically mentioning proteins and their locations, while the abstract discusses the role of hypoxia in osteoarthritis and its effects on osteoblasts and chondrocytes. Although both mention the Wnt signaling pathway, the context and focus are different.\n",
      "========================================================================================================================================================================================================\n",
      "Title:  CKAP4 is a potential exosomal biomarker and therapeutic target for lung cancer.\n",
      "Query: \n",
      "I have pharagraph\n",
      " Pharagraph:\n",
      "Regarding cellular components and complexes, the system's proteins are located in various cellular regions. Four of the proteins (CHST9, LRP5, LRP6, and RASD2) are found in the membrane, with DKK1, LRP5, LRP6, and RASD2 being present in the plasma membrane. CHST9, DKK1, and LRP6 are located in the extracellular region, while LRP5 and LRP6 are found in the endoplasmic reticulum. Additionally, DKK1 and LRP6 are present in the early endosome membrane. The Wnt-Frizzled-LRP5/6 complex involves LRP5 and LRP6, which participate in the coreceptor activity for both canonical Wnt signaling and the Wnt signaling pathway.\n",
      "and abstract.\n",
      " Abstract:\n",
      "Globally, lung cancer causes the most cancer death. While molecular therapy progress, including epidermal growth factor receptor (EGFR) tyrosine kinase inhibitors (TKIs), has provided remarkable therapeutic effects, some patients remain resistant to these therapies and therefore new target development is required. Cytoskeleton-associated membrane protein 4 (CKAP4) is a receptor of the secretory protein Dickkopf-1 (DKK1) and the binding of DKK1 to CKAP4 promotes tumor growth via Ak strain transforming (AKT) activation. We investigated if CKAP4 functions as a diagnostic biomarker and molecular therapeutic target for lung cancer.\n",
      "Does this abstract support this paragraph? Please tell me yes or no\n",
      "Result:\n",
      "No, the abstract does not directly support the paragraph. The paragraph discusses cellular components and complexes, specifically mentioning proteins CHST9, LRP5, LRP6, and RASD2, and their locations within the cell. The abstract, on the other hand, focuses on lung cancer, molecular therapy, and the role of CKAP4 and DKK1 in tumor growth. While both mention DKK1, the context and focus are different in each text.\n",
      "========================================================================================================================================================================================================\n",
      "Title:  Increased synovial immunohistochemistry reactivity of TGF-β1 in erosive peripheral psoriatic arthritis.\n",
      "Query: \n",
      "I have pharagraph\n",
      " Pharagraph:\n",
      "Regarding cellular components and complexes, the system's proteins are located in various cellular regions. Four of the proteins (CHST9, LRP5, LRP6, and RASD2) are found in the membrane, with DKK1, LRP5, LRP6, and RASD2 being present in the plasma membrane. CHST9, DKK1, and LRP6 are located in the extracellular region, while LRP5 and LRP6 are found in the endoplasmic reticulum. Additionally, DKK1 and LRP6 are present in the early endosome membrane. The Wnt-Frizzled-LRP5/6 complex involves LRP5 and LRP6, which participate in the coreceptor activity for both canonical Wnt signaling and the Wnt signaling pathway.\n",
      "and abstract.\n",
      " Abstract:\n",
      "Immune and non-immune cells contribute to the pathology of chronic arthritis, and they can contribute to tissue remodeling and repair as well as disease pathogenesis. The present research aimed to analyze inflammation and bone destruction/regeneration biomarkers in patients with psoriatic arthritis (PsA), rheumatoid arthritis (RA), osteoarthritis (OA), and ankylosing spondylitis (AS).\n",
      "Does this abstract support this paragraph? Please tell me yes or no\n",
      "Result:\n",
      "No, the abstract does not support the paragraph. The paragraph discusses cellular components and complexes related to proteins, while the abstract focuses on inflammation and bone destruction/regeneration biomarkers in different types of arthritis.\n",
      "========================================================================================================================================================================================================\n",
      "Cannot parse citation even though this paper support pargraph\n",
      "Error detail:  'Pagination'\n",
      "Title:  <i>N</i>-Glycosylation of LRP6 by B3GnT2 Promotes Wnt/β-Catenin Signalling.\n",
      "Query: \n",
      "I have pharagraph\n",
      " Pharagraph:\n",
      "Regarding cellular components and complexes, the system's proteins are located in various cellular regions. Four of the proteins (CHST9, LRP5, LRP6, and RASD2) are found in the membrane, with DKK1, LRP5, LRP6, and RASD2 being present in the plasma membrane. CHST9, DKK1, and LRP6 are located in the extracellular region, while LRP5 and LRP6 are found in the endoplasmic reticulum. Additionally, DKK1 and LRP6 are present in the early endosome membrane. The Wnt-Frizzled-LRP5/6 complex involves LRP5 and LRP6, which participate in the coreceptor activity for both canonical Wnt signaling and the Wnt signaling pathway.\n",
      "and abstract.\n",
      " Abstract:\n",
      "Reception of Wnt signals by cells is predominantly mediated by Frizzled receptors in conjunction with a co-receptor, the latter being LRP6 or LRP5 for the Wnt/β-catenin signalling pathway. It is important that cells maintain precise control of receptor activation events in order to properly regulate Wnt/β-catenin signalling as aberrant signalling can result in disease in humans. Phosphorylation of the intracellular domain (ICD) of LRP6 is well known to regulate Wntβ-catenin signalling; however, less is known for regulatory post-translational modification events within the extracellular domain (ECD). Using a cell culture-based expression screen for functional regulators of LRP6, we identified a glycosyltransferase, B3GnT2-like, from a teleost fish (medaka) cDNA library, that modifies LRP6 and regulates Wnt/β-catenin signalling. We provide both gain-of-function and loss-of-function evidence that the single human homolog, B3GnT2, promotes extension of polylactosamine chains at multiple <i>N</i>-glycans on LRP6, thereby enhancing trafficking of LRP6 to the plasma membrane and promoting Wnt/β-catenin signalling. Our findings further highlight the importance of LRP6 as a regulatory hub in Wnt signalling and provide one of the few examples of how a specific glycosyltransferase appears to selectively target a signalling pathway component to alter cellular signalling events.\n",
      "Does this abstract support this paragraph? Please tell me yes or no\n",
      "Result:\n",
      "Yes, the abstract supports the paragraph as both discuss the role of LRP5 and LRP6 in the Wnt signaling pathway and their cellular locations.\n",
      "========================================================================================================================================================================================================\n",
      "In paragraph 2, 3 references are matched\n",
      "\n",
      "\n",
      "Total 6 references are queried\n",
      "[['Tsutsumi, Naotaka, Hwang, Sunhee, Waghray, Deepa, Hansen, Simon, Jude, Kevin M, Wang, Nan, Miao, Yi, Glassman, Caleb R, Caveney, Nathanael A, Janda, Claudia Y, Hannoush, Rami N, Garcia, K Christopher. \"Structure of the Wnt-Frizzled-LRP6 initiation complex reveals the basis for coreceptor discrimination.\" Proceedings of the National Academy of Sciences of the United States of America, 2023, pp. e2218238120.', 'Sogo, Takahiro, Nakao, Shu, Tsukamoto, Tasuku, Ueyama, Tomoe, Harada, Yukihiro, Ihara, Dai, Ishida, Tomoaki, Nakahara, Masato, Hasegawa, Koji, Akagi, Yuka, Kida, Yasuyuki S, Nakagawa, Osamu, Nagamune, Teruyuki, Kawahara, Masahiro, Kawamura, Teruhisa. \"Canonical Wnt signaling activation by chimeric antigen receptors for efficient cardiac differentiation from mouse embryonic stem cells.\" Inflammation and regeneration, 2023, pp. 11.', 'Thakur, Avinash K, Miller, Stephen E, Liau, Nicholas P D, Hwang, Sunhee, Hansen, Simon, de Sousa E Melo, Felipe, Sudhamsu, Jawahar, Hannoush, Rami N. \"Synthetic Multivalent Disulfide-Constrained Peptide Agonists Potentiate Wnt1/β-Catenin Signaling via LRP6 Coreceptor Clustering.\" ACS chemical biology, 2023, pp. 772-784.'], ['Tsutsumi, Naotaka, Hwang, Sunhee, Waghray, Deepa, Hansen, Simon, Jude, Kevin M, Wang, Nan, Miao, Yi, Glassman, Caleb R, Caveney, Nathanael A, Janda, Claudia Y, Hannoush, Rami N, Garcia, K Christopher. \"Structure of the Wnt-Frizzled-LRP6 initiation complex reveals the basis for coreceptor discrimination.\" Proceedings of the National Academy of Sciences of the United States of America, 2023, pp. e2218238120.', 'Malyla, Vamshikrishna, Paudel, Keshav Raj, De Rubis, Gabriele, Hansbro, Nicole G, Hansbro, Philip M, Dua, Kamal. \"Cigarette smoking induces lung cancer tumorigenesis via upregulation of the WNT/β-catenin signaling pathway.\" Life sciences, 2023, pp. 121787.', 'Zhang, Kaiqing, Da Silva, Fabio, Seidl, Carina, Wilsch-Bräuninger, Michaela, Herbst, Jessica, Huttner, Wieland B, Niehrs, Christof. \"Primary cilia are WNT-transducing organelles whose biogenesis is controlled by a WNT-PP1 axis.\" Developmental cell, 2023, pp. 139-154.e8.']]\n"
     ]
    }
   ],
   "source": [
    "paragraphs_with_references = get_references_for_paragraphs(paragraphs[:2], n=3, gpt_model=\"gpt-4\", verbose=True)"
   ]
  },
  {
   "cell_type": "code",
   "execution_count": 27,
   "id": "e91a043b-9d02-4f1d-a34d-38112c044059",
   "metadata": {},
   "outputs": [
    {
     "name": "stdout",
     "output_type": "stream",
     "text": [
      "The interacting protein system being analyzed consists of six proteins: CHST9, DKK1, LRP5, LRP6, RASD2, and TK2. These proteins are involved in various mechanisms and biological processes, with a significant emphasis on the Wnt signaling pathway, which plays a critical role in embryonic development, tissue homeostasis, and cell differentiation. The canonical Wnt signaling pathway includes three of the proteins: DKK1, LRP5, and LRP6. This pathway is crucial for the regulation of gene expression and cellular functions.[1][2][3]\n",
      "Regarding cellular components and complexes, the system's proteins are located in various cellular regions. Four of the proteins (CHST9, LRP5, LRP6, and RASD2) are found in the membrane, with DKK1, LRP5, LRP6, and RASD2 being present in the plasma membrane. CHST9, DKK1, and LRP6 are located in the extracellular region, while LRP5 and LRP6 are found in the endoplasmic reticulum. Additionally, DKK1 and LRP6 are present in the early endosome membrane. The Wnt-Frizzled-LRP5/6 complex involves LRP5 and LRP6, which participate in the coreceptor activity for both canonical Wnt signaling and the Wnt signaling pathway.[4][5][6]\n",
      "========================================================================================================================================================================================================\n",
      "[1] Tsutsumi, Naotaka, Hwang, Sunhee, Waghray, Deepa, Hansen, Simon, Jude, Kevin M, Wang, Nan, Miao, Yi, Glassman, Caleb R, Caveney, Nathanael A, Janda, Claudia Y, Hannoush, Rami N, Garcia, K Christopher. \"Structure of the Wnt-Frizzled-LRP6 initiation complex reveals the basis for coreceptor discrimination.\" Proceedings of the National Academy of Sciences of the United States of America, 2023, pp. e2218238120.\n",
      "[2] Sogo, Takahiro, Nakao, Shu, Tsukamoto, Tasuku, Ueyama, Tomoe, Harada, Yukihiro, Ihara, Dai, Ishida, Tomoaki, Nakahara, Masato, Hasegawa, Koji, Akagi, Yuka, Kida, Yasuyuki S, Nakagawa, Osamu, Nagamune, Teruyuki, Kawahara, Masahiro, Kawamura, Teruhisa. \"Canonical Wnt signaling activation by chimeric antigen receptors for efficient cardiac differentiation from mouse embryonic stem cells.\" Inflammation and regeneration, 2023, pp. 11.\n",
      "[3] Thakur, Avinash K, Miller, Stephen E, Liau, Nicholas P D, Hwang, Sunhee, Hansen, Simon, de Sousa E Melo, Felipe, Sudhamsu, Jawahar, Hannoush, Rami N. \"Synthetic Multivalent Disulfide-Constrained Peptide Agonists Potentiate Wnt1/β-Catenin Signaling via LRP6 Coreceptor Clustering.\" ACS chemical biology, 2023, pp. 772-784.\n",
      "[4] Tsutsumi, Naotaka, Hwang, Sunhee, Waghray, Deepa, Hansen, Simon, Jude, Kevin M, Wang, Nan, Miao, Yi, Glassman, Caleb R, Caveney, Nathanael A, Janda, Claudia Y, Hannoush, Rami N, Garcia, K Christopher. \"Structure of the Wnt-Frizzled-LRP6 initiation complex reveals the basis for coreceptor discrimination.\" Proceedings of the National Academy of Sciences of the United States of America, 2023, pp. e2218238120.\n",
      "[5] Malyla, Vamshikrishna, Paudel, Keshav Raj, De Rubis, Gabriele, Hansbro, Nicole G, Hansbro, Philip M, Dua, Kamal. \"Cigarette smoking induces lung cancer tumorigenesis via upregulation of the WNT/β-catenin signaling pathway.\" Life sciences, 2023, pp. 121787.\n",
      "[6] Zhang, Kaiqing, Da Silva, Fabio, Seidl, Carina, Wilsch-Bräuninger, Michaela, Herbst, Jessica, Huttner, Wieland B, Niehrs, Christof. \"Primary cilia are WNT-transducing organelles whose biogenesis is controlled by a WNT-PP1 axis.\" Developmental cell, 2023, pp. 139-154.e8.\n",
      "\n"
     ]
    }
   ],
   "source": [
    "print(paragraphs_with_references)"
   ]
  },
  {
   "cell_type": "code",
   "execution_count": null,
   "id": "55f87855-23c6-4678-b372-ed20dc851491",
   "metadata": {},
   "outputs": [],
   "source": []
  }
 ],
 "metadata": {
  "kernelspec": {
   "display_name": "GeneSetGPT",
   "language": "python",
   "name": "genesetgpt"
  },
  "language_info": {
   "codemirror_mode": {
    "name": "ipython",
    "version": 3
   },
   "file_extension": ".py",
   "mimetype": "text/x-python",
   "name": "python",
   "nbconvert_exporter": "python",
   "pygments_lexer": "ipython3",
   "version": "3.8.16"
  }
 },
 "nbformat": 4,
 "nbformat_minor": 5
}
