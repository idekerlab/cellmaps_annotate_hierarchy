{
 "cells": [
  {
   "cell_type": "code",
   "execution_count": 4,
   "metadata": {},
   "outputs": [],
   "source": [
    "import pandas as pd\n",
    "import json \n",
    "from utils.openai_query import openai_chat\n",
    "from utils.prompt_factory import make_user_prompt\n",
    "from tqdm import tqdm\n",
    "import openai\n"
   ]
  },
  {
   "cell_type": "code",
   "execution_count": null,
   "metadata": {},
   "outputs": [],
   "source": [
    "## load variables\n",
    "# Replace with your actual values\n",
    "config_file = 'config.json'  # replace with your actual config file\n",
    "input_file = 'data/example_gene_sets.tsv' # replace with your actual input file\n",
    "input_sep = '\\t'  # replace with the separator\n",
    "set_index = 'term'  # replace with your column name that you want to set as index or None\n",
    "gene_column = 'genes'  # replace with your actual column name for the gene list\n",
    "gene_sep = ' '  # replace with your actual separator\n",
    "gene_features = None  # replace with your path to the gene features or None\n",
    "direct = False # if True, then the prompt will be a direct sentence asking for a name and analysis from the gene set \n",
    "out_file = 'data/example_output.tsv'  # replace with your actual output file name\n",
    "default_prompt = True # if True, then the prompt will be the default prompt, if False, then the prompt will be the customized prompt\n",
    "\n",
    "if default_prompt:\n",
    "    customized_prompt = None\n",
    "else:\n",
    "    with open('data/example_customized_prompt.txt', 'r') as f: # replace with your actual customized prompt file\n",
    "        customized_prompt = f.read()\n",
    "\n",
    "# load the config file\n",
    "with open(config_file) as json_file:\n",
    "    config = json.load(json_file)\n",
    "\n",
    "# Load OpenAI key, context, and model used \n",
    "openai.api_key = config['OPENAI_API_KEY']\n",
    "\n",
    "context = config['CONTEXT']\n",
    "gpt_model = config['GPT_MODEL']\n",
    "temperature = config['TEMP']\n",
    "max_tokens = config['MAX_TOKENS']\n",
    "rate_per_token = config['RATE_PER_TOKEN']\n",
    "LOG_FILE = config['LOG_NAME']+'_log.json'\n",
    "DOLLAR_LIMIT = config['DOLLAR_LIMIT']"
   ]
  },
  {
   "cell_type": "code",
   "execution_count": 5,
   "metadata": {},
   "outputs": [
    {
     "name": "stderr",
     "output_type": "stream",
     "text": [
      "  3%|▎         | 1/31 [00:20<10:17, 20.60s/it]"
     ]
    },
    {
     "name": "stdout",
     "output_type": "stream",
     "text": [
      "4459\n"
     ]
    },
    {
     "name": "stderr",
     "output_type": "stream",
     "text": [
      "  6%|▋         | 2/31 [00:40<09:52, 20.43s/it]"
     ]
    },
    {
     "name": "stdout",
     "output_type": "stream",
     "text": [
      "3224\n"
     ]
    },
    {
     "name": "stderr",
     "output_type": "stream",
     "text": [
      " 10%|▉         | 3/31 [01:02<09:44, 20.87s/it]"
     ]
    },
    {
     "name": "stdout",
     "output_type": "stream",
     "text": [
      "2468\n"
     ]
    },
    {
     "name": "stderr",
     "output_type": "stream",
     "text": [
      " 13%|█▎        | 4/31 [01:27<10:09, 22.57s/it]"
     ]
    },
    {
     "name": "stdout",
     "output_type": "stream",
     "text": [
      "1390\n"
     ]
    },
    {
     "name": "stderr",
     "output_type": "stream",
     "text": [
      " 16%|█▌        | 5/31 [01:50<09:54, 22.85s/it]"
     ]
    },
    {
     "name": "stdout",
     "output_type": "stream",
     "text": [
      "1200\n"
     ]
    },
    {
     "name": "stderr",
     "output_type": "stream",
     "text": [
      " 19%|█▉        | 6/31 [02:16<09:52, 23.70s/it]"
     ]
    },
    {
     "name": "stdout",
     "output_type": "stream",
     "text": [
      "1070\n"
     ]
    },
    {
     "name": "stderr",
     "output_type": "stream",
     "text": [
      " 23%|██▎       | 7/31 [02:37<09:14, 23.09s/it]"
     ]
    },
    {
     "name": "stdout",
     "output_type": "stream",
     "text": [
      "841\n"
     ]
    },
    {
     "name": "stderr",
     "output_type": "stream",
     "text": [
      " 26%|██▌       | 8/31 [03:02<09:02, 23.60s/it]"
     ]
    },
    {
     "name": "stdout",
     "output_type": "stream",
     "text": [
      "807\n"
     ]
    },
    {
     "name": "stderr",
     "output_type": "stream",
     "text": [
      " 29%|██▉       | 9/31 [03:29<09:04, 24.75s/it]"
     ]
    },
    {
     "name": "stdout",
     "output_type": "stream",
     "text": [
      "784\n"
     ]
    },
    {
     "name": "stderr",
     "output_type": "stream",
     "text": [
      " 32%|███▏      | 10/31 [03:52<08:24, 24.01s/it]"
     ]
    },
    {
     "name": "stdout",
     "output_type": "stream",
     "text": [
      "665\n"
     ]
    },
    {
     "name": "stderr",
     "output_type": "stream",
     "text": [
      " 35%|███▌      | 11/31 [04:16<08:00, 24.02s/it]"
     ]
    },
    {
     "name": "stdout",
     "output_type": "stream",
     "text": [
      "765\n"
     ]
    },
    {
     "name": "stderr",
     "output_type": "stream",
     "text": [
      " 39%|███▊      | 12/31 [04:53<08:50, 27.93s/it]"
     ]
    },
    {
     "name": "stdout",
     "output_type": "stream",
     "text": [
      "902\n"
     ]
    },
    {
     "name": "stderr",
     "output_type": "stream",
     "text": [
      " 42%|████▏     | 13/31 [05:33<09:28, 31.56s/it]"
     ]
    },
    {
     "name": "stdout",
     "output_type": "stream",
     "text": [
      "846\n"
     ]
    },
    {
     "name": "stderr",
     "output_type": "stream",
     "text": [
      " 45%|████▌     | 14/31 [06:00<08:33, 30.21s/it]"
     ]
    },
    {
     "name": "stdout",
     "output_type": "stream",
     "text": [
      "745\n"
     ]
    },
    {
     "name": "stderr",
     "output_type": "stream",
     "text": [
      " 48%|████▊     | 15/31 [06:23<07:28, 28.06s/it]"
     ]
    },
    {
     "name": "stdout",
     "output_type": "stream",
     "text": [
      "662\n"
     ]
    },
    {
     "name": "stderr",
     "output_type": "stream",
     "text": [
      " 52%|█████▏    | 16/31 [06:48<06:45, 27.05s/it]"
     ]
    },
    {
     "name": "stdout",
     "output_type": "stream",
     "text": [
      "717\n"
     ]
    },
    {
     "name": "stderr",
     "output_type": "stream",
     "text": [
      " 55%|█████▍    | 17/31 [07:12<06:09, 26.41s/it]"
     ]
    },
    {
     "name": "stdout",
     "output_type": "stream",
     "text": [
      "706\n"
     ]
    },
    {
     "name": "stderr",
     "output_type": "stream",
     "text": [
      " 58%|█████▊    | 18/31 [07:37<05:36, 25.92s/it]"
     ]
    },
    {
     "name": "stdout",
     "output_type": "stream",
     "text": [
      "671\n"
     ]
    },
    {
     "name": "stderr",
     "output_type": "stream",
     "text": [
      " 61%|██████▏   | 19/31 [08:02<05:06, 25.51s/it]"
     ]
    },
    {
     "name": "stdout",
     "output_type": "stream",
     "text": [
      "677\n"
     ]
    },
    {
     "name": "stderr",
     "output_type": "stream",
     "text": [
      " 65%|██████▍   | 20/31 [08:26<04:35, 25.08s/it]"
     ]
    },
    {
     "name": "stdout",
     "output_type": "stream",
     "text": [
      "704\n"
     ]
    },
    {
     "name": "stderr",
     "output_type": "stream",
     "text": [
      " 68%|██████▊   | 21/31 [09:00<04:37, 27.74s/it]"
     ]
    },
    {
     "name": "stdout",
     "output_type": "stream",
     "text": [
      "708\n"
     ]
    },
    {
     "name": "stderr",
     "output_type": "stream",
     "text": [
      " 71%|███████   | 22/31 [09:23<03:58, 26.50s/it]"
     ]
    },
    {
     "name": "stdout",
     "output_type": "stream",
     "text": [
      "640\n"
     ]
    },
    {
     "name": "stderr",
     "output_type": "stream",
     "text": [
      " 74%|███████▍  | 23/31 [09:48<03:28, 26.08s/it]"
     ]
    },
    {
     "name": "stdout",
     "output_type": "stream",
     "text": [
      "648\n"
     ]
    },
    {
     "name": "stderr",
     "output_type": "stream",
     "text": [
      " 77%|███████▋  | 24/31 [10:14<03:01, 25.86s/it]"
     ]
    },
    {
     "name": "stdout",
     "output_type": "stream",
     "text": [
      "690\n"
     ]
    },
    {
     "name": "stderr",
     "output_type": "stream",
     "text": [
      " 81%|████████  | 25/31 [10:41<02:37, 26.24s/it]"
     ]
    },
    {
     "name": "stdout",
     "output_type": "stream",
     "text": [
      "691\n"
     ]
    },
    {
     "name": "stderr",
     "output_type": "stream",
     "text": [
      " 84%|████████▍ | 26/31 [11:03<02:04, 24.93s/it]"
     ]
    },
    {
     "name": "stdout",
     "output_type": "stream",
     "text": [
      "608\n"
     ]
    },
    {
     "name": "stderr",
     "output_type": "stream",
     "text": [
      " 87%|████████▋ | 27/31 [11:29<01:40, 25.20s/it]"
     ]
    },
    {
     "name": "stdout",
     "output_type": "stream",
     "text": [
      "649\n"
     ]
    },
    {
     "name": "stderr",
     "output_type": "stream",
     "text": [
      " 90%|█████████ | 28/31 [11:55<01:16, 25.53s/it]"
     ]
    },
    {
     "name": "stdout",
     "output_type": "stream",
     "text": [
      "693\n"
     ]
    },
    {
     "name": "stderr",
     "output_type": "stream",
     "text": [
      " 94%|█████████▎| 29/31 [12:21<00:51, 25.76s/it]"
     ]
    },
    {
     "name": "stdout",
     "output_type": "stream",
     "text": [
      "653\n"
     ]
    },
    {
     "name": "stderr",
     "output_type": "stream",
     "text": [
      " 97%|█████████▋| 30/31 [12:47<00:25, 25.78s/it]"
     ]
    },
    {
     "name": "stdout",
     "output_type": "stream",
     "text": [
      "624\n"
     ]
    },
    {
     "name": "stderr",
     "output_type": "stream",
     "text": [
      "100%|██████████| 31/31 [13:15<00:00, 25.65s/it]"
     ]
    },
    {
     "name": "stdout",
     "output_type": "stream",
     "text": [
      "656\n"
     ]
    },
    {
     "name": "stderr",
     "output_type": "stream",
     "text": [
      "\n"
     ]
    }
   ],
   "source": [
    "df = pd.read_csv(input_file, sep = input_sep)\n",
    "\n",
    "if set_index:\n",
    "    df.set_index(set_index, inplace=True)\n",
    "# Initialize columns for LLM name and analysis\n",
    "df['LLM Name'] = None\n",
    "df['LLM Analysis'] = None\n",
    "\n",
    "llm_response_dict = {}\n",
    "# Only process the specified range of \n",
    "i = 0\n",
    "for idx, row in tqdm(df.iterrows(), total=df.shape[0]):\n",
    "    term_genes = row[gene_column]\n",
    "    genes = term_genes.split(gene_sep)\n",
    "    if len(genes) >1000:\n",
    "        print(f'Gene set {idx} has more than 1500 genes, skipping')\n",
    "        continue\n",
    "    try:\n",
    "        prompt = make_user_prompt(genes, feature_df=gene_features, direct=direct, customized_prompt=customized_prompt)\n",
    "        analysis = openai_chat(context, prompt, gpt_model, temperature, max_tokens, rate_per_token, LOG_FILE, DOLLAR_LIMIT)\n",
    "    \n",
    "        if analysis:\n",
    "            llm_name = analysis.split(\"\\n\")[0].replace(\"Process: \", \"\")\n",
    "            df.loc[idx, 'LLM Name'] = llm_name\n",
    "            \n",
    "            llm_analysis = analysis.split('\\n', 2)[2]\n",
    "            df.loc[idx, 'LLM Analysis'] = llm_analysis\n",
    "\n",
    "            llm_response_dict[idx] = {'prompt': prompt, \n",
    "                                      'responses': analysis, \n",
    "                                      'status': 'SUCCESS'}\n",
    "        else:\n",
    "            print(f'No analysis for {idx}')\n",
    "            df.loc[idx, 'LLM Name'] = None\n",
    "            df.loc[idx, 'LLM Analysis'] = None\n",
    "            llm_response_dict[idx] = {'prompt': prompt,\n",
    "                                      'responses': None,\n",
    "                                      'status': 'NO RESPONSE'}\n",
    "        i += 1\n",
    "    except Exception as e:\n",
    "        print(f'Error for {idx}: {e}')\n",
    "        df.loc[idx, 'LLM Name'] = None\n",
    "        df.loc[idx, 'LLM Analysis'] = None\n",
    "        llm_response_dict[idx] = {'prompt': prompt,\n",
    "                                    'responses': None,\n",
    "                                    'status': 'ERROR: '+str(e)}\n",
    "        continue\n",
    "    \n",
    "    if i % 10 == 0:\n",
    "        with open(f'{out_file}.json', 'w') as fp:\n",
    "            json.dump(llm_response_dict, fp)\n",
    "        df.to_csv(f'{out_file}.tsv', sep='\\t', index=True)\n",
    "\n",
    "with open(f'{out_file}.json', 'w') as fp:\n",
    "    json.dump(llm_response_dict, fp)\n",
    "\n",
    "df.to_csv(f'{out_file}.tsv', sep='\\t', index=True) \n"
   ]
  },
  {
   "cell_type": "code",
   "execution_count": 7,
   "metadata": {},
   "outputs": [
    {
     "data": {
      "text/html": [
       "<div>\n",
       "<style scoped>\n",
       "    .dataframe tbody tr th:only-of-type {\n",
       "        vertical-align: middle;\n",
       "    }\n",
       "\n",
       "    .dataframe tbody tr th {\n",
       "        vertical-align: top;\n",
       "    }\n",
       "\n",
       "    .dataframe thead th {\n",
       "        text-align: right;\n",
       "    }\n",
       "</style>\n",
       "<table border=\"1\" class=\"dataframe\">\n",
       "  <thead>\n",
       "    <tr style=\"text-align: right;\">\n",
       "      <th></th>\n",
       "      <th>size</th>\n",
       "      <th>genes</th>\n",
       "      <th>stability</th>\n",
       "      <th>LLM Name</th>\n",
       "      <th>LLM Analysis</th>\n",
       "    </tr>\n",
       "    <tr>\n",
       "      <th>term</th>\n",
       "      <th></th>\n",
       "      <th></th>\n",
       "      <th></th>\n",
       "      <th></th>\n",
       "      <th></th>\n",
       "    </tr>\n",
       "  </thead>\n",
       "  <tbody>\n",
       "    <tr>\n",
       "      <th>Cluster2-2</th>\n",
       "      <td>897</td>\n",
       "      <td>TMEM51 CNST TBPL1 BAG6 EFNB2 XRCC2 PPP3CA ZMYM...</td>\n",
       "      <td>59</td>\n",
       "      <td>DNA Repair and Transcription Regulation</td>\n",
       "      <td>The system of interacting human proteins provi...</td>\n",
       "    </tr>\n",
       "    <tr>\n",
       "      <th>Cluster2-3</th>\n",
       "      <td>596</td>\n",
       "      <td>PRKACG CTSV PLA2G4D SCEL RAPSN ATP13A3 CUL5 GP...</td>\n",
       "      <td>33</td>\n",
       "      <td>Intracellular Signal Transduction and Cell Adh...</td>\n",
       "      <td>The system of interacting human proteins provi...</td>\n",
       "    </tr>\n",
       "    <tr>\n",
       "      <th>Cluster3-1</th>\n",
       "      <td>429</td>\n",
       "      <td>C3orf38 ZNF688 ABCB1 SPECC1 GPSM2 GNG2 FCHSD2 ...</td>\n",
       "      <td>19</td>\n",
       "      <td>Intracellular Signaling and Transport Regulation</td>\n",
       "      <td>The system of interacting human proteins prese...</td>\n",
       "    </tr>\n",
       "    <tr>\n",
       "      <th>Cluster3-5</th>\n",
       "      <td>175</td>\n",
       "      <td>ZMYM2 ARID4B JARID2 TFDP1 MIER2 ARID5B SET ZNF...</td>\n",
       "      <td>22</td>\n",
       "      <td>Chromatin Remodeling and Transcriptional Regul...</td>\n",
       "      <td>The system of interacting proteins provided is...</td>\n",
       "    </tr>\n",
       "    <tr>\n",
       "      <th>Cluster3-8</th>\n",
       "      <td>132</td>\n",
       "      <td>CEP112 CHEK1 HDAC5 CIC MAP3K3 SERF2 WEE1 HDAC6...</td>\n",
       "      <td>18</td>\n",
       "      <td>PI3K-AKT Signaling and Cell Cycle Regulation</td>\n",
       "      <td>The system of interacting proteins provided in...</td>\n",
       "    </tr>\n",
       "  </tbody>\n",
       "</table>\n",
       "</div>"
      ],
      "text/plain": [
       "            size                                              genes  \\\n",
       "term                                                                  \n",
       "Cluster2-2   897  TMEM51 CNST TBPL1 BAG6 EFNB2 XRCC2 PPP3CA ZMYM...   \n",
       "Cluster2-3   596  PRKACG CTSV PLA2G4D SCEL RAPSN ATP13A3 CUL5 GP...   \n",
       "Cluster3-1   429  C3orf38 ZNF688 ABCB1 SPECC1 GPSM2 GNG2 FCHSD2 ...   \n",
       "Cluster3-5   175  ZMYM2 ARID4B JARID2 TFDP1 MIER2 ARID5B SET ZNF...   \n",
       "Cluster3-8   132  CEP112 CHEK1 HDAC5 CIC MAP3K3 SERF2 WEE1 HDAC6...   \n",
       "\n",
       "            stability                                           LLM Name  \\\n",
       "term                                                                       \n",
       "Cluster2-2         59            DNA Repair and Transcription Regulation   \n",
       "Cluster2-3         33  Intracellular Signal Transduction and Cell Adh...   \n",
       "Cluster3-1         19   Intracellular Signaling and Transport Regulation   \n",
       "Cluster3-5         22  Chromatin Remodeling and Transcriptional Regul...   \n",
       "Cluster3-8         18       PI3K-AKT Signaling and Cell Cycle Regulation   \n",
       "\n",
       "                                                 LLM Analysis  \n",
       "term                                                           \n",
       "Cluster2-2  The system of interacting human proteins provi...  \n",
       "Cluster2-3  The system of interacting human proteins provi...  \n",
       "Cluster3-1  The system of interacting human proteins prese...  \n",
       "Cluster3-5  The system of interacting proteins provided is...  \n",
       "Cluster3-8  The system of interacting proteins provided in...  "
      ]
     },
     "execution_count": 7,
     "metadata": {},
     "output_type": "execute_result"
    }
   ],
   "source": [
    "df.head()"
   ]
  },
  {
   "cell_type": "code",
   "execution_count": null,
   "metadata": {},
   "outputs": [],
   "source": []
  }
 ],
 "metadata": {
  "kernelspec": {
   "display_name": "llm",
   "language": "python",
   "name": "python3"
  },
  "language_info": {
   "codemirror_mode": {
    "name": "ipython",
    "version": 3
   },
   "file_extension": ".py",
   "mimetype": "text/x-python",
   "name": "python",
   "nbconvert_exporter": "python",
   "pygments_lexer": "ipython3",
   "version": "3.7.10"
  },
  "orig_nbformat": 4
 },
 "nbformat": 4,
 "nbformat_minor": 2
}
