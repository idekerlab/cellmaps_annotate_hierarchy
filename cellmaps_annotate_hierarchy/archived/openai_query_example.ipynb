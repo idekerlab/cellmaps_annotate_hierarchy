{
 "cells": [
  {
   "attachments": {},
   "cell_type": "markdown",
   "metadata": {},
   "source": [
    "### Example usage for get response from openai api\n",
    "\n",
    "Note from Clara: \n",
    "In the example code, I saved the API key in a local json config file looks like below\n",
    "```\n",
    "{\n",
    "    \"OPENAI_API_KEY\": \"<YOUR KEY>\"\n",
    "}\n",
    "```\n",
    "\n",
    "Also can save to ~/.bashrc \n",
    "\n",
    "by adding `export OPENAI_API_KEY='your-api-key'`, \n",
    "\n",
    "then use `os.getenv(\"OPENAI_API_KEY\")`"
   ]
  },
  {
   "cell_type": "code",
   "execution_count": null,
   "metadata": {},
   "outputs": [],
   "source": [
    "import json \n",
    "# openai.api_key = os.getenv(\"OPENAI_API_KEY\")\n",
    "with open('config.json') as config_file:\n",
    "    data = json.load(config_file)\n",
    "\n",
    "# load the API key\n",
    "key = data[\"OPENAI_API_KEY\"] \n",
    "prompt = \"Who won the world series in 2020\" # Set your prompt here\n",
    "\n",
    "temperature = 0 # Set your temperature here \n",
    "# CH: I want it to be deterministic, so I set temperature to 0\n",
    "max_tokens = 30 # Set your max tokens here\n",
    "rate_per_token = 0.0005 \n",
    "%run openai_query.py --openai_api_key $key --prompt \"$prompt\" --temperature $temperature --max_tokens $max_tokens --rate_per_token $rate_per_token"
   ]
  },
  {
   "cell_type": "code",
   "execution_count": null,
   "metadata": {},
   "outputs": [],
   "source": []
  }
 ],
 "metadata": {
  "language_info": {
   "name": "python"
  },
  "orig_nbformat": 4
 },
 "nbformat": 4,
 "nbformat_minor": 2
}
