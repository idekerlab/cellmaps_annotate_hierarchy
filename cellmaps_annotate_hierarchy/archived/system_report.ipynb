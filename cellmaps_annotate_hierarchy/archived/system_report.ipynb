{
 "cells": [
  {
   "cell_type": "markdown",
   "id": "f24ee25d",
   "metadata": {},
   "source": [
    "## System Report\n",
    "#### Goal: \n",
    " - Assign a candidate name for the system\n",
    " - Explain the assignment\n",
    " - Provide information about the system and its proteins\n",
    " - Provide results of analyses\n",
    " \n",
    "#### Report Structure:\n",
    " - the system ID\n",
    " - The assigned name\n",
    " - A brief summary of the system\n",
    " - Alternative names\n",
    " - An explanation of the name\n",
    " - Supporting information\n",
    "     - system level\n",
    "         - summary of shared terms\n",
    "         - summary of shared diseases\n",
    "     - per gene from uniprot and spoke\n",
    "         - gene name\n",
    "         - gene summary\n",
    "         - go BP\n",
    "         - go CC\n",
    "         - Disease association\n",
    "     - ChatGPT\n",
    "         - important concepts\n",
    "         - search suggestions\n",
    "             - google\n",
    "             - pubmed\n",
    "         - shared disease symptoms\n",
    "         "
   ]
  },
  {
   "cell_type": "code",
   "execution_count": 24,
   "id": "88895521",
   "metadata": {},
   "outputs": [],
   "source": [
    "import requests\n",
    "import json\n",
    "import os\n",
    "import openai\n",
    "\n"
   ]
  },
  {
   "cell_type": "markdown",
   "id": "cd239e68",
   "metadata": {},
   "source": [
    "### Design\n",
    " - set the system proteins (SP)\n",
    " - set the disease of interest (DOI)\n",
    " - annotate SPs with associations with the DOI\n",
    " - annotate SPs with any other relevant data \n",
    " - get the system similarity network\n",
    " - get the source networks, e.g. \"BioPlex 3\" or an AP-MS experiment\n",
    " \n",
    " #### Sections\n",
    " Each section will be written out as both a JSON document and an HTML file\n",
    " - section: get the analysis results of the input interactome\n",
    "     - SPs covered\n",
    "     - interactome modularity analysis for the SPs\n",
    "     - interactome modularity analysis for the DOIs\n",
    "     - membership in the DOI\n",
    "     - significance in relevant data sets   \n",
    " - **section: SP information**\n",
    "     - GO annotations\n",
    "     - Disease associations\n",
    "     - UniProt description\n",
    "     - aliases\n",
    " - **section: perform enrichment analyses**\n",
    "     - adjusting for the SPs covered in the interactome and enrichment sources \n",
    "     - identify which SPs are not covered in the enrichment sources\n",
    "     - a link to re-run the query\n",
    " - section: gather information on selected interactions\n",
    "     - (selected where full nxn coverage is impractical)\n",
    " - section: gather summaries from analyses of child systems\n",
    " - **section: analyze the information to find features shared between n or more SPs**\n",
    " - **section: select subsets of the gathered information and query ChatGPT to summarize and extract key concepts**\n",
    " - **section: use the key concepts to make literature queries**\n",
    "     - such as DOI + a few SP names\n",
    "         - expand with aliases\n",
    "     - evaluate and summarize the query results with ChatGPT queries\n",
    "     - each query result is presented with a link to re-run the query\n",
    " - section: query ChatGPT to perform higher level summarization, including candidate system names\n",
    " - **propose names**\n",
    "     - merge ChatGPT names with enrichment query names \n",
    "     - annotate the candidate names with coverage metrics: how many proteins support the name, which ones\n",
    "     - sort the candidate names by coverage\n",
    " - **create a top-level page**\n",
    "     - proposed names\n",
    "     - a system summary\n",
    "     - support for each name\n",
    "     - outline of the sections with links"
   ]
  },
  {
   "cell_type": "markdown",
   "id": "d6c3796c",
   "metadata": {},
   "source": [
    "### Organize the system proteins"
   ]
  },
  {
   "cell_type": "code",
   "execution_count": 25,
   "id": "60e3f733",
   "metadata": {},
   "outputs": [
    {
     "data": {
      "text/plain": [
       "'AKAP11 ANAPC1 ANKRD11 ANKRD31 DOCK2 HECTD4 ITPR1 LYST MYLK MYO5A PCDH15 PFDN6 PLXNA2 PLXNA4 PTPN13 RALGAPA2 TRRAP'"
      ]
     },
     "execution_count": 25,
     "metadata": {},
     "output_type": "execute_result"
    }
   ],
   "source": [
    "# Replace with your system proteins\n",
    "# AKAP11 ANAPC1 ANKRD11 ANKRD31 DOCK2 HECTD4 ITPR1 LYST MYLK MYO5A PCDH15 \n",
    "# PFDN6 PLXNA2 PLXNA4 PTPN13 RALGAPA2 TRRAP\n",
    "system_proteins = [\"AKAP11\", \"ANAPC1\", \"ANKRD11\", \"ANKRD31\", \n",
    "                 \"DOCK2\", \"HECTD4\", \"ITPR1\", \"LYST\", \"MYLK\", \n",
    "                 \"MYO5A\", \"PCDH15\", \"PFDN6\", \"PLXNA2\", \"PLXNA4\", \n",
    "                 \"PTPN13\", \"RALGAPA2\", \"TRRAP\"]\n",
    "\n",
    "system_proteins_text = \" \".join(system_proteins)\n",
    "system_proteins_text"
   ]
  },
  {
   "cell_type": "markdown",
   "id": "51d0d7b2",
   "metadata": {},
   "source": [
    "### System protein information\n",
    " - GO annotations\n",
    " - Disease associations\n",
    " - UniProt description\n",
    " - aliases"
   ]
  },
  {
   "cell_type": "code",
   "execution_count": null,
   "id": "d6fc8828",
   "metadata": {},
   "outputs": [],
   "source": []
  },
  {
   "cell_type": "markdown",
   "id": "42a868f9",
   "metadata": {},
   "source": [
    "### Enrichment Analysis\n",
    "#### query_gprofiler\n",
    "returns a list of objects with name, description, source, and p_value\n",
    "#### gprofiler_results_to_json\n",
    "writes the results as a JSON file: <system_id>_enrichment_analysis.json\n",
    "#### gprofiler_results_to_section\n",
    "writes the results to an HTML file: <system_id>_enrichment_analysis.html\n",
    "formatted as a table\n",
    "#### gprofiler_results_to_text\n",
    "makes a text string to use in creating ChatGPT prompts"
   ]
  },
  {
   "cell_type": "code",
   "execution_count": 26,
   "id": "01993536",
   "metadata": {},
   "outputs": [],
   "source": [
    "\n",
    "import requests\n",
    "import json\n",
    "\n",
    "def query_gprofiler(system_proteins):\n",
    "    url = \"https://biit.cs.ut.ee/gprofiler/api/gost/profile\"\n",
    "    headers = {\"Content-Type\": \"application/json\"}\n",
    "    payload = {\n",
    "        \"organism\": \"hsapiens\",\n",
    "        \"query\": cluster_genes,\n",
    "        \"sources\": [\"GO:BP\", \"KEGG\", \"REAC\", \"WP\", \"MIRNA\", \"HPA\", \"CORUM\"],\n",
    "        \"user_threshold\": 0.1,\n",
    "        \"all_results\": False,\n",
    "        \"ordered\": False,\n",
    "        \"no_iea\": False,\n",
    "        \"combined\": True,\n",
    "        \"measure_underrepresentation\": False\n",
    "    }\n",
    "    response = requests.post(url, headers=headers, data=json.dumps(payload))\n",
    "    json_response = response.json()\n",
    "\n",
    "    filtered_results = []\n",
    "    for item in json_response['result']:\n",
    "        filtered_item = {\n",
    "            \"name\": item[\"name\"],\n",
    "            \"description\": item[\"description\"],\n",
    "            \"source\": item[\"source\"],\n",
    "            \"p_value\": item[\"p_values\"]\n",
    "        }\n",
    "        filtered_results.append(filtered_item)\n",
    "\n",
    "    return filtered_results\n",
    "\n",
    "def gprofiler_results_to_section(gprofiler_results):\n",
    "    # \n",
    "def gprofiler_results_to_text(gprofiler_results):\n",
    "    result_names = [result['name'] for result in gprofiler_results]\n",
    "    return '\\n'.join(result_names)\n",
    "\n",
    "gprofiler_results = query_gprofiler(system_proteins)"
   ]
  },
  {
   "cell_type": "code",
   "execution_count": 27,
   "id": "f407bfca",
   "metadata": {},
   "outputs": [
    {
     "data": {
      "text/plain": [
       "[{'name': 'SEMA3A-Plexin repulsion signaling by inhibiting Integrin adhesion',\n",
       "  'description': 'SEMA3A-Plexin repulsion signaling by inhibiting Integrin adhesion',\n",
       "  'source': 'REAC',\n",
       "  'p_value': [0.02967279395498139]},\n",
       " {'name': 'MFAP5 effect on permeability and motility of endothelial cells via cytoskeleton rearrangement',\n",
       "  'description': 'MFAP5 effect on permeability and motility of endothelial cells via cytoskeleton rearrangement',\n",
       "  'source': 'WP',\n",
       "  'p_value': [0.030285217532717647]},\n",
       " {'name': 'Sema3A PAK dependent Axon repulsion',\n",
       "  'description': 'Sema3A PAK dependent Axon repulsion',\n",
       "  'source': 'REAC',\n",
       "  'p_value': [0.039080559405259445]},\n",
       " {'name': 'CRMPs in Sema3A signaling',\n",
       "  'description': 'CRMPs in Sema3A signaling',\n",
       "  'source': 'REAC',\n",
       "  'p_value': [0.039080559405259445]},\n",
       " {'name': 'Other semaphorin interactions',\n",
       "  'description': 'Other semaphorin interactions',\n",
       "  'source': 'REAC',\n",
       "  'p_value': [0.0555865049099508]},\n",
       " {'name': 'semaphorin-plexin signaling pathway involved in axon guidance',\n",
       "  'description': '\"Any semaphorin-plexin signaling pathway that is involved in axon guidance.\" [GOC:BHF, GOC:rl, GOC:TermGenie, PMID:22790009]',\n",
       "  'source': 'GO:BP',\n",
       "  'p_value': [0.08108453303744273]}]"
      ]
     },
     "execution_count": 27,
     "metadata": {},
     "output_type": "execute_result"
    }
   ],
   "source": [
    "\n",
    "gprofiler_results"
   ]
  },
  {
   "cell_type": "markdown",
   "id": "1fe43b4f",
   "metadata": {},
   "source": [
    "### Interaction Analysis\n",
    "#### query_stringdb\n",
    "#### query-indra"
   ]
  },
  {
   "cell_type": "code",
   "execution_count": 28,
   "id": "02d42eb3",
   "metadata": {},
   "outputs": [],
   "source": [
    "import requests\n",
    "from indra.sources import indra_db_rest\n",
    "from indra.statements import pretty_print_stmts\n",
    "\n",
    "def query_stringdb(system_proteins):\n",
    "    string_api_url = \"https://string-db.org/api/json/network\"\n",
    "    string_params = {\n",
    "        \"identifiers\": \"%0d\".join(cluster_genes),\n",
    "        \"species\": 9606,\n",
    "        \"caller_identity\": \"myapp\"\n",
    "    }\n",
    "    response = requests.get(string_api_url, params=string_params)\n",
    "    json_response = response.json()\n",
    "\n",
    "    nodes = set()\n",
    "    edges = []\n",
    "    for interaction in json_response:\n",
    "        nodes.add(interaction[\"preferredName_A\"])\n",
    "        nodes.add(interaction[\"preferredName_B\"])\n",
    "        edges.append({\n",
    "            \"source\": interaction[\"preferredName_A\"],\n",
    "            \"target\": interaction[\"preferredName_B\"]\n",
    "        })\n",
    "\n",
    "    return {\"nodes\": list(nodes), \"edges\": edges}\n",
    "\n",
    "def query_indra(system_proteins):\n",
    "# An example query is something like\n",
    "# p = indra_db_rest.get_statements(subject=\"HYDIN\")\n",
    "# pretty_print_stmts(p.statements)\n",
    "\n",
    "indra_results = query_indra(system_proteins)\n",
    "\n",
    "stringdb_results = query_string(system_proteins)\n",
    "\n",
    "def interaction_results_to_json(indra_results, stringdb_results):\n",
    "    \n",
    "def interaction_results_to_section(indra_results, stringdb_results):\n",
    "    \n",
    "def interaction_results_to_text(indra_results, stringdb_results):\n"
   ]
  },
  {
   "cell_type": "code",
   "execution_count": 29,
   "id": "77e74496",
   "metadata": {},
   "outputs": [
    {
     "data": {
      "text/plain": [
       "{'nodes': ['ITPR1', 'PLXNA4', 'PLXNA2', 'MYLK', 'MYO5A', 'LYST'],\n",
       " 'edges': [{'source': 'ITPR1', 'target': 'MYLK'},\n",
       "  {'source': 'ITPR1', 'target': 'MYLK'},\n",
       "  {'source': 'PLXNA4', 'target': 'PLXNA2'},\n",
       "  {'source': 'PLXNA4', 'target': 'PLXNA2'},\n",
       "  {'source': 'LYST', 'target': 'MYO5A'},\n",
       "  {'source': 'LYST', 'target': 'MYO5A'}]}"
      ]
     },
     "execution_count": 29,
     "metadata": {},
     "output_type": "execute_result"
    }
   ],
   "source": [
    "string_results"
   ]
  },
  {
   "cell_type": "markdown",
   "id": "0be2ebeb",
   "metadata": {},
   "source": [
    "### ChatGPT query functions"
   ]
  },
  {
   "cell_type": "code",
   "execution_count": 30,
   "id": "359fd55d",
   "metadata": {},
   "outputs": [
    {
     "name": "stdout",
     "output_type": "stream",
     "text": [
      "\n",
      "\n",
      "The following is a brief description of the genes and their functions.\n",
      "\n",
      "AKAP11 is a gene that encodes a protein called A-kinase anchor protein 11. This protein is a member of the AKAP family, which is a group of proteins that bind to the regulatory subunit of protein kinase A (PKA) and anchor it to the cytoskeleton. This protein is expressed in the brain, and is thought to be involved in the regulation of PKA activity.\n",
      "\n",
      "ANAPC1 is a gene that encodes a protein called Anaphase-promoting complex subunit 1. This protein is a subunit of the anaphase-promoting complex (APC), which is a complex that targets proteins for degradation. This protein is thought to be involved in the regulation of the cell cycle.\n",
      "\n",
      "ANKRD11 is a gene that encodes a protein called ankyrin repeat domain 11. This protein is a member of the ankyrin repeat protein family, which is a group of proteins that contain ankyrin repeats. This protein is thought to be involved in the regulation of the cell cycle.\n",
      "\n",
      "ANKRD31 is a gene that encodes a protein called ankyrin repeat domain 31. This protein is a member of the ankyrin repeat protein family, which is a group of proteins that contain ankyrin repeats. This protein is thought to be involved in the regulation of the cell cycle.\n",
      "\n",
      "DOCK2 is a gene that encodes a protein called dedicator of cytokinesis 2. This protein is a member of the DOCK family, which is a group of proteins that are involved in the regulation of cell division. This protein is thought to be involved in the regulation of the cell cycle.\n",
      "\n",
      "HECTD4 is a gene that encodes a protein called HECT domain containing E3 ubiquitin protein ligase 4. This protein is a member of the HECT family, which is a group of proteins that are involved in ubiquitin-mediated protein degradation. This protein is thought to be involved in the regulation of the cell cycle.\n",
      "\n",
      "ITPR1 is a gene that encodes a protein called inositol 1,4,5-triphosphate receptor type 1. This protein is a member of the inositol triphosphate receptor family, which is a group of proteins that are involved in calcium signaling. This protein is thought to be involved in the regulation of the cell cycle.\n",
      "\n",
      "LYST is a gene that encodes a protein called lysosomal-associated transmembrane protein. This protein is a member of the lysosomal-associated membrane protein family, which is a group of proteins that are involved in the transport of molecules across the cell membrane. This protein is thought to be involved in the regulation of the cell cycle.\n",
      "\n",
      "MYLK is a gene that encodes a protein called myosin light chain kinase. This protein is a member of the myosin light chain kinase family, which is a group of proteins that are involved in the regulation of muscle contraction. This protein is thought to be involved in the regulation of the cell cycle.\n",
      "\n",
      "MYO5A is a gene that encodes a protein called myosin VA. This protein is a member of the myosin family, which is a group of proteins that are involved in the contraction of muscle. This protein is thought to be involved in the regulation of the cell cycle.\n",
      "\n",
      "PCDH15 is a gene that encodes a protein called protocadherin 15. This protein is a member of the cadherin superfamily, which is a group of proteins that are involved in cell-cell adhesion. This protein is thought to be involved in the regulation of the cell cycle.\n",
      "\n",
      "PFDN6 is a gene that encodes a protein called prefoldin subunit 6. This protein is a member of the prefoldin family, which is a group of proteins that are involved in the transport of proteins across the endoplasmic reticulum. This protein is thought to be involved in the regulation of the cell cycle.\n",
      "\n",
      "PLXNA2 is a gene that encodes a protein called plexin A2. This protein is a member of the plexin family, which is a group of proteins that are involved in axon guidance. This protein is thought to be involved in the regulation of the cell cycle.\n",
      "\n",
      "PLXNA4 is a gene that encodes a protein called plexin A4. This protein is a member of the plexin family, which is a group of proteins that are involved in axon guidance. This protein is thought to be involved in the regulation of the cell cycle.\n",
      "\n",
      "PTPN13 is a gene that encodes a protein called protein tyrosine phosph\n"
     ]
    }
   ],
   "source": [
    "## placeholder data for chatgtp\n",
    "cluster_name = \"my_cluster\"\n",
    "summary = \"summary of the cluster\"\n",
    "chatgpt_analysis = \"analysis by chatgpt\"\n",
    "\n",
    "# Load your API key from an environment variable or secret management service\n",
    "openai.api_key = os.getenv(\"OPENAI_API_KEY\")\n",
    "\n",
    "gprofiler_text = gprofiler_results_to_text(gprofiler_results)\n",
    "\n",
    "def generate_summary(system_proteins):\n",
    "    # Combine the background input and questions into a single prompt\n",
    "    prompt = f\"write a brief analysis of these genes {cluster_genes_text} \\n based on background knowledge plus these processes relevant to some of the genes \\n{gprofiler_text}\"\n",
    "    #print(prompt)\n",
    "    response = chatgpt_query(prompt)\n",
    "\n",
    "    return response\n",
    "\n",
    "def chatgpt_query_prompt_template(system_proteins, prompt_template):\n",
    "    \n",
    "def chatgpt_query(prompt):\n",
    "    # Call the OpenAI API to generate answers\n",
    "    response = openai.Completion.create(\n",
    "        engine=\"davinci\",\n",
    "        prompt=prompt,\n",
    "        max_tokens=1000,\n",
    "        n=1,\n",
    "        stop=None,\n",
    "        temperature=0,\n",
    "    )\n",
    "    return response\n",
    "\n",
    "#print(response)\n",
    "\n",
    "# Parse the response to get the text of the first choice\n",
    "chatgpt_analysis = generate_summary(prompt_template, prompt):\n",
    "    response.choices[0].text\n",
    "\n",
    "print(chatgpt_analysis)\n",
    "\n",
    "\n",
    "\n"
   ]
  },
  {
   "cell_type": "markdown",
   "id": "ffef6ca1",
   "metadata": {},
   "source": [
    "### Shared Features \n",
    "analyze the information to find features shared between n or more SPs\n"
   ]
  },
  {
   "cell_type": "markdown",
   "id": "25c752ce",
   "metadata": {},
   "source": [
    "### Summarize and select keywords\n",
    "select subsets of the gathered information and query ChatGPT to summarize and extract key concepts\n",
    "\n",
    "GPT prompts:\n",
    " - I am analyzing a system of proteins: *SPs*\n",
    " - *DOI proteins* are known to be associated with <DOI>\n",
    " - The following table lists disease association that are shared by two or more of the proteins are involved in shared biological process or mechanism\n",
    " - These sets of proteins share a disease association\n",
    "    "
   ]
  },
  {
   "cell_type": "markdown",
   "id": "37aa0984",
   "metadata": {},
   "source": [
    "### Summarize system\n",
    "\n",
    "GPT prompts:\n",
    " - "
   ]
  },
  {
   "cell_type": "markdown",
   "id": "55d8634b",
   "metadata": {},
   "source": [
    "### Query Literature\n",
    "use the key concepts to make literature queries"
   ]
  },
  {
   "cell_type": "markdown",
   "id": "f2d1ebac",
   "metadata": {},
   "source": [
    "## report generation\n",
    "The report is generated using the jinja2 python templating library\n",
    "The following code was generated by ChatGPT 3.5\n",
    "\n",
    "TODO: Output the report to files. If possible, save as a PDF and/or a google doc page"
   ]
  },
  {
   "cell_type": "code",
   "execution_count": 31,
   "id": "743824b2",
   "metadata": {},
   "outputs": [],
   "source": [
    "from jinja2 import Template\n",
    "\n",
    "def generate_html_report(cluster_name, summary, gprofiler_results, string_results, chatgpt_analysis):\n",
    "    template_string = '''\n",
    "    <!DOCTYPE html>\n",
    "    <html>\n",
    "    <head>\n",
    "        <meta charset=\"UTF-8\">\n",
    "        <title>{{ cluster_name }} Cluster Report</title>\n",
    "        <link rel=\"stylesheet\" href=\"https://stackpath.bootstrapcdn.com/bootstrap/4.3.1/css/bootstrap.min.css\">\n",
    "        <script src=\"https://code.jquery.com/jquery-3.3.1.min.js\"></script>\n",
    "        <script src=\"https://stackpath.bootstrapcdn.com/bootstrap/4.3.1/js/bootstrap.min.js\"></script>\n",
    "    </head>\n",
    "    <body>\n",
    "        <div class=\"container\">\n",
    "            <h1>{{ cluster_name }} Cluster Report</h1>\n",
    "            <p>{{ summary }}</p>\n",
    "            <h2>ChatGPT Analysis</h2>\n",
    "            <p>{{ chatgpt_analysis }}</p>\n",
    "            <h2>g:Profiler Functional Enrichment Results</h2>\n",
    "            <table class=\"table table-striped\">\n",
    "                <thead>\n",
    "                    <tr>\n",
    "                        <th>Term Name</th>\n",
    "                        <th>Description</th>\n",
    "                        <th>Source</th>\n",
    "                        <th>p-value</th>\n",
    "                    </tr>\n",
    "                </thead>\n",
    "                <tbody>\n",
    "                    {% for result in gprofiler_results %}\n",
    "                    <tr>\n",
    "                        <td>{{ result.name }}</td>\n",
    "                        <td>{{ result.description }}</td>\n",
    "                        <td>{{ result.source }}</td>\n",
    "                        <td>{{ result.p_value }}</td>\n",
    "                    </tr>\n",
    "                    {% endfor %}\n",
    "                </tbody>\n",
    "            </table>\n",
    "            <h2>STRING Interaction Network</h2>\n",
    "            <table class=\"table table-striped\">\n",
    "                <thead>\n",
    "                    <tr>\n",
    "                        <th>Source</th>\n",
    "                        <th>Target</th>\n",
    "                    </tr>\n",
    "                </thead>\n",
    "                <tbody>\n",
    "                    {% for edge in string_results.edges %}\n",
    "                    <tr>\n",
    "                        <td>{{ edge.source }}</td>\n",
    "                        <td>{{ edge.target }}</td>\n",
    "                    </tr>\n",
    "                    {% endfor %}\n",
    "                </tbody>\n",
    "            </table>\n",
    "        </div>\n",
    "    </body>\n",
    "    </html>\n",
    "    '''\n",
    "    template = Template(template_string)\n",
    "    html_report = template.render(cluster_name=cluster_name, summary=summary, chatgpt_analysis=chatgpt_analysis, gprofiler_results=gprofiler_results, string_results=string_results)\n",
    "    return html_report\n",
    "\n",
    "\n"
   ]
  },
  {
   "cell_type": "code",
   "execution_count": 1,
   "id": "5515efe4",
   "metadata": {},
   "outputs": [
    {
     "ename": "NameError",
     "evalue": "name 'response_text' is not defined",
     "output_type": "error",
     "traceback": [
      "\u001b[0;31m---------------------------------------------------------------------------\u001b[0m",
      "\u001b[0;31mNameError\u001b[0m                                 Traceback (most recent call last)",
      "\u001b[0;32m/var/folders/12/1t8825t10yz4_h3t94kg8kyw0000gp/T/ipykernel_68020/3318787246.py\u001b[0m in \u001b[0;36m<module>\u001b[0;34m\u001b[0m\n\u001b[1;32m      1\u001b[0m \u001b[0;32mfrom\u001b[0m \u001b[0mIPython\u001b[0m\u001b[0;34m.\u001b[0m\u001b[0mdisplay\u001b[0m \u001b[0;32mimport\u001b[0m \u001b[0mHTML\u001b[0m\u001b[0;34m\u001b[0m\u001b[0;34m\u001b[0m\u001b[0m\n\u001b[0;32m----> 2\u001b[0;31m \u001b[0mchatgpt_analysis\u001b[0m \u001b[0;34m=\u001b[0m \u001b[0mresponse_text\u001b[0m\u001b[0;34m\u001b[0m\u001b[0;34m\u001b[0m\u001b[0m\n\u001b[0m\u001b[1;32m      3\u001b[0m \u001b[0mhtml_report\u001b[0m \u001b[0;34m=\u001b[0m \u001b[0mgenerate_html_report\u001b[0m\u001b[0;34m(\u001b[0m\u001b[0mcluster_name\u001b[0m\u001b[0;34m,\u001b[0m \u001b[0msummary\u001b[0m\u001b[0;34m,\u001b[0m \u001b[0mgprofiler_results\u001b[0m\u001b[0;34m,\u001b[0m \u001b[0mstring_results\u001b[0m\u001b[0;34m,\u001b[0m \u001b[0mchatgpt_analysis\u001b[0m\u001b[0;34m)\u001b[0m\u001b[0;34m\u001b[0m\u001b[0;34m\u001b[0m\u001b[0m\n\u001b[1;32m      4\u001b[0m \u001b[0;31m#HTML(html_report)\u001b[0m\u001b[0;34m\u001b[0m\u001b[0;34m\u001b[0m\u001b[0m\n\u001b[1;32m      5\u001b[0m \u001b[0mprint\u001b[0m\u001b[0;34m(\u001b[0m\u001b[0;34m\"done\"\u001b[0m\u001b[0;34m)\u001b[0m\u001b[0;34m\u001b[0m\u001b[0;34m\u001b[0m\u001b[0m\n",
      "\u001b[0;31mNameError\u001b[0m: name 'response_text' is not defined"
     ]
    }
   ],
   "source": [
    "from IPython.display import HTML\n",
    "chatgpt_analysis = response_text\n",
    "html_report = generate_html_report(cluster_name, summary, gprofiler_results, string_results, chatgpt_analysis)\n",
    "#HTML(html_report)\n",
    "print(\"done\")"
   ]
  },
  {
   "cell_type": "code",
   "execution_count": null,
   "id": "90bfc087",
   "metadata": {},
   "outputs": [],
   "source": []
  }
 ],
 "metadata": {
  "kernelspec": {
   "display_name": "Python 3 (ipykernel)",
   "language": "python",
   "name": "python3"
  },
  "language_info": {
   "codemirror_mode": {
    "name": "ipython",
    "version": 3
   },
   "file_extension": ".py",
   "mimetype": "text/x-python",
   "name": "python",
   "nbconvert_exporter": "python",
   "pygments_lexer": "ipython3",
   "version": "3.9.10"
  }
 },
 "nbformat": 4,
 "nbformat_minor": 5
}
