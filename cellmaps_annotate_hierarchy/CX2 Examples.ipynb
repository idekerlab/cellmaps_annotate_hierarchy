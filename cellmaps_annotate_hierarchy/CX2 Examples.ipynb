{
 "cells": [
  {
   "cell_type": "markdown",
   "id": "a8dbcde9",
   "metadata": {},
   "source": [
    "## Getting, Saving, Updating, and Querying CX2 Networks\n"
   ]
  },
  {
   "cell_type": "code",
   "execution_count": 1,
   "id": "27b70269",
   "metadata": {},
   "outputs": [],
   "source": [
    "import getpass\n",
    "# ndexuser = getpass.getpass()\n",
    "ndexuser = \"examplemodel\""
   ]
  },
  {
   "cell_type": "code",
   "execution_count": 2,
   "id": "16106b5d",
   "metadata": {},
   "outputs": [],
   "source": [
    "#ndexpassword = getpass.getpass()\n",
    "ndexpassword = \"modelx\""
   ]
  },
  {
   "cell_type": "code",
   "execution_count": null,
   "id": "278f014a",
   "metadata": {},
   "outputs": [],
   "source": [
    "from cx2_network import CX2Network\n",
    "\n",
    "original_uuid =\"df5b9a8b-45d0-11ed-b7d0-0ac135e8bacf\"\n",
    "\n",
    "# Download a CX2Network from NDEx\n",
    "downloaded_network = CX2Network.download_from_ndex(original_uuid, ndexuser, ndexpassword)\n",
    "downloaded_network.network_attributes"
   ]
  },
  {
   "cell_type": "code",
   "execution_count": null,
   "id": "e6f626d3",
   "metadata": {},
   "outputs": [],
   "source": [
    "# Upload the CX2Network to NDEx\n",
    "network_uuid = CX2Network.upload_to_ndex(downloaded_network, ndexuser, ndexpassword)\n",
    "print(f\"Uploaded network UUID: {network_uuid}\")"
   ]
  },
  {
   "cell_type": "code",
   "execution_count": null,
   "id": "56c1424a",
   "metadata": {},
   "outputs": [],
   "source": [
    "# change the name\n",
    "old_name = downloaded_network.get_network_attribute(\"name\") \n",
    "downloaded_network.set_network_attribute(\"name\", f'{old_name}_new')\n",
    "downloaded_network.set_network_attribute(\"description\", \"This is a test network\")\n",
    "new_name = downloaded_network.get_network_attribute(\"name\") \n",
    "new_name"
   ]
  },
  {
   "cell_type": "code",
   "execution_count": null,
   "id": "d73bcca6",
   "metadata": {},
   "outputs": [],
   "source": [
    "CX2Network.update_on_ndex(downloaded_network, network_uuid, ndexuser, ndexpassword)"
   ]
  },
  {
   "cell_type": "code",
   "execution_count": 3,
   "id": "6a0d916a",
   "metadata": {},
   "outputs": [
    {
     "name": "stdout",
     "output_type": "stream",
     "text": [
      "e83acb4c-ea00-11ed-b4a3-005056ae23aa\n"
     ]
    }
   ],
   "source": [
    "from cx2_network import query_ndex_network\n",
    "query_results = query_ndex_network(\"baa36764-e9fa-11ed-b4a3-005056ae23aa\",  ndexuser, ndexpassword, \"PDGFA PDGFB\", direct_only=True, save=True)\n",
    "print(query_results)"
   ]
  },
  {
   "cell_type": "code",
   "execution_count": null,
   "id": "7d992659",
   "metadata": {},
   "outputs": [],
   "source": [
    "import requests\n",
    "import json\n",
    "url = \"https://www.ndexbio.org/v3/networks\"\n",
    "headers = {\"Content-Type\": \"application/json\"}\n",
    "response = requests.post(url, auth=(ndexuser, ndexpassword), headers=headers,\n",
    "                         data=json.dumps(downloaded_network.cx2_data))\n",
    "response.json()"
   ]
  },
  {
   "cell_type": "code",
   "execution_count": null,
   "id": "564fbb44",
   "metadata": {},
   "outputs": [],
   "source": []
  }
 ],
 "metadata": {
  "kernelspec": {
   "display_name": "Python 3 (ipykernel)",
   "language": "python",
   "name": "python3"
  },
  "language_info": {
   "codemirror_mode": {
    "name": "ipython",
    "version": 3
   },
   "file_extension": ".py",
   "mimetype": "text/x-python",
   "name": "python",
   "nbconvert_exporter": "python",
   "pygments_lexer": "ipython3",
   "version": "3.9.7"
  }
 },
 "nbformat": 4,
 "nbformat_minor": 5
}
