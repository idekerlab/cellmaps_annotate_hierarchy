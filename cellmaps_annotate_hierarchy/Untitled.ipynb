{
 "cells": [
  {
   "cell_type": "code",
   "execution_count": 1,
   "id": "a628ca6e-79e5-4166-84bd-11ee8d64d204",
   "metadata": {},
   "outputs": [],
   "source": [
    "import json\n",
    "import openai\n",
    "import os\n",
    "import time \n",
    "import argparse\n",
    "# openai.api_key = os.getenv(\"OPENAI_API_KEY\")\n"
   ]
  },
  {
   "cell_type": "code",
   "execution_count": 2,
   "id": "b5b3a7f1-fc54-4044-99c4-96719e15e7f2",
   "metadata": {},
   "outputs": [],
   "source": [
    "\n",
    "def load_log(LOG_FILE):\n",
    "    if os.path.exists(LOG_FILE):\n",
    "        with open(LOG_FILE, \"r\") as f:\n",
    "            return json.load(f)\n",
    "    else:\n",
    "        return {\"tokens_used\": 0, \"dollars_spent\": 0.0, \"time_taken_last_run\": 0.0, \"time_taken_total\": 0.0}\n",
    "\n",
    "def save_log(LOG_FILE,log_data):\n",
    "    with open(LOG_FILE, \"w\") as f:\n",
    "        json.dump(log_data, f, indent=4)\n",
    "\n",
    "def estimate_cost(tokens, rate_per_token):\n",
    "    return tokens * rate_per_token\n",
    "\n",
    "def openai_chat(context, prompt, model,temperature, max_tokens, rate_per_token, LOG_FILE, DOLLAR_LIMIT):\n",
    "    log_data = load_log(LOG_FILE)\n",
    "    tokens_estimate = len(prompt) + max_tokens\n",
    "\n",
    "    if estimate_cost(log_data[\"tokens_used\"] + tokens_estimate, rate_per_token) > DOLLAR_LIMIT:\n",
    "        print(\"The API call is estimated to exceed the dollar limit. Aborting.\")\n",
    "        return\n",
    "\n",
    "    try:\n",
    "        start_time = time.time()\n",
    "        response = openai.ChatCompletion.create(\n",
    "            model=model,\n",
    "            messages=[{\"role\": \"system\", \"content\": context},{\"role\": \"user\", \"content\": prompt}],\n",
    "            max_tokens=max_tokens,\n",
    "            n=1,\n",
    "            stop=None,\n",
    "            temperature=temperature,\n",
    "        )\n",
    "        end_time = time.time() \n",
    "\n",
    "        # print(response)\n",
    "        tokens_used = response[\"usage\"][\"total_tokens\"]\n",
    "        \n",
    "        # Update and save the log\n",
    "        log_data[\"tokens_used\"] += tokens_used\n",
    "        log_data[\"dollars_spent\"] = estimate_cost(log_data[\"tokens_used\"], rate_per_token)\n",
    "        time_usage = end_time - start_time\n",
    "        log_data[\"time_taken_last_run\"] = time_usage\n",
    "        log_data[\"time_taken_total\"] += time_usage\n",
    "        print(tokens_used)\n",
    "        save_log(LOG_FILE,log_data)\n",
    "\n",
    "        return response.choices[0].message.content\n",
    "    except Exception as e:\n",
    "        print(f\"An error occurred: {e}\")\n",
    "        return None\n"
   ]
  },
  {
   "cell_type": "code",
   "execution_count": 4,
   "id": "7af7f068-f872-4761-a08e-a9d4d84ac146",
   "metadata": {},
   "outputs": [
    {
     "name": "stdin",
     "output_type": "stream",
     "text": [
      " ···················································\n"
     ]
    }
   ],
   "source": [
    "from getpass import getpass\n",
    "key = getpass()"
   ]
  },
  {
   "cell_type": "code",
   "execution_count": 5,
   "id": "ab6bb006-fd22-43de-b3a7-c48cddbe386c",
   "metadata": {},
   "outputs": [],
   "source": [
    "openai.api_key = key"
   ]
  },
  {
   "cell_type": "code",
   "execution_count": 6,
   "id": "6979a6b0-ea11-4a6d-a51a-ab3bb5323659",
   "metadata": {},
   "outputs": [],
   "source": [
    "context = \"You are assisting a molecular biologist in the analysis of a system of proteins that are physically close to each other and/or interact with each other.\""
   ]
  },
  {
   "cell_type": "code",
   "execution_count": 7,
   "id": "56b2647f-804d-4e05-9ddb-ba29820996cf",
   "metadata": {
    "tags": []
   },
   "outputs": [],
   "source": [
    "prompt = \"\"\"Write a critical and concise analysis of this system based on the child systems summary, describing your reasoning as you go.        \n",
    "Format with Title, Summary, and References sections.        \n",
    "Avoid overly general statements of how the proteins are involved in various cellular processes\n",
    "        \n",
    "Avoid recapitulating the goals of the analysis. \n",
    "What cellular components and complexes are involved in this system?\n",
    "What mechanisms and biological processes are performed by this system?\n",
    "Discuss potential names for the system. Names should reflect the function and location, and should be specific not general. Select the best name and place it as the title of your report\n",
    "Provide complete paper references with pubmed link, if any\n",
    "A critical goal of the analysis is to determine if this is a novel complex or if any proteins are novel members of a known complex\n",
    "\n",
    "Here are the summaries of the child nodes directly branched from this parent system: \n",
    "\n",
    "Child cluster with Genes: MRPL15, MRPL39, MRPL52, MTHFD2, RHOT2\n",
    "The system of proteins analyzed in this report consists of five proteins: MRPL15, MRPL39, MRPL52, MTHFD2, and RHOT2. These proteins are all localized to the mitochondrion, with three of them (MRPL15, MRPL39, and MRPL52) being part of the mitochondrial large ribosomal subunit and involved in mitochondrial translation. Additionally, MRPL15, MTHFD2, and RHOT2 are involved in protein binding, while MRPL15 and MRPL39 have RNA binding capabilities. The system appears to be a novel complex, as it includes MTHFD2 and RHOT2, which are not known to be part of any other mitochondrial ribosomal complexes. The proposed name for this system is the Mitochondrial Ribosomal Complex with MTHFD2 and RHOT2, reflecting its function and location.\n",
    "Cellular Components and Complexes:\n",
    "The proteins in this system are involved in the following cellular components and complexes:\n",
    "1. Mitochondrial large ribosomal subunit: MRPL15, MRPL39, and MRPL52 are part of this subunit, which is responsible for mitochondrial translation (Greber et al., 2014).\n",
    "2. Mitochondrial inner membrane: MRPL15, MRPL39, and MRPL52 are localized to this membrane, which is crucial for maintaining mitochondrial function (Kühlbrandt, 2015).\n",
    "Mechanisms and Biological Processes:\n",
    "The proteins in this system are involved in the following mechanisms and biological processes:\n",
    "1. Mitochondrial translation: MRPL15, MRPL39, and MRPL52 are involved in the translation of proteins within the mitochondria (O'Brien et al., 2017).\n",
    "2. Protein binding: MRPL15, MTHFD2, and RHOT2 are involved in protein-protein interactions, which are essential for various cellular processes (Stumpf et al., 2008).\n",
    "3. RNA binding: MRPL15 and MRPL39 have RNA binding capabilities, which are important for ribosome assembly and function (Simsek et al., 2017).\n",
    "\n",
    "Child cluster with Genes: COQ3, MRPL22, MRPL47, MRPL41, MRPL37, MALSU1, MRPL46, MTIF2, GADD45GIP1, MRPL19, MRPL53, MRPL28, MRPL44, PARP9, MRPL12, ELAVL2, MRPL42, HSPD1, MTFR1L, MAPK11, MRPL48, MRPL9, MTERF3, FAM120A, IREB2, MRPL10, MRPL50, RO60, MRPL58, CNNM2, CNNM3, MRPL23, MRPL51, YARS2, NGRN, MRPL14, MRPL40, GTPBP3, PMPCB, PMPCA, BCAT2, MRPL57\n",
    "The system of proteins analyzed in this report is primarily involved in the mitochondrial large ribosomal subunit and its associated processes. The majority of the proteins are localized to the mitochondrion and mitochondrial inner membrane, with a significant number involved in mitochondrial translation and RNA binding. The system appears to be involved in various cellular processes, including translation, ribosome assembly, and protein targeting to the mitochondrion. The proposed name for this system is \"Mitochondrial Large Ribosomal Subunit and Associated Proteins.\"\n",
    "Cellular Components and Complexes:\n",
    "The main cellular components and complexes involved in this system are the mitochondrial large ribosomal subunit, mitochondrial inner membrane, and mitochondrial matrix. Several proteins are also found in the nucleoplasm, cytosol, plasma membrane, and extracellular space.\n",
    "Mechanisms and Biological Processes:\n",
    "The primary biological processes performed by this system are mitochondrial translation, ribosome assembly, and protein targeting to the mitochondrion. Other processes include metal ion binding, GTPase activity, magnesium ion homeostasis, and positive regulation of interleukin-12 production.\"\"\""
   ]
  },
  {
   "cell_type": "code",
   "execution_count": 13,
   "id": "b3ca180a-4f69-4d9d-a469-9b838dce3d0e",
   "metadata": {},
   "outputs": [
    {
     "name": "stdout",
     "output_type": "stream",
     "text": [
      "1621\n"
     ]
    }
   ],
   "source": [
    "response_text = openai_chat(context, prompt, \"gpt-4-0314\",0.2, 1000, 6e-5, \"test.log\", 2)\n"
   ]
  },
  {
   "cell_type": "code",
   "execution_count": 14,
   "id": "90c13945-71ff-4fb3-89b3-79a6af0e6e6b",
   "metadata": {},
   "outputs": [],
   "source": [
    "with open(\"test-gpt-4-0314.out\", \"w\") as f:\n",
    "    f.write(response_text)"
   ]
  },
  {
   "cell_type": "code",
   "execution_count": null,
   "id": "4cc84d95-74ab-419d-8995-5c63811f4276",
   "metadata": {},
   "outputs": [],
   "source": [
    "\n",
    "# excute the script\n",
    "if __name__ == \"__main__\":\n",
    "    argparser = argparse.ArgumentParser()\n",
    "    argparser.add_argument(\"--openai_api_key\", type=str, required=True)\n",
    "    argparser.add_argument(\"--context\", type=str, default=)\n",
    "    argparser.add_argument(\"--prompt\",required=True, type=str, help=\"input prompt to chatgpt\")\n",
    "    argparser.add_argument(\"--model\", type=str, default=\"gpt-3.5-turbo\")\n",
    "    argparser.add_argument(\"--temperature\", type=float, default=0, help=\"temperature for chatgpt to control randomness, 0 means deterministic, 1 means random\")\n",
    "    argparser.add_argument(\"--max_tokens\", type=int, default=500, help=\"max tokens for chatgpt response\")\n",
    "    argparser.add_argument(\"--rate_per_token\", type=float, default=0.0005, help=\"rate per token to estimate cost\")\n",
    "    argparser.add_argument(\"--log_file\", type=str, default=\"./log.json\", help=\"PATH to the log file to save tokens used and dollars spent\")\n",
    "    argparser.add_argument(\"--dollor_limit\", type=float, default=5.0, help=\"dollor limit to abort the chatgpt query\")\n",
    "    argparser.add_argument(\"--file_path\", type=str, default=\"./response.txt\", help=\"PATH to the file to save the response\")\n",
    "    \n",
    "    args = argparser.parse_args()\n",
    "\n",
    "     = args.openai_api_key\n",
    "\n",
    "    context = args.context\n",
    "    prompt = args.prompt\n",
    "    model = args.model\n",
    "    temperature = args.temperature\n",
    "    max_tokens = args.max_tokens\n",
    "    rate_per_token = args.rate_per_token\n",
    "    file_path = args.file_path\n",
    "\n",
    "    LOG_FILE = args.log_file\n",
    "    DOLLAR_LIMIT = args.dollor_limit\n",
    "    if response_text:\n",
    "        \n",
    "        # print(response_text)"
   ]
  }
 ],
 "metadata": {
  "kernelspec": {
   "display_name": "annotate_hierarchy",
   "language": "python",
   "name": "annotate_hierarchy"
  },
  "language_info": {
   "codemirror_mode": {
    "name": "ipython",
    "version": 3
   },
   "file_extension": ".py",
   "mimetype": "text/x-python",
   "name": "python",
   "nbconvert_exporter": "python",
   "pygments_lexer": "ipython3",
   "version": "3.11.3"
  }
 },
 "nbformat": 4,
 "nbformat_minor": 5
}
