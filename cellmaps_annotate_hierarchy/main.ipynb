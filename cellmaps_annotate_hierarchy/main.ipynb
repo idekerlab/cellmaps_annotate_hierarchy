{
 "cells": [
  {
   "cell_type": "raw",
   "id": "2d0fa1b1-c458-4c29-af3a-d33ff4d9ec43",
   "metadata": {},
   "source": [
    "# Note: modify config_{version}.json before running this notebook"
   ]
  },
  {
   "cell_type": "markdown",
   "id": "39a52570-8479-4d47-8da2-fa783fa52d58",
   "metadata": {},
   "source": [
    "## Import libraries and functions"
   ]
  },
  {
   "cell_type": "code",
   "execution_count": 5,
   "id": "bae70eaf-5396-4c6e-b6fa-d127b08f515c",
   "metadata": {},
   "outputs": [],
   "source": [
    "import json\n",
    "import os\n",
    "from openai_query import openai_chat\n",
    "from topological_sorting import generate_graph, topological_sort\n",
    "from model_nodes_edges import load_nodes_edges, get_genes\n",
    "from file_io import read_system_json, get_root_path, get_model_directory_path, write_system_tsv, read_system_tsv\n",
    "from gene_feature import summarize_gene_feature, summarized_gene_feature_to_tsv\n",
    "from pages_io import write_system_page, read_system_page, create_music_2_system_analysis_page\n",
    "from chatgpt_prompts import create_music_2_chatGPT_prompt_text, create_music_2_chatGPT_prompt_parent,  estimate_tokens\n",
    "from ontology_modify import find_children"
   ]
  },
  {
   "cell_type": "markdown",
   "id": "ee3acb1b-6835-499d-9cb5-373cee3e1f65",
   "metadata": {},
   "source": [
    "## Load the config file"
   ]
  },
  {
   "cell_type": "code",
   "execution_count": null,
   "id": "f0d39ca5-c53e-415b-b1d3-b4ee44ddc87f",
   "metadata": {},
   "outputs": [],
   "source": [
    "change to just context\n"
   ]
  },
  {
   "cell_type": "code",
   "execution_count": null,
   "id": "869c9c23-9286-41ec-900d-c1a7147b5482",
   "metadata": {},
   "outputs": [],
   "source": []
  },
  {
   "cell_type": "code",
   "execution_count": null,
   "id": "d42e87fd-c04d-41b3-aeed-6ff4ab32ff8d",
   "metadata": {},
   "outputs": [],
   "source": []
  },
  {
   "cell_type": "markdown",
   "id": "9098e833-d549-484c-9056-f01839cea9f9",
   "metadata": {},
   "source": [
    "## Create root node info"
   ]
  },
  {
   "cell_type": "code",
   "execution_count": null,
   "id": "c297afcc-94e2-4113-a669-81a6fc2dc568",
   "metadata": {},
   "outputs": [],
   "source": [
    "from query_mygene import get_mygene_for_system\n",
    "from file_io import write_system_json, get_root_path\n",
    "import os\n",
    "from model_nodes_edges import load_nodes_edges\n",
    "\n",
    "os.environ['MODEL_ANNOTATION_ROOT'] = 'Projects/cellmaps_annotate_hierarchy/cellmaps_annotate_hierarchy/'\n",
    " \n",
    "model_name = \"MuSIC2_Maps\"\n",
    "version = \"May2023_final\"\n",
    "file_name = \"muse_imgdim_1024_ppidim_1024_latentd_128_layered.chi_10.maxres_80.alg_leiden.pruned\"\n",
    "\n",
    "nodes, edges = load_nodes_edges(model_name, version, file_name)\n",
    "# print(nodes.head(), edges.head())\n",
    "\n",
    "root_node= nodes[nodes['term'] == 'Cluster0-0']\n",
    "root_genes = root_node['genes'].values[0].split(' ') # total 5254 genes\n",
    "\n",
    "mygene_res = get_mygene_for_system(root_genes)\n",
    "\n",
    "write_system_json(mygene_res, model_name, version, 'root_node', 'my_gene', get_root_path())"
   ]
  },
  {
   "cell_type": "code",
   "execution_count": null,
   "id": "be55aeaf-94f6-429d-a326-ded455598d48",
   "metadata": {},
   "outputs": [],
   "source": [
    "## Root node"
   ]
  },
  {
   "cell_type": "code",
   "execution_count": null,
   "id": "70136279-1ae5-4d8b-a05f-98ab764ab4f7",
   "metadata": {},
   "outputs": [],
   "source": [
    "## add option of which type of query to generate for parent "
   ]
  },
  {
   "cell_type": "code",
   "execution_count": null,
   "id": "9318d5ef-0316-4066-9b99-ad6efb72cda2",
   "metadata": {},
   "outputs": [],
   "source": [
    "## Use Ingoo's validation code"
   ]
  },
  {
   "cell_type": "code",
   "execution_count": null,
   "id": "baf1aa30-f4e4-4d89-a080-9e206751fe14",
   "metadata": {},
   "outputs": [],
   "source": []
  },
  {
   "cell_type": "code",
   "execution_count": null,
   "id": "8ab9836f-9946-4ff4-865e-00f074d7b63c",
   "metadata": {},
   "outputs": [],
   "source": []
  },
  {
   "cell_type": "code",
   "execution_count": null,
   "id": "a81b0685-a149-4a94-818d-3ce5d09f3e9b",
   "metadata": {},
   "outputs": [],
   "source": []
  },
  {
   "cell_type": "code",
   "execution_count": null,
   "id": "39334808-a1c5-4bb6-8f33-00de5416230e",
   "metadata": {},
   "outputs": [],
   "source": []
  },
  {
   "cell_type": "code",
   "execution_count": null,
   "id": "097a09df-97c3-4d2f-9cfd-f93ba5a511e5",
   "metadata": {},
   "outputs": [],
   "source": []
  }
 ],
 "metadata": {
  "kernelspec": {
   "display_name": "annotate_hierarchy",
   "language": "python",
   "name": "annotate_hierarchy"
  },
  "language_info": {
   "codemirror_mode": {
    "name": "ipython",
    "version": 3
   },
   "file_extension": ".py",
   "mimetype": "text/x-python",
   "name": "python",
   "nbconvert_exporter": "python",
   "pygments_lexer": "ipython3",
   "version": "3.11.3"
  }
 },
 "nbformat": 4,
 "nbformat_minor": 5
}
