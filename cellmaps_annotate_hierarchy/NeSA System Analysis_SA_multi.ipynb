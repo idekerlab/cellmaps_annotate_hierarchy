{
 "cells": [
  {
   "cell_type": "markdown",
   "id": "da41b9ff",
   "metadata": {},
   "source": [
    "### Load the multi-scale map\n"
   ]
  },
  {
   "cell_type": "code",
   "execution_count": 1,
   "id": "b5e3b07f-c223-46a9-b6d4-903f1612f1de",
   "metadata": {},
   "outputs": [],
   "source": [
    "import sys,os,os.path\n",
    "os.environ['MODEL_ANNOTATION_ROOT']='Desktop/projects/model_annotation/'"
   ]
  },
  {
   "cell_type": "code",
   "execution_count": 2,
   "id": "a3410635-9b92-491c-b521-78383337a8f0",
   "metadata": {},
   "outputs": [
    {
     "data": {
      "text/plain": [
       "'Desktop/projects/model_annotation/'"
      ]
     },
     "execution_count": 2,
     "metadata": {},
     "output_type": "execute_result"
    }
   ],
   "source": [
    "os.getenv(\"MODEL_ANNOTATION_ROOT\")"
   ]
  },
  {
   "cell_type": "code",
   "execution_count": 3,
   "id": "df870ed3-1f25-43a3-801e-efdab05ca4ed",
   "metadata": {
    "tags": []
   },
   "outputs": [],
   "source": [
    "## Parameters to edit\n",
    "runMode   = \"test\" # \"test\",  \"full\"\n",
    "sizeThresh = 50 # ToDo: use third quartile value\n",
    "fixGeneNames = True \n",
    "useHGNC_Uniprot = True"
   ]
  },
  {
   "cell_type": "markdown",
   "id": "539f04d3-6f46-422b-bfe2-9d00ecedd49d",
   "metadata": {},
   "source": [
    "### Load the libraries and functions"
   ]
  },
  {
   "cell_type": "code",
   "execution_count": 4,
   "id": "00845c64-d1ca-4a10-9e45-35602636d520",
   "metadata": {},
   "outputs": [
    {
     "name": "stderr",
     "output_type": "stream",
     "text": [
      "/Users/salkhairy/Desktop/projects/cellmaps_annotate_hierarchy/cellmaps_annotate_hierarchy/FixGeneSymbols.py:15: DtypeWarning: Columns (32,34,38,40,50) have mixed types. Specify dtype option on import or set low_memory=False.\n",
      "  hgnc_raw_DF = pd.read_csv('lib/hgnc_idsymbolnamelocus_grouplocus_typestatus.txt', sep = '\\t', dtype = {'hgnc_id': str, 'uniprot_ids': str, 'symbol':str})\n"
     ]
    }
   ],
   "source": [
    "import os\n",
    "import pandas as pd\n",
    "import json\n",
    "import networkx as nx\n",
    "\n",
    "from file_io import get_model_directory_path, read_system_json, write_system_json, write_system_tsv, get_root_path\n",
    "from model_cx2 import get_system, get_genes, getSystemIndex, set_genes\n",
    "from hugo import get_hugo_data\n",
    "from uniprot import get_uniprot_data_for_system, summarize_uniprot_features, summarized_uniprot_features_to_tsv\n",
    "from io import StringIO\n",
    "from chatgpt_prompts import create_system_prompt_page, create_nesa_chatGPT_prompt, add_uniprot_feature_summary\n",
    "from pages import write_system_page, write_model_page, dataframe_to_html_table\n",
    "import cx2_network\n",
    "\n"
   ]
  },
  {
   "cell_type": "code",
   "execution_count": 5,
   "id": "33247ec6-0920-4818-973b-67eaa0c98bd5",
   "metadata": {},
   "outputs": [],
   "source": [
    "from FixGeneSymbols import fixGeneSymbol, latestGeneSymbol_2_uniprotID, latestGeneSymbol_2_uniprotID_Dict"
   ]
  },
  {
   "cell_type": "code",
   "execution_count": null,
   "id": "3cafc144-b440-4e74-8403-c748876f3f07",
   "metadata": {},
   "outputs": [],
   "source": []
  },
  {
   "cell_type": "code",
   "execution_count": 6,
   "id": "86980667-10bf-4ff8-b799-88da69d6d3c8",
   "metadata": {
    "tags": []
   },
   "outputs": [],
   "source": [
    "def dataframe_to_dict(df):\n",
    "    \"\"\"\n",
    "    Convert a pandas DataFrame into a dictionary indexed by the first column.\n",
    "\n",
    "    :param df: The pandas DataFrame to convert.\n",
    "    :return: A dictionary indexed by the first column.\n",
    "    \"\"\"\n",
    "    # Set the index to be the first column\n",
    "    df = df.set_index(df.columns[0])\n",
    "\n",
    "    # Convert the DataFrame to a dictionary\n",
    "    result_dict = df.to_dict(orient='index')\n",
    "\n",
    "    return result_dict\n",
    "\n",
    "def make_gene_candidacy_text(gene_data, selected_genes):\n",
    "    attribute_descriptions = {\n",
    "        'hasHighConfidenceMut': \"Genes with high confidence mutation in ASD-diagnosed individuals:\",\n",
    "        'in_WES_2020': \"ASD-risk genes identified in Satterstrom et al., 2020:\",\n",
    "       # 'in_WES_2022': \"ASD-risk genes identified in Fu et al., 2022:\",\n",
    "        'connectedToASDPPI': \"Proteins connected to ASD-risk proteins (AP-MS experiment):\" # ASD-PPI preys\n",
    "\n",
    "      #  'in_SFARI_cat_2_3': \"ASD-risk in SFARI categories 2 and 3:\"\n",
    "    }\n",
    "    attributes = {key: [] for key in attribute_descriptions.keys()}\n",
    "\n",
    "    for gene, attributes_data in gene_data.items():\n",
    "        if gene not in selected_genes:\n",
    "            continue\n",
    "        for attribute in attributes.keys():\n",
    "            if attributes_data[attribute] == 1:\n",
    "                attributes[attribute].append(gene)\n",
    "\n",
    "    text_output = ''\n",
    "    for attribute, genes in attributes.items():\n",
    "        if len(genes) != 0:\n",
    "            gene_list = ', '.join(genes)\n",
    "            text_output += f\"{attribute_descriptions[attribute]} {gene_list}\\n\"\n",
    "\n",
    "    return text_output.strip()"
   ]
  },
  {
   "cell_type": "code",
   "execution_count": 7,
   "id": "d0c889b9-164c-4cc7-a534-dbbbd9408af0",
   "metadata": {
    "tags": []
   },
   "outputs": [],
   "source": [
    "def create_nesa_system_analysis_page(model_name, version, system_name, protein_list, tsv_data, n_genes=2):\n",
    "\n",
    "\n",
    "    # Read the TSV data into a DataFrame\n",
    "    tsv_file = StringIO(tsv_data)\n",
    "    df = pd.read_csv(tsv_file, sep='\\t')\n",
    "\n",
    "    # Filter the DataFrame based on the n_genes criterion\n",
    "    df = df[df['Number of Genes'] >= n_genes]\n",
    "    \n",
    "    uniprot_table = dataframe_to_html_table(df)\n",
    "\n",
    "    # Create the ChatGPT analysis section with a placeholder for the analysis text\n",
    "    chatgpt_analysis = \"<h2>ChatGPT 4 Analysis</h2>\\n<p>Paste ChatGPT analysis here:</p>\\n<!-- Analysis goes here -->\"\n",
    "\n",
    "    page_title = f\"{system_name} Summary\"\n",
    "    \n",
    "    # Create the HTML page with the system summary\n",
    "    html_page = f\"<!DOCTYPE html>\\n<html>\\n<head>\\n<title>{page_title}</title>\\n<style>\\n \\\n",
    "              body {{background-color: skyblue;}} \\n \\\n",
    "              h1, h2 {{color: white; font-family: 'Roboto', sans-serif;}} \\n \\\n",
    "              </style>\\n</head>\\n<body>\\n<h1>{system_name} System Summary</h1>\\n \\\n",
    "              <h2>{model_name}: {version}</h2>\\n \\\n",
    "              \\n{chatgpt_analysis}\\\n",
    "              <h2>Proteins</h2>\\n<p>{', '.join(protein_list)}</p>\\n \\\n",
    "              <h2>UniProt Data</h2>\\n{uniprot_table}\\n \\\n",
    "              </body>\\n</html>\"\n",
    "    \n",
    "    #html_page = f\"<!DOCTYPE html>\\n<html>\\n<head>\\n<title>{page_title}</title>\\n</head>\\n<body>\\n<h1>{system_name} System Summary</h1>\\n<h2>Proteins</h2>\\n<p>{', '.join(protein_list)}</p>\\n<h2>UniProt Data</h2>\\n{uniprot_table}\\n{chatgpt_analysis}\\n</body>\\n</html>\"\n",
    "\n",
    "    return html_page"
   ]
  },
  {
   "cell_type": "markdown",
   "id": "13e2988e-7f05-4ac9-ad39-3e0bd596b7ee",
   "metadata": {},
   "source": [
    "## Multi-scale map level "
   ]
  },
  {
   "cell_type": "code",
   "execution_count": 8,
   "id": "34370249-a2fa-435c-ae52-d695514ec9d9",
   "metadata": {},
   "outputs": [
    {
     "name": "stdout",
     "output_type": "stream",
     "text": [
      "/Users/salkhairy/Desktop/projects/model_annotation/nesa/Krogan_230424\n",
      "/Users/salkhairy/Desktop/projects/model_annotation/nesa/Krogan_230424/hidef_50_0.75_5_leiden.edges.cx2\n"
     ]
    }
   ],
   "source": [
    "model_name = \"nesa\"\n",
    "version = \"Krogan_230424\"\n",
    "model_cx2_filename = \"hidef_50_0.75_5_leiden.edges.cx2\"\n",
    "print(get_model_directory_path(model_name, version))\n",
    "model_path = os.path.join(get_model_directory_path(model_name, version), model_cx2_filename)\n",
    "print(model_path)\n",
    "with open(model_path, encoding='utf-8') as f:\n",
    "    data = f.read()\n",
    "    model = json.loads(data)\n",
    "#print(model)"
   ]
  },
  {
   "cell_type": "code",
   "execution_count": 9,
   "id": "b0c37d2e-3a8e-4e7b-8438-c8456a592214",
   "metadata": {
    "tags": []
   },
   "outputs": [],
   "source": [
    "# print(model)"
   ]
  },
  {
   "cell_type": "code",
   "execution_count": 10,
   "id": "58e46de2-6066-45bd-be4c-70ad8585270d",
   "metadata": {},
   "outputs": [],
   "source": [
    "# This NeSA-specific excel spreadsheet contains ASD gene candidacy information\n",
    "# Set the file path for 'geneCandidacy_DF.xlsx' in the 'nesa' folder\n",
    "file_path = os.path.join(get_model_directory_path(model_name, version ), 'geneCandidacy_DF.xlsx')  # SA: Note \n",
    "\n",
    "# Load the first worksheet of the Excel file into a DataFrame\n",
    "df = pd.read_excel(file_path, sheet_name=0)\n",
    "\n",
    "# Convert the DataFrame to a dictionary indexed by the first column\n",
    "gene_data = dataframe_to_dict(df)\n"
   ]
  },
  {
   "cell_type": "markdown",
   "id": "4a3a5b93-855a-4623-bbed-391c65c3701a",
   "metadata": {},
   "source": [
    "### Perform topological sorting of systems"
   ]
  },
  {
   "cell_type": "code",
   "execution_count": 11,
   "id": "487caeb3-e736-494d-9830-679df3736a86",
   "metadata": {},
   "outputs": [],
   "source": [
    "## Done using R's igraph package because Python has major limitations"
   ]
  },
  {
   "cell_type": "code",
   "execution_count": 12,
   "id": "aaa974fc",
   "metadata": {},
   "outputs": [],
   "source": [
    "import subprocess"
   ]
  },
  {
   "cell_type": "code",
   "execution_count": 13,
   "id": "d9dfff70-8a26-4849-ab95-dc8567ea584b",
   "metadata": {},
   "outputs": [],
   "source": [
    "modelPath = get_model_directory_path(model_name, version )"
   ]
  },
  {
   "cell_type": "code",
   "execution_count": 14,
   "id": "7ca85459-0c2a-4d27-a056-c41868f2cd8c",
   "metadata": {},
   "outputs": [],
   "source": [
    "edgesFile = 'hidef_50_0.75_5_leiden.edges'"
   ]
  },
  {
   "cell_type": "code",
   "execution_count": null,
   "id": "b2609806-1744-432c-b70b-1c1a45b20473",
   "metadata": {
    "tags": []
   },
   "outputs": [],
   "source": [
    "subprocess.run(['/usr/local/bin/Rscript --vanilla TopologicalSorting.R ' + modelPath + ' ' + edgesFile], shell=True) \n"
   ]
  },
  {
   "cell_type": "code",
   "execution_count": null,
   "id": "d513d388-9a5d-426f-99d8-c96cbedcc567",
   "metadata": {},
   "outputs": [],
   "source": [
    "topologicalSort_DF = pd.read_csv(os.path.join(get_model_directory_path(model_name, version ), 'topologicalSort_DF.txt'), sep=\"\\t\", header=None)"
   ]
  },
  {
   "cell_type": "code",
   "execution_count": null,
   "id": "39808f63-bfeb-4292-987a-fd3f0e963a9c",
   "metadata": {},
   "outputs": [],
   "source": [
    "topologicalSort_list = list(topologicalSort_DF.iloc[:,0])"
   ]
  },
  {
   "cell_type": "code",
   "execution_count": null,
   "id": "0df9180a-ba8e-4917-ae3b-394990cf9c4b",
   "metadata": {
    "tags": []
   },
   "outputs": [],
   "source": [
    "topologicalSort_list"
   ]
  },
  {
   "cell_type": "markdown",
   "id": "c3b35fdb-0654-4dab-b769-31079c6b423f",
   "metadata": {},
   "source": [
    "## System level "
   ]
  },
  {
   "cell_type": "code",
   "execution_count": null,
   "id": "57e4a3cf-fa5b-41d1-be40-915ac6fa7d9f",
   "metadata": {},
   "outputs": [],
   "source": [
    "# system_name_list = [\"Cluster5-3\", \"Cluster4-10\", \"Cluster1-26\", \"Cluster3-16\" , \"Cluster7-0\", \"Cluster5-8\", \"Cluster4-14\", \"Cluster2-41\", \"Cluster2-20\"]"
   ]
  },
  {
   "cell_type": "code",
   "execution_count": 15,
   "id": "2706757e-3ded-48ca-a09b-735c69b2a3c3",
   "metadata": {},
   "outputs": [],
   "source": [
    "if runMode == \"test\":\n",
    "    system_name_list = [\"Cluster5-3\"]#, \"Cluster4-10\", \"Cluster1-26\", \"Cluster3-16\" , \"Cluster7-0\", \"Cluster5-8\", \"Cluster4-14\", \"Cluster2-41\", \"Cluster2-20\"]\n",
    "else:\n",
    "    system_name_list = topologicalSort_list[1:5]"
   ]
  },
  {
   "cell_type": "code",
   "execution_count": null,
   "id": "ba393e1c-6952-42b7-8acb-9089e92d0112",
   "metadata": {},
   "outputs": [],
   "source": []
  },
  {
   "cell_type": "code",
   "execution_count": null,
   "id": "bc6ec70a-ce26-442c-bea5-dcc5d488cb9e",
   "metadata": {},
   "outputs": [
    {
     "name": "stdout",
     "output_type": "stream",
     "text": [
      "================================================\n",
      "Cluster5-3\n",
      "Fixing gene names\n",
      "Getting HUGO data\n",
      "Getting Uniprot data\n",
      "using hgnc table to map to uniprot ID\n",
      "using hgnc table to map to uniprot ID\n",
      "using hgnc table to map to uniprot ID\n",
      "using hgnc table to map to uniprot ID\n",
      "using hgnc table to map to uniprot ID\n",
      "using hgnc table to map to uniprot ID\n",
      "using hgnc table to map to uniprot ID\n",
      "using hgnc table to map to uniprot ID\n",
      "using hgnc table to map to uniprot ID\n",
      "using hgnc table to map to uniprot ID\n",
      "using hgnc table to map to uniprot ID\n",
      "using hgnc table to map to uniprot ID\n",
      "using hgnc table to map to uniprot ID\n",
      "using hgnc table to map to uniprot ID\n",
      "using hgnc table to map to uniprot ID\n",
      "using hgnc table to map to uniprot ID\n",
      "using hgnc table to map to uniprot ID\n",
      "using hgnc table to map to uniprot ID\n",
      "using hgnc table to map to uniprot ID\n",
      "using hgnc table to map to uniprot ID\n",
      "using hgnc table to map to uniprot ID\n",
      "using hgnc table to map to uniprot ID\n",
      "using hgnc table to map to uniprot ID\n",
      "using hgnc table to map to uniprot ID\n",
      "using hgnc table to map to uniprot ID\n",
      "using hgnc table to map to uniprot ID\n",
      "using hgnc table to map to uniprot ID\n",
      "using hgnc table to map to uniprot ID\n",
      "using hgnc table to map to uniprot ID\n",
      "using hgnc table to map to uniprot ID\n",
      "using hgnc table to map to uniprot ID\n",
      "using hgnc table to map to uniprot ID\n",
      "using hgnc table to map to uniprot ID\n"
     ]
    }
   ],
   "source": [
    "for system_name in system_name_list:\n",
    "    print(\"================================================\")\n",
    "    print(system_name)\n",
    "    ## Select the system and get genes\n",
    "    system = get_system(model, system_name)\n",
    "    system[\"genes_attribute\"] = \"CD_MemberList\"\n",
    "    genes = get_genes(system)\n",
    "    \n",
    "    if len(genes) > sizeThresh:\n",
    "        break # need to use different approach\n",
    "        # ToDo: write up approach for larger systems\n",
    "        \n",
    "    # print(f'{system_name}: {genes}')\n",
    "    \n",
    "    ## Fix names\n",
    "    if fixGeneNames:\n",
    "        print(\"Fixing gene names\")\n",
    "        genes_fixed = [fixGeneSymbol(gene) for gene in genes]\n",
    "        \n",
    "       # if testingFixingGenes:\n",
    "            #genes_fixed = [gene_fixed + '__fixed' for gene_fixed in genes_fixed] # only to make sure using the correct genes downstream\n",
    "        genes_fixed_str  = ' ' .join(genes_fixed)\n",
    "        \n",
    "        ## replace genes with fixed names in the  model itself because every other function is reading from the same name\n",
    "        set_genes(model, system_name, genes_fixed_str)    \n",
    "    \n",
    "    else:\n",
    "        genes_fixed = genes\n",
    "        \n",
    "            \n",
    "    ## Get the system again because modified names \n",
    "    system = get_system(model, system_name)\n",
    "    \n",
    "    ## Get HUGO data\n",
    "    print(\"Getting HUGO data\")\n",
    "    hugo_data = get_hugo_data(system) \n",
    "    \n",
    "    write_system_json(hugo_data, model_name, version, system_name, \"hugo\", get_root_path()) \n",
    "\n",
    "    ## Get genes from model data for system\n",
    "    gene_candidacy_text = make_gene_candidacy_text(gene_data, get_genes(system))\n",
    "    \n",
    "    ## Get Uniprot Data\n",
    "    print(\"Getting Uniprot data\")\n",
    "    \n",
    "    # SA: here getting Uniprot IDs\n",
    "   # uniprotIDs = [FixGeneSymbols.latestGeneSymbol_2_uniprotID(gene) for gene in genes_fixed]\n",
    "    \n",
    "    # Q: a couple of genes map to multiple uniprot IDs, what to do with them?\n",
    "    ## Q: How to integrate uniprotIDs with downstream analyses \n",
    "\n",
    "    # Q: does the downstream function read_system_json  use the updated model?\n",
    "    \n",
    "    # Gathers a protein's function, pathway, disease association, aliases, and summary description data from the uniprot database using its REST api\n",
    "    hugo_data = read_system_json(model_name, version +'/'+ system_name, system_name, \"hugo\", get_root_path()) # SA modified\n",
    "    uniprot_data = get_uniprot_data_for_system(system, useHGNC_Uniprot, hugo_data=hugo_data) # calls FixGeneSymbols.latestGeneSymbol_2_uniprotID\n",
    "    write_system_json(uniprot_data, model_name, version, system_name, \"uniprot\", get_root_path()) # SA modified\n",
    "    \n",
    "    ## Summarized Features\n",
    "    # analyze the information to find features shared between n or more system proteins\n",
    "    print(\"Summarizing features\")\n",
    "    summarized_features = summarize_uniprot_features(uniprot_data)\n",
    "    tsv_data = summarized_uniprot_features_to_tsv(summarized_features)\n",
    "    write_system_tsv(tsv_data, model_name, version +'/' + system_name, system_name, \"uniprot_summary\", get_root_path()) # SA modified\n",
    "    tsv_file = StringIO(tsv_data)\n",
    "    df = pd.read_csv(tsv_file, sep='\\t')\n",
    "    \n",
    "    ## Create Prompts\n",
    "    print(\"Creating prompts\")\n",
    "    prompt = create_nesa_chatGPT_prompt(get_genes(system), tsv_data, gene_candidacy_text =gene_candidacy_text)\n",
    "    prompt_page = create_system_prompt_page(system_name, prompt)\n",
    "    write_system_page(prompt_page, model_name, version +'/'+ system_name, system_name, \"chatgtp_prompt\", get_root_path())\n",
    "    analysis_page = create_nesa_system_analysis_page(model_name, version, system_name, get_genes(system), tsv_data)\n",
    "    write_system_page(analysis_page, model_name, version +'/'+ system_name, system_name, \"analysis\", get_root_path())\n",
    "\n",
    "    \n",
    "    ## ToDo: \n",
    "        # automatically call chatGPT with prompt\n",
    "        # save chatGPT response\n",
    "        # grab the name that chatGPT provided\n",
    "        # validate references - Ingoo \n",
    "    "
   ]
  },
  {
   "cell_type": "code",
   "execution_count": null,
   "id": "2dbca0ce-f6e2-41b6-b186-8253f5af0778",
   "metadata": {},
   "outputs": [],
   "source": [
    "# update the model page to include links to the new pages\n",
    "write_model_page(model_name, version , get_root_path())"
   ]
  },
  {
   "cell_type": "code",
   "execution_count": null,
   "id": "bd1cc495-518c-4928-9521-6237399a70ac",
   "metadata": {},
   "outputs": [],
   "source": []
  },
  {
   "cell_type": "code",
   "execution_count": null,
   "id": "3e16a03e",
   "metadata": {},
   "outputs": [],
   "source": [
    "# return prompt as html or json"
   ]
  },
  {
   "cell_type": "code",
   "execution_count": null,
   "id": "3fa91d89",
   "metadata": {},
   "outputs": [],
   "source": []
  },
  {
   "cell_type": "code",
   "execution_count": null,
   "id": "dccd6858",
   "metadata": {},
   "outputs": [],
   "source": []
  },
  {
   "cell_type": "code",
   "execution_count": null,
   "id": "416b1c1f",
   "metadata": {},
   "outputs": [],
   "source": []
  },
  {
   "cell_type": "code",
   "execution_count": null,
   "id": "6ef26e71",
   "metadata": {},
   "outputs": [],
   "source": []
  },
  {
   "cell_type": "code",
   "execution_count": null,
   "id": "84091f78",
   "metadata": {},
   "outputs": [],
   "source": []
  },
  {
   "cell_type": "code",
   "execution_count": null,
   "id": "c790bca1",
   "metadata": {},
   "outputs": [],
   "source": []
  },
  {
   "cell_type": "code",
   "execution_count": null,
   "id": "64c37d92",
   "metadata": {},
   "outputs": [],
   "source": []
  }
 ],
 "metadata": {
  "kernelspec": {
   "display_name": "annotate_hierarchy",
   "language": "python",
   "name": "annotate_hierarchy"
  },
  "language_info": {
   "codemirror_mode": {
    "name": "ipython",
    "version": 3
   },
   "file_extension": ".py",
   "mimetype": "text/x-python",
   "name": "python",
   "nbconvert_exporter": "python",
   "pygments_lexer": "ipython3",
   "version": "3.11.3"
  }
 },
 "nbformat": 4,
 "nbformat_minor": 5
}
