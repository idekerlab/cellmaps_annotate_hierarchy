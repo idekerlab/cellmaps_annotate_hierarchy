{
 "cells": [
  {
   "cell_type": "markdown",
   "id": "da41b9ff",
   "metadata": {},
   "source": [
    "### Load the multi-scale map\n"
   ]
  },
  {
   "cell_type": "code",
   "execution_count": 1,
   "id": "b5e3b07f-c223-46a9-b6d4-903f1612f1de",
   "metadata": {},
   "outputs": [],
   "source": [
    "import sys,os,os.path\n",
    "os.environ['MODEL_ANNOTATION_ROOT']='Desktop/projects/model_annotation/'"
   ]
  },
  {
   "cell_type": "code",
   "execution_count": 2,
   "id": "a3410635-9b92-491c-b521-78383337a8f0",
   "metadata": {},
   "outputs": [
    {
     "data": {
      "text/plain": [
       "'Desktop/projects/model_annotation/'"
      ]
     },
     "execution_count": 2,
     "metadata": {},
     "output_type": "execute_result"
    }
   ],
   "source": [
    "os.getenv(\"MODEL_ANNOTATION_ROOT\")"
   ]
  },
  {
   "cell_type": "code",
   "execution_count": 3,
   "id": "df870ed3-1f25-43a3-801e-efdab05ca4ed",
   "metadata": {
    "tags": []
   },
   "outputs": [],
   "source": [
    "## Parameters to edit\n",
    "runMode   = \"test\" # \"test\",  \"full\"\n",
    "sizeThresh = 50 # ToDo: use third quartile value\n",
    "fixGeneNames = True \n",
    "useHGNC_Uniprot = True"
   ]
  },
  {
   "cell_type": "markdown",
   "id": "539f04d3-6f46-422b-bfe2-9d00ecedd49d",
   "metadata": {},
   "source": [
    "### Load the libraries and functions"
   ]
  },
  {
   "cell_type": "code",
   "execution_count": 4,
   "id": "00845c64-d1ca-4a10-9e45-35602636d520",
   "metadata": {},
   "outputs": [
    {
     "name": "stderr",
     "output_type": "stream",
     "text": [
      "/Users/salkhairy/Desktop/projects/cellmaps_annotate_hierarchy/cellmaps_annotate_hierarchy/FixGeneSymbols.py:15: DtypeWarning: Columns (32,34,38,40,50) have mixed types. Specify dtype option on import or set low_memory=False.\n",
      "  hgnc_raw_DF = pd.read_csv('lib/hgnc_idsymbolnamelocus_grouplocus_typestatus.txt', sep = '\\t', dtype = {'hgnc_id': str, 'uniprot_ids': str, 'symbol':str})\n"
     ]
    }
   ],
   "source": [
    "import os\n",
    "import pandas as pd\n",
    "import json\n",
    "import networkx as nx\n",
    "\n",
    "from file_io import get_model_directory_path, read_system_json, write_system_json, write_system_tsv, get_root_path\n",
    "from model_cx2 import get_system, get_genes, getSystemIndex, set_genes\n",
    "from hugo import get_hugo_data\n",
    "from uniprot import get_uniprot_data_for_system, summarize_uniprot_features, summarized_uniprot_features_to_tsv\n",
    "from io import StringIO\n",
    "from chatgpt_prompts import create_system_prompt_page, create_nesa_chatGPT_prompt, add_uniprot_feature_summary\n",
    "from pages import write_system_page, write_model_page, dataframe_to_html_table\n",
    "import cx2_network\n",
    "\n"
   ]
  },
  {
   "cell_type": "code",
   "execution_count": 5,
   "id": "33247ec6-0920-4818-973b-67eaa0c98bd5",
   "metadata": {},
   "outputs": [],
   "source": [
    "from FixGeneSymbols import fixGeneSymbol, latestGeneSymbol_2_uniprotID, latestGeneSymbol_2_uniprotID_Dict"
   ]
  },
  {
   "cell_type": "code",
   "execution_count": null,
   "id": "3cafc144-b440-4e74-8403-c748876f3f07",
   "metadata": {},
   "outputs": [],
   "source": []
  },
  {
   "cell_type": "code",
   "execution_count": 6,
   "id": "86980667-10bf-4ff8-b799-88da69d6d3c8",
   "metadata": {
    "tags": []
   },
   "outputs": [],
   "source": [
    "def dataframe_to_dict(df):\n",
    "    \"\"\"\n",
    "    Convert a pandas DataFrame into a dictionary indexed by the first column.\n",
    "\n",
    "    :param df: The pandas DataFrame to convert.\n",
    "    :return: A dictionary indexed by the first column.\n",
    "    \"\"\"\n",
    "    # Set the index to be the first column\n",
    "    df = df.set_index(df.columns[0])\n",
    "\n",
    "    # Convert the DataFrame to a dictionary\n",
    "    result_dict = df.to_dict(orient='index')\n",
    "\n",
    "    return result_dict\n",
    "\n",
    "def make_gene_candidacy_text(gene_data, selected_genes):\n",
    "    attribute_descriptions = {\n",
    "        'hasHighConfidenceMut': \"Genes with high confidence mutation in ASD-diagnosed individuals:\",\n",
    "        'in_WES_2020': \"ASD-risk genes identified in Satterstrom et al., 2020:\",\n",
    "       # 'in_WES_2022': \"ASD-risk genes identified in Fu et al., 2022:\",\n",
    "        'connectedToASDPPI': \"Proteins connected to ASD-risk proteins (AP-MS experiment):\" # ASD-PPI preys\n",
    "\n",
    "      #  'in_SFARI_cat_2_3': \"ASD-risk in SFARI categories 2 and 3:\"\n",
    "    }\n",
    "    attributes = {key: [] for key in attribute_descriptions.keys()}\n",
    "\n",
    "    for gene, attributes_data in gene_data.items():\n",
    "        if gene not in selected_genes:\n",
    "            continue\n",
    "        for attribute in attributes.keys():\n",
    "            if attributes_data[attribute] == 1:\n",
    "                attributes[attribute].append(gene)\n",
    "\n",
    "    text_output = ''\n",
    "    for attribute, genes in attributes.items():\n",
    "        if len(genes) != 0:\n",
    "            gene_list = ', '.join(genes)\n",
    "            text_output += f\"{attribute_descriptions[attribute]} {gene_list}\\n\"\n",
    "\n",
    "    return text_output.strip()"
   ]
  },
  {
   "cell_type": "code",
   "execution_count": 7,
   "id": "d0c889b9-164c-4cc7-a534-dbbbd9408af0",
   "metadata": {
    "tags": []
   },
   "outputs": [],
   "source": [
    "def create_nesa_system_analysis_page(model_name, version, system_name, protein_list, tsv_data, n_genes=2):\n",
    "\n",
    "\n",
    "    # Read the TSV data into a DataFrame\n",
    "    tsv_file = StringIO(tsv_data)\n",
    "    df = pd.read_csv(tsv_file, sep='\\t')\n",
    "\n",
    "    # Filter the DataFrame based on the n_genes criterion\n",
    "    df = df[df['Number of Genes'] >= n_genes]\n",
    "    \n",
    "    uniprot_table = dataframe_to_html_table(df)\n",
    "\n",
    "    # Create the ChatGPT analysis section with a placeholder for the analysis text\n",
    "    chatgpt_analysis = \"<h2>ChatGPT 4 Analysis</h2>\\n<p>Paste ChatGPT analysis here:</p>\\n<!-- Analysis goes here -->\"\n",
    "\n",
    "    page_title = f\"{system_name} Summary\"\n",
    "    \n",
    "    # Create the HTML page with the system summary\n",
    "    html_page = f\"<!DOCTYPE html>\\n<html>\\n<head>\\n<title>{page_title}</title>\\n<style>\\n \\\n",
    "              body {{background-color: skyblue;}} \\n \\\n",
    "              h1, h2 {{color: white; font-family: 'Roboto', sans-serif;}} \\n \\\n",
    "              </style>\\n</head>\\n<body>\\n<h1>{system_name} System Summary</h1>\\n \\\n",
    "              <h2>{model_name}: {version}</h2>\\n \\\n",
    "              \\n{chatgpt_analysis}\\\n",
    "              <h2>Proteins</h2>\\n<p>{', '.join(protein_list)}</p>\\n \\\n",
    "              <h2>UniProt Data</h2>\\n{uniprot_table}\\n \\\n",
    "              </body>\\n</html>\"\n",
    "    \n",
    "    #html_page = f\"<!DOCTYPE html>\\n<html>\\n<head>\\n<title>{page_title}</title>\\n</head>\\n<body>\\n<h1>{system_name} System Summary</h1>\\n<h2>Proteins</h2>\\n<p>{', '.join(protein_list)}</p>\\n<h2>UniProt Data</h2>\\n{uniprot_table}\\n{chatgpt_analysis}\\n</body>\\n</html>\"\n",
    "\n",
    "    return html_page"
   ]
  },
  {
   "cell_type": "markdown",
   "id": "13e2988e-7f05-4ac9-ad39-3e0bd596b7ee",
   "metadata": {},
   "source": [
    "## Multi-scale map level "
   ]
  },
  {
   "cell_type": "code",
   "execution_count": 8,
   "id": "34370249-a2fa-435c-ae52-d695514ec9d9",
   "metadata": {},
   "outputs": [
    {
     "name": "stdout",
     "output_type": "stream",
     "text": [
      "/Users/salkhairy/Desktop/projects/model_annotation/nesa/Krogan_230424\n",
      "/Users/salkhairy/Desktop/projects/model_annotation/nesa/Krogan_230424/hidef_50_0.75_5_leiden.edges.cx2\n"
     ]
    }
   ],
   "source": [
    "model_name = \"nesa\"\n",
    "version = \"Krogan_230424\"\n",
    "model_cx2_filename = \"hidef_50_0.75_5_leiden.edges.cx2\"\n",
    "print(get_model_directory_path(model_name, version))\n",
    "model_path = os.path.join(get_model_directory_path(model_name, version), model_cx2_filename)\n",
    "print(model_path)\n",
    "with open(model_path, encoding='utf-8') as f:\n",
    "    data = f.read()\n",
    "    model = json.loads(data)\n",
    "#print(model)"
   ]
  },
  {
   "cell_type": "code",
   "execution_count": 9,
   "id": "b0c37d2e-3a8e-4e7b-8438-c8456a592214",
   "metadata": {
    "tags": []
   },
   "outputs": [],
   "source": [
    "# print(model)"
   ]
  },
  {
   "cell_type": "code",
   "execution_count": 10,
   "id": "58e46de2-6066-45bd-be4c-70ad8585270d",
   "metadata": {},
   "outputs": [],
   "source": [
    "# This NeSA-specific excel spreadsheet contains ASD gene candidacy information\n",
    "# Set the file path for 'geneCandidacy_DF.xlsx' in the 'nesa' folder\n",
    "file_path = os.path.join(get_model_directory_path(model_name, version ), 'geneCandidacy_DF.xlsx')  # SA: Note \n",
    "\n",
    "# Load the first worksheet of the Excel file into a DataFrame\n",
    "df = pd.read_excel(file_path, sheet_name=0)\n",
    "\n",
    "# Convert the DataFrame to a dictionary indexed by the first column\n",
    "gene_data = dataframe_to_dict(df)\n"
   ]
  },
  {
   "cell_type": "markdown",
   "id": "4a3a5b93-855a-4623-bbed-391c65c3701a",
   "metadata": {},
   "source": [
    "### Perform topological sorting of systems"
   ]
  },
  {
   "cell_type": "code",
   "execution_count": 11,
   "id": "487caeb3-e736-494d-9830-679df3736a86",
   "metadata": {},
   "outputs": [],
   "source": [
    "## Done using R's igraph package because Python has major limitations"
   ]
  },
  {
   "cell_type": "code",
   "execution_count": 12,
   "id": "aaa974fc",
   "metadata": {},
   "outputs": [],
   "source": [
    "import subprocess"
   ]
  },
  {
   "cell_type": "code",
   "execution_count": 13,
   "id": "d9dfff70-8a26-4849-ab95-dc8567ea584b",
   "metadata": {},
   "outputs": [],
   "source": [
    "modelPath = get_model_directory_path(model_name, version )"
   ]
  },
  {
   "cell_type": "code",
   "execution_count": 14,
   "id": "7ca85459-0c2a-4d27-a056-c41868f2cd8c",
   "metadata": {},
   "outputs": [],
   "source": [
    "edgesFile = 'hidef_50_0.75_5_leiden.edges'"
   ]
  },
  {
   "cell_type": "code",
   "execution_count": 15,
   "id": "b2609806-1744-432c-b70b-1c1a45b20473",
   "metadata": {
    "tags": []
   },
   "outputs": [
    {
     "name": "stderr",
     "output_type": "stream",
     "text": [
      "── Attaching core tidyverse packages ──────────────────────── tidyverse 2.0.0 ──\n",
      "✔ dplyr     1.1.1     ✔ readr     2.1.4\n",
      "✔ forcats   1.0.0     ✔ stringr   1.5.0\n",
      "✔ ggplot2   3.4.2     ✔ tibble    3.2.1\n",
      "✔ lubridate 1.9.2     ✔ tidyr     1.3.0\n",
      "✔ purrr     1.0.1     \n",
      "── Conflicts ────────────────────────────────────────── tidyverse_conflicts() ──\n",
      "✖ dplyr::arrange()   masks plyr::arrange()\n",
      "✖ purrr::compact()   masks plyr::compact()\n",
      "✖ dplyr::count()     masks plyr::count()\n",
      "✖ dplyr::desc()      masks plyr::desc()\n",
      "✖ dplyr::failwith()  masks plyr::failwith()\n",
      "✖ dplyr::filter()    masks stats::filter()\n",
      "✖ dplyr::id()        masks plyr::id()\n",
      "✖ dplyr::lag()       masks stats::lag()\n",
      "✖ dplyr::mutate()    masks plyr::mutate()\n",
      "✖ dplyr::rename()    masks plyr::rename()\n",
      "✖ dplyr::summarise() masks plyr::summarise()\n",
      "✖ dplyr::summarize() masks plyr::summarize()\n",
      "ℹ Use the conflicted package (<http://conflicted.r-lib.org/>) to force all conflicts to become errors\n",
      "\n",
      "Attaching package: ‘igraph’\n",
      "\n",
      "The following objects are masked from ‘package:lubridate’:\n",
      "\n",
      "    %--%, union\n",
      "\n",
      "The following objects are masked from ‘package:dplyr’:\n",
      "\n",
      "    as_data_frame, groups, union\n",
      "\n",
      "The following objects are masked from ‘package:purrr’:\n",
      "\n",
      "    compose, simplify\n",
      "\n",
      "The following object is masked from ‘package:tidyr’:\n",
      "\n",
      "    crossing\n",
      "\n",
      "The following object is masked from ‘package:tibble’:\n",
      "\n",
      "    as_data_frame\n",
      "\n",
      "The following objects are masked from ‘package:stats’:\n",
      "\n",
      "    decompose, spectrum\n",
      "\n",
      "The following object is masked from ‘package:base’:\n",
      "\n",
      "    union\n",
      "\n",
      "Rows: 264 Columns: 3\n",
      "── Column specification ────────────────────────────────────────────────────────\n",
      "Delimiter: \"\\t\"\n",
      "chr (3): X1, X2, X3\n",
      "\n",
      "ℹ Use `spec()` to retrieve the full column specification for this data.\n",
      "ℹ Specify the column types or set `show_col_types = FALSE` to quiet this message.\n",
      "Warning message:\n",
      "`data_frame()` was deprecated in tibble 1.1.0.\n",
      "ℹ Please use `tibble()` instead. \n"
     ]
    },
    {
     "data": {
      "text/plain": [
       "CompletedProcess(args=['/usr/local/bin/Rscript --vanilla TopologicalSorting.R /Users/salkhairy/Desktop/projects/model_annotation/nesa/Krogan_230424 hidef_50_0.75_5_leiden.edges'], returncode=0)"
      ]
     },
     "execution_count": 15,
     "metadata": {},
     "output_type": "execute_result"
    }
   ],
   "source": [
    "subprocess.run(['/usr/local/bin/Rscript --vanilla TopologicalSorting.R ' + modelPath + ' ' + edgesFile], shell=True) \n"
   ]
  },
  {
   "cell_type": "code",
   "execution_count": 16,
   "id": "d513d388-9a5d-426f-99d8-c96cbedcc567",
   "metadata": {},
   "outputs": [],
   "source": [
    "topologicalSort_DF = pd.read_csv(os.path.join(get_model_directory_path(model_name, version ), 'topologicalSort_DF.txt'), sep=\"\\t\", header=None)"
   ]
  },
  {
   "cell_type": "code",
   "execution_count": 17,
   "id": "39808f63-bfeb-4292-987a-fd3f0e963a9c",
   "metadata": {},
   "outputs": [],
   "source": [
    "topologicalSort_list = list(topologicalSort_DF.iloc[:,0])"
   ]
  },
  {
   "cell_type": "code",
   "execution_count": 18,
   "id": "0df9180a-ba8e-4917-ae3b-394990cf9c4b",
   "metadata": {
    "tags": []
   },
   "outputs": [
    {
     "data": {
      "text/plain": [
       "['Cluster1-16',\n",
       " 'Cluster1-17',\n",
       " 'Cluster1-22',\n",
       " 'Cluster1-23',\n",
       " 'Cluster1-24',\n",
       " 'Cluster1-26',\n",
       " 'Cluster1-27',\n",
       " 'Cluster2-54',\n",
       " 'Cluster3-15',\n",
       " 'Cluster3-25',\n",
       " 'Cluster3-26',\n",
       " 'Cluster2-20',\n",
       " 'Cluster2-36',\n",
       " 'Cluster2-37',\n",
       " 'Cluster2-39',\n",
       " 'Cluster2-40',\n",
       " 'Cluster4-12',\n",
       " 'Cluster4-14',\n",
       " 'Cluster4-20',\n",
       " 'Cluster2-47',\n",
       " 'Cluster3-33',\n",
       " 'Cluster3-20',\n",
       " 'Cluster3-34',\n",
       " 'Cluster3-37',\n",
       " 'Cluster3-39',\n",
       " 'Cluster3-32',\n",
       " 'Cluster2-52',\n",
       " 'Cluster3-22',\n",
       " 'Cluster2-32',\n",
       " 'Cluster4-4',\n",
       " 'Cluster4-32',\n",
       " 'Cluster4-2',\n",
       " 'Cluster2-16',\n",
       " 'Cluster2-30',\n",
       " 'Cluster2-24',\n",
       " 'Cluster2-38',\n",
       " 'Cluster2-25',\n",
       " 'Cluster2-43',\n",
       " 'Cluster2-53',\n",
       " 'Cluster2-46',\n",
       " 'Cluster2-49',\n",
       " 'Cluster2-55',\n",
       " 'Cluster2-27',\n",
       " 'Cluster2-21',\n",
       " 'Cluster5-6',\n",
       " 'Cluster5-19',\n",
       " 'Cluster4-33',\n",
       " 'Cluster4-10',\n",
       " 'Cluster4-11',\n",
       " 'Cluster4-21',\n",
       " 'Cluster4-25',\n",
       " 'Cluster4-30',\n",
       " 'Cluster2-15',\n",
       " 'Cluster2-45',\n",
       " 'Cluster2-26',\n",
       " 'Cluster2-34',\n",
       " 'Cluster5-16',\n",
       " 'Cluster5-18',\n",
       " 'Cluster5-22',\n",
       " 'Cluster3-16',\n",
       " 'Cluster3-18',\n",
       " 'Cluster3-30',\n",
       " 'Cluster3-11',\n",
       " 'Cluster2-31',\n",
       " 'Cluster3-29',\n",
       " 'Cluster3-17',\n",
       " 'Cluster3-40',\n",
       " 'Cluster4-17',\n",
       " 'Cluster5-23',\n",
       " 'Cluster2-51',\n",
       " 'Cluster2-28',\n",
       " 'Cluster3-23',\n",
       " 'Cluster3-35',\n",
       " 'Cluster3-41',\n",
       " 'Cluster6-8',\n",
       " 'Cluster5-3',\n",
       " 'Cluster5-10',\n",
       " 'Cluster4-22',\n",
       " 'Cluster4-23',\n",
       " 'Cluster4-27',\n",
       " 'Cluster6-5',\n",
       " 'Cluster4-34',\n",
       " 'Cluster5-7',\n",
       " 'Cluster5-13',\n",
       " 'Cluster5-15',\n",
       " 'Cluster5-8',\n",
       " 'Cluster5-11',\n",
       " 'Cluster3-27',\n",
       " 'Cluster3-38',\n",
       " 'Cluster2-50',\n",
       " 'Cluster6-9',\n",
       " 'Cluster6-3',\n",
       " 'Cluster6-4',\n",
       " 'Cluster6-2',\n",
       " 'Cluster7-1',\n",
       " 'Cluster7-2',\n",
       " 'Cluster4-18',\n",
       " 'Cluster5-14',\n",
       " 'Cluster4-28',\n",
       " 'Cluster5-21',\n",
       " 'Cluster7-0',\n",
       " 'Cluster7-3',\n",
       " 'Cluster4-26',\n",
       " 'Cluster3-24',\n",
       " 'Cluster2-44',\n",
       " 'Cluster5-17',\n",
       " 'Cluster2-48',\n",
       " 'Cluster2-42',\n",
       " 'Cluster6-7',\n",
       " 'Cluster5-20',\n",
       " 'Cluster7-4',\n",
       " 'Cluster4-35',\n",
       " 'Cluster2-35',\n",
       " 'Cluster2-14',\n",
       " 'Cluster3-36',\n",
       " 'Cluster1-9',\n",
       " 'Cluster2-41',\n",
       " 'Cluster4-1',\n",
       " 'Cluster2-9',\n",
       " 'Cluster2-22',\n",
       " 'Cluster2-10',\n",
       " 'Cluster2-12',\n",
       " 'Cluster1-21',\n",
       " 'Cluster1-13',\n",
       " 'Cluster1-14',\n",
       " 'Cluster2-18',\n",
       " 'Cluster2-19',\n",
       " 'Cluster4-6',\n",
       " 'Cluster3-14',\n",
       " 'Cluster4-7',\n",
       " 'Cluster4-8',\n",
       " 'Cluster2-23',\n",
       " 'Cluster1-15',\n",
       " 'Cluster5-2',\n",
       " 'Cluster5-4',\n",
       " 'Cluster5-5',\n",
       " 'Cluster6-0',\n",
       " 'Cluster3-19',\n",
       " 'Cluster4-13',\n",
       " 'Cluster3-21',\n",
       " 'Cluster4-15',\n",
       " 'Cluster4-29',\n",
       " 'Cluster4-31',\n",
       " 'Cluster6-1',\n",
       " 'Cluster4-16',\n",
       " 'Cluster3-28',\n",
       " 'Cluster2-29',\n",
       " 'Cluster1-18',\n",
       " 'Cluster4-19',\n",
       " 'Cluster1-19',\n",
       " 'Cluster1-25',\n",
       " 'Cluster1-20',\n",
       " 'Cluster5-12',\n",
       " 'Cluster4-24',\n",
       " 'Cluster6-6',\n",
       " 'Cluster3-31',\n",
       " 'Cluster1-10',\n",
       " 'Cluster1-11',\n",
       " 'Cluster2-13',\n",
       " 'Cluster3-10',\n",
       " 'Cluster1-12',\n",
       " 'Cluster4-5',\n",
       " 'Cluster4-9',\n",
       " 'Cluster5-0',\n",
       " 'Cluster2-11',\n",
       " 'Cluster3-13',\n",
       " 'Cluster2-17',\n",
       " 'Cluster3-12',\n",
       " 'Cluster5-1',\n",
       " 'Cluster3-2',\n",
       " 'Cluster1-3',\n",
       " 'Cluster3-4',\n",
       " 'Cluster3-5',\n",
       " 'Cluster5-9',\n",
       " 'Cluster2-33',\n",
       " 'Cluster2-5',\n",
       " 'Cluster3-3',\n",
       " 'Cluster3-9',\n",
       " 'Cluster3-7',\n",
       " 'Cluster4-0',\n",
       " 'Cluster1-7',\n",
       " 'Cluster2-8',\n",
       " 'Cluster3-6',\n",
       " 'Cluster3-8',\n",
       " 'Cluster1-4',\n",
       " 'Cluster1-5',\n",
       " 'Cluster2-3',\n",
       " 'Cluster2-6',\n",
       " 'Cluster4-3',\n",
       " 'Cluster1-6',\n",
       " 'Cluster2-4',\n",
       " 'Cluster2-7',\n",
       " 'Cluster3-0',\n",
       " 'Cluster1-8',\n",
       " 'Cluster2-2',\n",
       " 'Cluster3-1',\n",
       " 'Cluster1-2',\n",
       " 'Cluster2-0',\n",
       " 'Cluster2-1',\n",
       " 'Cluster1-0',\n",
       " 'Cluster1-1',\n",
       " 'Cluster0-0']"
      ]
     },
     "execution_count": 18,
     "metadata": {},
     "output_type": "execute_result"
    }
   ],
   "source": [
    "topologicalSort_list"
   ]
  },
  {
   "cell_type": "markdown",
   "id": "c3b35fdb-0654-4dab-b769-31079c6b423f",
   "metadata": {},
   "source": [
    "## System level "
   ]
  },
  {
   "cell_type": "code",
   "execution_count": 19,
   "id": "57e4a3cf-fa5b-41d1-be40-915ac6fa7d9f",
   "metadata": {},
   "outputs": [],
   "source": [
    "# system_name_list = [\"Cluster5-3\", \"Cluster4-10\", \"Cluster1-26\", \"Cluster3-16\" , \"Cluster7-0\", \"Cluster5-8\", \"Cluster4-14\", \"Cluster2-41\", \"Cluster2-20\"]"
   ]
  },
  {
   "cell_type": "code",
   "execution_count": 20,
   "id": "2706757e-3ded-48ca-a09b-735c69b2a3c3",
   "metadata": {},
   "outputs": [],
   "source": [
    "if runMode == \"test\":\n",
    "    system_name_list = [\"Cluster5-3\"]#, \"Cluster4-10\", \"Cluster1-26\", \"Cluster3-16\" , \"Cluster7-0\", \"Cluster5-8\", \"Cluster4-14\", \"Cluster2-41\", \"Cluster2-20\"]\n",
    "else:\n",
    "    system_name_list = topologicalSort_list"
   ]
  },
  {
   "cell_type": "code",
   "execution_count": null,
   "id": "ba393e1c-6952-42b7-8acb-9089e92d0112",
   "metadata": {},
   "outputs": [],
   "source": []
  },
  {
   "cell_type": "code",
   "execution_count": 21,
   "id": "bc6ec70a-ce26-442c-bea5-dcc5d488cb9e",
   "metadata": {
    "tags": []
   },
   "outputs": [
    {
     "name": "stdout",
     "output_type": "stream",
     "text": [
      "================================================\n",
      "Cluster5-3\n",
      "Fixing gene names\n",
      "Getting HUGO data\n",
      "Getting Uniprot data\n",
      "Summarizing features\n",
      "Creating prompts\n"
     ]
    }
   ],
   "source": [
    "for system_name in system_name_list:\n",
    "    print(\"================================================\")\n",
    "    print(system_name)\n",
    "    ## Select the system and get genes\n",
    "    system = get_system(model, system_name)\n",
    "    system[\"genes_attribute\"] = \"CD_MemberList\"\n",
    "    genes = get_genes(system)\n",
    "    \n",
    "    if len(genes) > sizeThresh:\n",
    "        break # need to use different approach\n",
    "        # ToDo: write up approach for larger systems - Clara ToDo\n",
    "        \n",
    "    # print(f'{system_name}: {genes}')\n",
    "    \n",
    "    ## Fix names\n",
    "    if fixGeneNames:\n",
    "        print(\"Fixing gene names\")\n",
    "        genes_fixed = [fixGeneSymbol(gene) for gene in genes]\n",
    "        \n",
    "       # if testingFixingGenes:\n",
    "            #genes_fixed = [gene_fixed + '__fixed' for gene_fixed in genes_fixed] # only to make sure using the correct genes downstream\n",
    "        genes_fixed_str  = ' ' .join(genes_fixed)\n",
    "        \n",
    "        ## replace genes with fixed names in the  model itself because every other function is reading from the same name\n",
    "        set_genes(model, system_name, genes_fixed_str)    \n",
    "    \n",
    "    else:\n",
    "        genes_fixed = genes\n",
    "        \n",
    "            \n",
    "    ## Get the system again because modified names \n",
    "    system = get_system(model, system_name)\n",
    "    \n",
    "    ## Get HUGO data\n",
    "    print(\"Getting HUGO data\")\n",
    "    hugo_data = get_hugo_data(system) \n",
    "    \n",
    "    write_system_json(hugo_data, model_name, version, system_name, \"hugo\", get_root_path()) \n",
    "\n",
    "    ## Get genes from model data for system\n",
    "    gene_candidacy_text = make_gene_candidacy_text(gene_data, get_genes(system))\n",
    "    \n",
    "    ## Get Uniprot Data\n",
    "    print(\"Getting Uniprot data\")\n",
    "    \n",
    "    # SA: here getting Uniprot IDs\n",
    "   # uniprotIDs = [FixGeneSymbols.latestGeneSymbol_2_uniprotID(gene) for gene in genes_fixed]\n",
    "    \n",
    "    # Q: a couple of genes map to multiple uniprot IDs, what to do with them?\n",
    "    ## Q: How to integrate uniprotIDs with downstream analyses \n",
    "\n",
    "    # Q: does the downstream function read_system_json  use the updated model?\n",
    "    \n",
    "    # Gathers a protein's function, pathway, disease association, aliases, and summary description data from the uniprot database using its REST api\n",
    "    hugo_data = read_system_json(model_name, version +'/'+ system_name, system_name, \"hugo\", get_root_path()) # SA modified\n",
    "    uniprot_data = get_uniprot_data_for_system(system, useHGNC_Uniprot, hugo_data=hugo_data) # calls FixGeneSymbols.latestGeneSymbol_2_uniprotID\n",
    "    write_system_json(uniprot_data, model_name, version, system_name, \"uniprot\", get_root_path()) # SA modified\n",
    "    \n",
    "    ## Summarized Features\n",
    "    # analyze the information to find features shared between n or more system proteins\n",
    "    print(\"Summarizing features\")\n",
    "    summarized_features = summarize_uniprot_features(uniprot_data)\n",
    "    tsv_data = summarized_uniprot_features_to_tsv(summarized_features)\n",
    "    write_system_tsv(tsv_data, model_name, version +'/' + system_name, system_name, \"uniprot_summary\", get_root_path()) # SA modified\n",
    "    tsv_file = StringIO(tsv_data)\n",
    "    df = pd.read_csv(tsv_file, sep='\\t')\n",
    "    \n",
    "    ## Create Prompts\n",
    "    print(\"Creating prompts\")\n",
    "    prompt = create_nesa_chatGPT_prompt(get_genes(system), tsv_data, gene_candidacy_text =gene_candidacy_text)\n",
    "    prompt_page = create_system_prompt_page(system_name, prompt)\n",
    "    write_system_page(prompt_page, model_name, version +'/'+ system_name, system_name, \"chatgtp_prompt\", get_root_path())\n",
    "    analysis_page = create_nesa_system_analysis_page(model_name, version, system_name, get_genes(system), tsv_data)\n",
    "    write_system_page(analysis_page, model_name, version +'/'+ system_name, system_name, \"analysis\", get_root_path())\n",
    "\n",
    "    \n",
    "    ## ToDo: \n",
    "        # automatically call chatGPT with prompt\n",
    "        # save chatGPT response\n",
    "        # grab the name that chatGPT provided\n",
    "        # validate references - Ingoo \n",
    "    "
   ]
  },
  {
   "cell_type": "code",
   "execution_count": 22,
   "id": "2dbca0ce-f6e2-41b6-b186-8253f5af0778",
   "metadata": {},
   "outputs": [],
   "source": [
    "# update the model page to include links to the new pages\n",
    "write_model_page(model_name, version , get_root_path())"
   ]
  },
  {
   "cell_type": "code",
   "execution_count": null,
   "id": "bd1cc495-518c-4928-9521-6237399a70ac",
   "metadata": {},
   "outputs": [],
   "source": []
  },
  {
   "cell_type": "code",
   "execution_count": 23,
   "id": "3e16a03e",
   "metadata": {},
   "outputs": [],
   "source": [
    "# return prompt as html or json"
   ]
  },
  {
   "cell_type": "code",
   "execution_count": null,
   "id": "3fa91d89",
   "metadata": {},
   "outputs": [],
   "source": []
  },
  {
   "cell_type": "code",
   "execution_count": null,
   "id": "dccd6858",
   "metadata": {},
   "outputs": [],
   "source": []
  },
  {
   "cell_type": "code",
   "execution_count": null,
   "id": "416b1c1f",
   "metadata": {},
   "outputs": [],
   "source": []
  },
  {
   "cell_type": "code",
   "execution_count": null,
   "id": "6ef26e71",
   "metadata": {},
   "outputs": [],
   "source": []
  },
  {
   "cell_type": "code",
   "execution_count": null,
   "id": "84091f78",
   "metadata": {},
   "outputs": [],
   "source": []
  },
  {
   "cell_type": "code",
   "execution_count": null,
   "id": "c790bca1",
   "metadata": {},
   "outputs": [],
   "source": []
  },
  {
   "cell_type": "code",
   "execution_count": null,
   "id": "64c37d92",
   "metadata": {},
   "outputs": [],
   "source": []
  }
 ],
 "metadata": {
  "kernelspec": {
   "display_name": "annotate_hierarchy",
   "language": "python",
   "name": "annotate_hierarchy"
  },
  "language_info": {
   "codemirror_mode": {
    "name": "ipython",
    "version": 3
   },
   "file_extension": ".py",
   "mimetype": "text/x-python",
   "name": "python",
   "nbconvert_exporter": "python",
   "pygments_lexer": "ipython3",
   "version": "3.11.3"
  }
 },
 "nbformat": 4,
 "nbformat_minor": 5
}
