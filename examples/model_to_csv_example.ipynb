{
 "cells": [
  {
   "cell_type": "code",
   "execution_count": 4,
   "id": "b4ce427b",
   "metadata": {},
   "outputs": [],
   "source": [
    "import ndex2 as nc\n",
    "\n",
    "ndexuser = \"examplemodel\"\n",
    "ndexpassword = \"modelx\"\n",
    "SERVER = 'http://ndexbio.org'\n"
   ]
  },
  {
   "cell_type": "code",
   "execution_count": 12,
   "id": "f9654b90",
   "metadata": {},
   "outputs": [
    {
     "data": {
      "text/plain": [
       "'hidef_on_bc_ppi_minkyu'"
      ]
     },
     "execution_count": 12,
     "metadata": {},
     "output_type": "execute_result"
    }
   ],
   "source": [
    "import pandas as pd\n",
    "model_uuid = \"61a58f6e-ed06-11ed-b4a3-005056ae23aa\"\n",
    "model = nc.create_nice_cx_from_server(SERVER, uuid=model_uuid, username=ndexuser, password=ndexpassword)\n"
   ]
  },
  {
   "cell_type": "code",
   "execution_count": 13,
   "id": "c831aa89",
   "metadata": {},
   "outputs": [],
   "source": [
    "import pandas as pd\n",
    "from datetime import datetime\n",
    "import os\n",
    "\n",
    "def add_row(df, type_value, text_value):\n",
    "    # Create a new DataFrame with the values\n",
    "    new_row = pd.DataFrame({\"type\": [type_value], \"text\": [text_value]})\n",
    "    \n",
    "    # Append the new row to the existing DataFrame\n",
    "    df = df.append(new_row, ignore_index=True)\n",
    "\n",
    "    return df\n",
    "\n",
    "def write_csv(dataframe, name):\n",
    "    # Ensure the directory exists\n",
    "    directory = os.path.expanduser('~/csv_upload/')\n",
    "    if not os.path.exists(directory):\n",
    "        os.makedirs(directory)\n",
    "\n",
    "    # Get current date and time\n",
    "    now = datetime.now()\n",
    "\n",
    "    # Format date and time\n",
    "    date_time = now.strftime(\"%Y_%m_%d-%H_%M_%S\")\n",
    "\n",
    "    # Create filename based on name and current date and time\n",
    "    filename = f\"{directory}{name}_{date_time}.csv\"\n",
    "\n",
    "    # Write DataFrame to CSV file\n",
    "    dataframe.to_csv(filename, index=False)\n",
    "\n",
    "    print(f\"File saved to: {filename}\")\n",
    "    return filename\n"
   ]
  },
  {
   "cell_type": "code",
   "execution_count": 70,
   "id": "8fe5b3cd",
   "metadata": {},
   "outputs": [],
   "source": [
    "import os\n",
    "import json\n",
    "\n",
    "def get_cached_dictionary(cache, cache_file):\n",
    "    if cache is not None:\n",
    "        return cache\n",
    "    else:\n",
    "        # Check if the cache_file exists before trying to read it\n",
    "        if os.path.exists(cache_file):\n",
    "            with open(cache_file, 'r') as file:\n",
    "                cache_data = json.load(file)\n",
    "            return cache_data\n",
    "        else:\n",
    "            # If the cache_file doesn't exist, return an empty dictionary\n",
    "            return {}\n",
    "\n",
    "def save_cached_dictionary(cache_data, cache_file):\n",
    "    with open(cache_file, 'w') as file:\n",
    "        json.dump(cache_data, file)\n",
    "        \n",
    "def get_model_json_cache_file_name(name):\n",
    "    # Ensure the directory exists\n",
    "    directory = os.path.expanduser('~/json_cache/')\n",
    "    if not os.path.exists(directory):\n",
    "        os.makedirs(directory)\n",
    "\n",
    "    # Get current date and time\n",
    "    now = datetime.now()\n",
    "\n",
    "    # Format date and time\n",
    "    date_time = now.strftime(\"%Y_%m_%d-%H_%M_%S\")\n",
    "\n",
    "    # Create filename based on name and current date and time\n",
    "    filename = f\"{directory}{name}.json\"\n",
    "    return filename\n",
    "    \n",
    "def dict_to_dataframe(dict_of_dicts):\n",
    "    # Convert the dictionary of dictionaries to a DataFrame\n",
    "    df = pd.DataFrame(dict_of_dicts).T\n",
    "\n",
    "    # Reset the index to make the index (the 'thing') a column\n",
    "    df.reset_index(inplace=True)\n",
    "\n",
    "    # Rename the index column to 'system'\n",
    "    df.rename(columns={'index': 'system'}, inplace=True)\n",
    "\n",
    "    return df\n"
   ]
  },
  {
   "cell_type": "code",
   "execution_count": 75,
   "id": "7b55b076",
   "metadata": {},
   "outputs": [],
   "source": [
    "import openai\n",
    "import os\n",
    "\n",
    "# Load the API key from an environment variable or secret management service\n",
    "openai.api_key = os.getenv(\"OPENAI_API_KEY\")\n",
    "\n",
    "\n",
    "def process_system(model, system_name, model_analysis):\n",
    "    print(system_name)\n",
    "    system = model.get_node_by_name(system_name)\n",
    "    system_info = {}\n",
    "    genes = model.get_node_attribute_value(system, \"CD_MemberList\").split(\" \")\n",
    "    print(genes)\n",
    "    user_prompt = make_user_prompt(genes)\n",
    "    system_prompt = \"You are assisting a molecular biologist to analyze systems of interacting proteins\"\n",
    "    response = gpt_4_query(system_prompt, user_prompt)\n",
    "    analysis = response['choices'][0]['message']['content']\n",
    "    system_info[\"analysis\"] = analysis\n",
    "    model_analysis[system_name] = system_info\n",
    "\n",
    "\n",
    "def make_user_prompt(genes):\n",
    "    \"\"\"\n",
    "    Create a ChatGPT prompt based on the system network.\n",
    "    :return: A string containing the ChatGPT prompt text\n",
    "    \"\"\"\n",
    "\n",
    "    general_analysis_instructions = \"\\nSave any summary analysis of the system to the last paragraph. \\\n",
    "    \\nAvoid overly general statements of how the proteins are involved in various cellular processes\\\n",
    "    \\nUse gene symbols, not the full gene names\\\n",
    "    \\nPut the proposed system name at the beginning of the analysis\\\n",
    "    \\nBe brief, avoid using unneccesary words\\\n",
    "    \\nAvoid recapitulating the goals of the analysis.\"\n",
    "\n",
    "    task_instructions = \"Let's write a critical analysis of this system of interacting proteins.\\\n",
    "    \\nWork step by step. For each important point, describe your reasoning.\\\n",
    "    \\nWhat mechanisms and biological processes are performed by this system?\\\n",
    "    \\nWhat cellular components and complexes are involved in this system?\\n\\\n",
    "    \\nPropose a name for the system. The name should be very brief. Do not compose an acronym.\"\n",
    "\n",
    "    # Generate the ChatGPT prompt in HTML format\n",
    "    prompt_text = task_instructions\n",
    "    prompt_text += general_analysis_instructions\n",
    "    prompt_text += \"\\n\\nHere are the interacting proteins:\\n\"\n",
    "    prompt_text += f'\\nProteins: '\n",
    "    prompt_text += \", \".join(genes) + \".\\n\\n\"\n",
    "\n",
    "    return prompt_text\n",
    "\n",
    "\n",
    "def gpt_4_query (system_prompt, user_prompt):\n",
    "    #print(system_prompt)\n",
    "    print(user_prompt)\n",
    "    response = openai.ChatCompletion.create(\n",
    "      model=\"gpt-4\",\n",
    "      messages=[\n",
    "            {\"role\": \"system\", \"content\": system_prompt},\n",
    "            {\"role\": \"user\", \"content\": user_prompt}\n",
    "      ]\n",
    "    )\n",
    "    #print(response)\n",
    "    return response\n",
    "\n"
   ]
  },
  {
   "cell_type": "code",
   "execution_count": 76,
   "id": "4950749b",
   "metadata": {},
   "outputs": [
    {
     "name": "stdout",
     "output_type": "stream",
     "text": [
      "C2368\n",
      "['CBFB', 'HSPA2', 'HSPA4', 'HSPA4L', 'HSPBP1', 'HSPH1', 'RUNX1', 'RUNX2']\n",
      "Let's write a critical analysis of this system of interacting proteins.    \n",
      "Work step by step. For each important point, describe your reasoning.    \n",
      "What mechanisms and biological processes are performed by this system?    \n",
      "What cellular components and complexes are involved in this system?\n",
      "    \n",
      "Propose a name for the system. The name should be very brief. Do not compose an acronym.\n",
      "Save any summary analysis of the system to the last paragraph.     \n",
      "Avoid overly general statements of how the proteins are involved in various cellular processes    \n",
      "Use gene symbols, not the full gene names    \n",
      "Put the proposed system name at the beginning of the analysis    \n",
      "Be brief, avoid using unneccesary words    \n",
      "Avoid recapitulating the goals of the analysis.\n",
      "\n",
      "Here are the interacting proteins:\n",
      "\n",
      "Proteins: CBFB, HSPA2, HSPA4, HSPA4L, HSPBP1, HSPH1, RUNX1, RUNX2.\n",
      "\n",
      "\n"
     ]
    },
    {
     "data": {
      "text/html": [
       "<div>\n",
       "<style scoped>\n",
       "    .dataframe tbody tr th:only-of-type {\n",
       "        vertical-align: middle;\n",
       "    }\n",
       "\n",
       "    .dataframe tbody tr th {\n",
       "        vertical-align: top;\n",
       "    }\n",
       "\n",
       "    .dataframe thead th {\n",
       "        text-align: right;\n",
       "    }\n",
       "</style>\n",
       "<table border=\"1\" class=\"dataframe\">\n",
       "  <thead>\n",
       "    <tr style=\"text-align: right;\">\n",
       "      <th></th>\n",
       "      <th>system</th>\n",
       "      <th>analysis</th>\n",
       "    </tr>\n",
       "  </thead>\n",
       "  <tbody>\n",
       "    <tr>\n",
       "      <th>0</th>\n",
       "      <td>C2385</td>\n",
       "      <td>DNA Damage Response and Cell Cycle Regulation ...</td>\n",
       "    </tr>\n",
       "    <tr>\n",
       "      <th>1</th>\n",
       "      <td>C2368</td>\n",
       "      <td>Protein Interaction System: Chaperone-RUNX Com...</td>\n",
       "    </tr>\n",
       "  </tbody>\n",
       "</table>\n",
       "</div>"
      ],
      "text/plain": [
       "  system                                           analysis\n",
       "0  C2385  DNA Damage Response and Cell Cycle Regulation ...\n",
       "1  C2368  Protein Interaction System: Chaperone-RUNX Com..."
      ]
     },
     "execution_count": 76,
     "metadata": {},
     "output_type": "execute_result"
    }
   ],
   "source": [
    "# for system_id, system in model.get_nodes():\n",
    "#    process_system(system)\n",
    "\n",
    "\n",
    "model_name = model.get_network_attribute(\"name\").get(\"v\")\n",
    "model_cache_file = get_model_json_cache_file_name(model_name)\n",
    "model_analysis = get_cached_dictionary(None, model_cache_file)\n",
    "process_system(model, \"C2368\", model_analysis)\n",
    "save_cached_dictionary(model_analysis, model_cache_file)\n",
    "model_df = dict_to_dataframe(model_analysis)\n",
    "model_df"
   ]
  },
  {
   "cell_type": "code",
   "execution_count": 77,
   "id": "16f79a9c",
   "metadata": {},
   "outputs": [
    {
     "data": {
      "text/plain": [
       "{'C2385': {'analysis': \"DNA Damage Response and Cell Cycle Regulation System\\n\\nThe DNA Damage Response and Cell Cycle Regulation System includes CDKN2AIP, CDKN2AIPNL, KPNA1, KPNA6, NKRF, and XRN2. These proteins interact and together play significant roles in DNA damage response, cell cycle regulation, and regulation of gene expression.\\n\\nCDKN2AIP, also known as Cyclin-Dependent Kinase Inhibitor 2A Interacting Protein, is known to interact with CDKN2A and enhance its stability, thus leading to cell cycle arrest at the G1 checkpoint (1). CDKN2AIPNL, the long-noncoding RNA, has been reported to play a role in cellular response to DNA damage, specifically in the context of homologous recombination repair (2).\\n\\nKPNA1 and KPNA6, Karyopherin alpha subfamily members, are involved in the nuclear import of proteins containing a specific nuclear localization signal (3). Both are known to play essential roles in various biological processes, including cell cycle progression (4).\\n\\nNKRF, the NF-kappa-B repressing factor, acts as a transcriptional repressor and is involved in regulating the inflammatory response and cell cycle progression, partly through its interaction with NF-kappa-B-responsive promoters (5). XRN2, 5'-3' exoribonuclease 2, is involved in transcription termination, mRNA decay, and maturation of microRNAs (6).\\n\\nTogether, these proteins form a multifaceted system involved in DNA damage response, cell cycle regulation, and gene expression modulation. Integrating their functions, the system may have significant implications in the maintenance of genomic stability and prevention of diseases associated with DNA damage and cell cycle dysregulation, such as cancer.\\n\\n1. Zhang Y, Xiong Y, & Yarbrough WG (1998). ARF promotes MDM2 degradation and stabilizes p53: ARF-INK4a locus deletion impairs both the Rb and p53 tumor suppression pathways. Cell. 92(6):725-34. DOI: 10.1016/S0092-8674(00)81401-4\\n2. Gao Q, et al. (2014). A critical role of the long non-coding RNA GAS5 in the cellular response to DNA damage. RNA Biol. 11(11):1357-67. DOI: 10.4161/15476286.2014.992278\\n3. Stewart M (2007). Molecular mechanism of the nuclear protein import cycle. Nat. Rev. Mol. Cell Biol. 8(3):195-208. DOI: 10.1038/nrm2114\\n4. Görlich D, & Kutay U (1999). Transport between the cell nucleus and the cytoplasm. Annu. Rev. Cell Dev. Biol. 15:607-660. DOI: 10.1146/annurev.cellbio.15.1.607\\n5. Chen T, & Li M (2004). Structure and function of eukaryotic DNA helicases. Crit. Rev. Biochem. Mol. Biol. 39(5):379-408. DOI: 10.1080/10409230490906807\\n6. Brannan K & Bentley DL (2012). Control of transcriptional pausing by XRN2 and TFIIS_establishes a 'default'RNA polymerase II elongation pathway.'Nature Communications, 3(1), 664. DOI: 10.1038/ncomms166910\"},\n",
       " 'C2368': {'analysis': 'Protein Interaction System: Chaperone-RUNX Complex\\n\\nMechanisms and biological processes:\\nThe Chaperone-RUNX Complex primarily involves two types of proteins: heat shock proteins (HSPA2, HSPA4, HSPA4L, HSPBP1, and HSPH1) and RUNX proteins (RUNX1 and RUNX2). Heat shock proteins play essential roles in cellular stress response, protein folding and assembly, and protection of proteins from unfolding and aggregation, while RUNX proteins are transcription factors involved in regulation of cell differentiation, proliferation, and apoptosis.\\n\\nCellular components and complexes:\\nCBFB protein forms a complex with RUNX1 and RUNX2 to regulate gene expression. The CBFB-RUNX1/RUNX2 complex is crucial for numerous developmental processes like hematopoiesis and osteogenesis. The five heat shock proteins (HSPA2, HSPA4, HSPA4L, HSPBP1, and HSPH1) likely assist the CBFB-RUNX1/RUNX2 complex in maintaining the proper folding and stability of the proteins, possibly regulating activity and localization within the cell.\\n\\nProposed system name: Chaperone-RUNX Complex\\n\\nIn conclusion, the Chaperone-RUNX Complex represents a functionally intertwined system of proteins involved in transcription regulation and cellular stress response. The heat shock proteins likely support the RUNX transcription factors, and the CBFB protein facilitates the formation of the CBFB-RUNX1/RUNX2 complex, highlighting the coordinated interplay of signaling and regulation mechanisms within this system.'}}"
      ]
     },
     "execution_count": 77,
     "metadata": {},
     "output_type": "execute_result"
    }
   ],
   "source": [
    "model_analysis = get_cached_dictionary(model_analysis, model_cache_file)\n",
    "model_analysis"
   ]
  },
  {
   "cell_type": "code",
   "execution_count": 67,
   "id": "bac081e1",
   "metadata": {},
   "outputs": [
    {
     "name": "stdout",
     "output_type": "stream",
     "text": [
      "File saved to: /Users/depratt/csv_upload/hidef_on_bc_ppi_minkyu_2023_05_14-16_35_44.csv\n"
     ]
    },
    {
     "data": {
      "text/plain": [
       "'/Users/depratt/csv_upload/hidef_on_bc_ppi_minkyu_2023_05_14-16_35_44.csv'"
      ]
     },
     "execution_count": 67,
     "metadata": {},
     "output_type": "execute_result"
    }
   ],
   "source": [
    "write_csv(model_df, model_name)"
   ]
  },
  {
   "cell_type": "code",
   "execution_count": 49,
   "id": "7de712cf",
   "metadata": {},
   "outputs": [
    {
     "data": {
      "text/html": [
       "<div>\n",
       "<style scoped>\n",
       "    .dataframe tbody tr th:only-of-type {\n",
       "        vertical-align: middle;\n",
       "    }\n",
       "\n",
       "    .dataframe tbody tr th {\n",
       "        vertical-align: top;\n",
       "    }\n",
       "\n",
       "    .dataframe thead th {\n",
       "        text-align: right;\n",
       "    }\n",
       "</style>\n",
       "<table border=\"1\" class=\"dataframe\">\n",
       "  <thead>\n",
       "    <tr style=\"text-align: right;\">\n",
       "      <th></th>\n",
       "      <th>system</th>\n",
       "      <th>analysis</th>\n",
       "    </tr>\n",
       "  </thead>\n",
       "  <tbody>\n",
       "    <tr>\n",
       "      <th>0</th>\n",
       "      <td>C2410</td>\n",
       "      <td>System Analysis: The system of interacting pro...</td>\n",
       "    </tr>\n",
       "  </tbody>\n",
       "</table>\n",
       "</div>"
      ],
      "text/plain": [
       "  system                                           analysis\n",
       "0  C2410  System Analysis: The system of interacting pro..."
      ]
     },
     "execution_count": 49,
     "metadata": {},
     "output_type": "execute_result"
    }
   ],
   "source": [
    "foo = {\"system\": [\"C2410\"], \"analysis\": [content]}\n",
    "model_df = pd.DataFrame(foo)\n",
    "model_df"
   ]
  },
  {
   "cell_type": "code",
   "execution_count": null,
   "id": "b957ba9d",
   "metadata": {},
   "outputs": [],
   "source": [
    "content = model_analysis[\"C2410\"][\"analysis\"]['choices'][0]['message']['content']\n",
    "model_analysis[\"C2410\"][\"analysis\"] = content"
   ]
  }
 ],
 "metadata": {
  "kernelspec": {
   "display_name": "Python 3 (ipykernel)",
   "language": "python",
   "name": "python3"
  },
  "language_info": {
   "codemirror_mode": {
    "name": "ipython",
    "version": 3
   },
   "file_extension": ".py",
   "mimetype": "text/x-python",
   "name": "python",
   "nbconvert_exporter": "python",
   "pygments_lexer": "ipython3",
   "version": "3.9.7"
  }
 },
 "nbformat": 4,
 "nbformat_minor": 5
}
